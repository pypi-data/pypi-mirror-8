{
 "metadata": {
  "name": "",
  "signature": "sha256:765b88a12af775911b61971157bcb6ea7add12ba4ed7f889203cb6d180010921"
 },
 "nbformat": 3,
 "nbformat_minor": 0,
 "worksheets": [
  {
   "cells": [
    {
     "cell_type": "code",
     "collapsed": false,
     "input": [
      "import pandas as pd"
     ],
     "language": "python",
     "metadata": {},
     "outputs": [],
     "prompt_number": 1
    },
    {
     "cell_type": "code",
     "collapsed": false,
     "input": [
      "df = pd.read_csv('dd.csv', index_col=[0])"
     ],
     "language": "python",
     "metadata": {},
     "outputs": [],
     "prompt_number": 4
    },
    {
     "cell_type": "code",
     "collapsed": false,
     "input": [
      "df.head()"
     ],
     "language": "python",
     "metadata": {},
     "outputs": [
      {
       "html": [
        "<div style=\"max-height:1000px;max-width:1500px;overflow:auto;\">\n",
        "<table border=\"1\" class=\"dataframe\">\n",
        "  <thead>\n",
        "    <tr style=\"text-align: right;\">\n",
        "      <th></th>\n",
        "      <th>ctryname</th>\n",
        "      <th>cowcode2</th>\n",
        "      <th>politycode</th>\n",
        "      <th>un_region_name</th>\n",
        "      <th>un_continent_name</th>\n",
        "      <th>ehead</th>\n",
        "      <th>leaderspellreg</th>\n",
        "      <th>democracy</th>\n",
        "      <th>regime</th>\n",
        "      <th>start_year</th>\n",
        "      <th>duration</th>\n",
        "      <th>observed</th>\n",
        "    </tr>\n",
        "  </thead>\n",
        "  <tbody>\n",
        "    <tr>\n",
        "      <th>1</th>\n",
        "      <td> Afghanistan</td>\n",
        "      <td> 700</td>\n",
        "      <td> 700</td>\n",
        "      <td> Southern Asia</td>\n",
        "      <td> Asia</td>\n",
        "      <td>   Mohammad Zahir Shah</td>\n",
        "      <td> Mohammad Zahir Shah.Afghanistan.1946.1952.Mona...</td>\n",
        "      <td> Non-democracy</td>\n",
        "      <td>      Monarchy</td>\n",
        "      <td> 1946</td>\n",
        "      <td>  7</td>\n",
        "      <td> 1</td>\n",
        "    </tr>\n",
        "    <tr>\n",
        "      <th>2</th>\n",
        "      <td> Afghanistan</td>\n",
        "      <td> 700</td>\n",
        "      <td> 700</td>\n",
        "      <td> Southern Asia</td>\n",
        "      <td> Asia</td>\n",
        "      <td> Sardar Mohammad Daoud</td>\n",
        "      <td> Sardar Mohammad Daoud.Afghanistan.1953.1962.Ci...</td>\n",
        "      <td> Non-democracy</td>\n",
        "      <td> Civilian Dict</td>\n",
        "      <td> 1953</td>\n",
        "      <td> 10</td>\n",
        "      <td> 1</td>\n",
        "    </tr>\n",
        "    <tr>\n",
        "      <th>3</th>\n",
        "      <td> Afghanistan</td>\n",
        "      <td> 700</td>\n",
        "      <td> 700</td>\n",
        "      <td> Southern Asia</td>\n",
        "      <td> Asia</td>\n",
        "      <td>   Mohammad Zahir Shah</td>\n",
        "      <td> Mohammad Zahir Shah.Afghanistan.1963.1972.Mona...</td>\n",
        "      <td> Non-democracy</td>\n",
        "      <td>      Monarchy</td>\n",
        "      <td> 1963</td>\n",
        "      <td> 10</td>\n",
        "      <td> 1</td>\n",
        "    </tr>\n",
        "    <tr>\n",
        "      <th>4</th>\n",
        "      <td> Afghanistan</td>\n",
        "      <td> 700</td>\n",
        "      <td> 700</td>\n",
        "      <td> Southern Asia</td>\n",
        "      <td> Asia</td>\n",
        "      <td> Sardar Mohammad Daoud</td>\n",
        "      <td> Sardar Mohammad Daoud.Afghanistan.1973.1977.Ci...</td>\n",
        "      <td> Non-democracy</td>\n",
        "      <td> Civilian Dict</td>\n",
        "      <td> 1973</td>\n",
        "      <td>  5</td>\n",
        "      <td> 0</td>\n",
        "    </tr>\n",
        "    <tr>\n",
        "      <th>5</th>\n",
        "      <td> Afghanistan</td>\n",
        "      <td> 700</td>\n",
        "      <td> 700</td>\n",
        "      <td> Southern Asia</td>\n",
        "      <td> Asia</td>\n",
        "      <td>   Nur Mohammad Taraki</td>\n",
        "      <td> Nur Mohammad Taraki.Afghanistan.1978.1978.Civi...</td>\n",
        "      <td> Non-democracy</td>\n",
        "      <td> Civilian Dict</td>\n",
        "      <td> 1978</td>\n",
        "      <td>  1</td>\n",
        "      <td> 0</td>\n",
        "    </tr>\n",
        "  </tbody>\n",
        "</table>\n",
        "</div>"
       ],
       "metadata": {},
       "output_type": "pyout",
       "prompt_number": 5,
       "text": [
        "      ctryname  cowcode2  politycode un_region_name un_continent_name  \\\n",
        "1  Afghanistan       700         700  Southern Asia              Asia   \n",
        "2  Afghanistan       700         700  Southern Asia              Asia   \n",
        "3  Afghanistan       700         700  Southern Asia              Asia   \n",
        "4  Afghanistan       700         700  Southern Asia              Asia   \n",
        "5  Afghanistan       700         700  Southern Asia              Asia   \n",
        "\n",
        "                   ehead                                     leaderspellreg  \\\n",
        "1    Mohammad Zahir Shah  Mohammad Zahir Shah.Afghanistan.1946.1952.Mona...   \n",
        "2  Sardar Mohammad Daoud  Sardar Mohammad Daoud.Afghanistan.1953.1962.Ci...   \n",
        "3    Mohammad Zahir Shah  Mohammad Zahir Shah.Afghanistan.1963.1972.Mona...   \n",
        "4  Sardar Mohammad Daoud  Sardar Mohammad Daoud.Afghanistan.1973.1977.Ci...   \n",
        "5    Nur Mohammad Taraki  Nur Mohammad Taraki.Afghanistan.1978.1978.Civi...   \n",
        "\n",
        "       democracy         regime  start_year  duration  observed  \n",
        "1  Non-democracy       Monarchy        1946         7         1  \n",
        "2  Non-democracy  Civilian Dict        1953        10         1  \n",
        "3  Non-democracy       Monarchy        1963        10         1  \n",
        "4  Non-democracy  Civilian Dict        1973         5         0  \n",
        "5  Non-democracy  Civilian Dict        1978         1         0  "
       ]
      }
     ],
     "prompt_number": 5
    },
    {
     "cell_type": "code",
     "collapsed": false,
     "input": [
      "%pylab inline\n",
      "figsize(12,8)\n",
      "ax = plt.subplot(111)\n",
      "\n",
      "\n",
      "T = df['duration']\n",
      "C = df['observed']\n",
      "\n",
      "kmf = KaplanMeierFitter()\n",
      "\n",
      "for r in df['regime'].unique()[:4]:\n",
      "    ix = df['regime'] == r\n",
      "    kmf.fit(T.ix[ix], C.ix[ix], label=r)\n",
      "    ax = kmf.plot(ax=ax)\n",
      "    \n",
      "plt.legend()"
     ],
     "language": "python",
     "metadata": {},
     "outputs": [
      {
       "output_type": "stream",
       "stream": "stdout",
       "text": [
        "Populating the interactive namespace from numpy and matplotlib\n"
       ]
      },
      {
       "metadata": {},
       "output_type": "pyout",
       "prompt_number": 8,
       "text": [
        "<matplotlib.legend.Legend at 0x107014a10>"
       ]
      },
      {
       "metadata": {},
       "output_type": "display_data",
       "png": "[encoded data removed]",
       "text": [
        "<matplotlib.figure.Figure at 0x10709c710>"
       ]
      }
     ],
     "prompt_number": 8
    },
    {
     "cell_type": "code",
     "collapsed": false,
     "input": [],
     "language": "python",
     "metadata": {},
     "outputs": []
    }
   ],
   "metadata": {}
  }
 ]
}