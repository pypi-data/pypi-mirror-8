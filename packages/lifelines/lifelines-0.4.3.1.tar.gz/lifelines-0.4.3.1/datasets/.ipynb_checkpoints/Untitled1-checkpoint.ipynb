{
 "metadata": {
  "name": "",
  "signature": "sha256:2ff838579b6052e23c2b0bbd3b429489e03b305b9bc3685d75472fb57de6453b"
 },
 "nbformat": 3,
 "nbformat_minor": 0,
 "worksheets": []
}