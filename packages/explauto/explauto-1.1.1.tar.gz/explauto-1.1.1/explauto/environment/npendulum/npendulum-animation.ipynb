{
 "metadata": {
  "name": "",
  "signature": "sha256:6aa5988e95590b6dd6eb1072ff694fe3f0f018dd9c1446662610f3da3f351193"
 },
 "nbformat": 3,
 "nbformat_minor": 0,
 "worksheets": [
  {
   "cells": [
    {
     "cell_type": "markdown",
     "metadata": {},
     "source": [
      "Explanations\n",
      "============\n",
      "\n",
      "In order to change the number of suspended particles, modify $n$. The total number of particles is $n+1$. We apply the input force to the first one *(Equations of Motion [2])*.\n",
      "\n",
      "We can change a few other values, stored in $parameter\\_vals$ *(Simulation [1])*.\n",
      "- $g$ : the gravity of Earth (9.81)\n",
      "- $m[0]$ : the mass of the first particle\n",
      "- $l[0]$ : the length of the first link\n",
      "- $m[1]$, and so on up to $l[n]$ and $m[n+1]$\n",
      "\n",
      "To change the input force *(Simulation [4])*, we must return a function $f$, that is *functor (lambda t: *input_function*(t))*.\n",
      "The example of input function models a step function, whose amplitude is $weigts$ and duration is $dt = 1s$.\n",
      "\n",
      "Then it is possible to change the initial state $x0$ (that contains both positions and speeds of each points) and the time vector $l0$ *(Simulation [5])*. \n",
      "\n",
      "-----------------------\n",
      "\n",
      "The *Plotting* section allows us to plot the position or the speed.\n",
      "\n",
      "The *Animation* section allows us to generate the complete movement.\n",
      "\n",
      "----------------------\n",
      "In the following, \"I\" refers to [Jason K. Moore](http://www.moorepants.info), author of the **[initiale version of this notebook](https://github.com/gilbertgede/idetc-2013-paper/blob/master/n-pendulum-control.ipynb)**."
     ]
    },
    {
     "cell_type": "markdown",
     "metadata": {},
     "source": [
      "Requirements\n",
      "============\n",
      "\n",
      "I used these software versions for the following computations:\n",
      "\n",
      "- IPython: 0.13.1.rc2\n",
      "- matplotlib: 1.1.1\n",
      "- NumPy: 1.6.2\n",
      "- SciPy: 0.10.1\n",
      "- SymPy: 0.7.2\n",
      "- python-control: 0.6d \n",
      "\n",
      "Equations of Motion\n",
      "===================\n",
      "\n",
      "We'll start by generating the equations of motion for the system with SymPy **[mechanics](http://docs.sympy.org/dev/modules/physics/mechanics/index.html)**. The functionality that mechanics provides is much more in depth than Mathematica's functionality. In the Mathematica example, Lagrangian mechanics were implemented manually with Mathematica's symbolic functionality. **mechanics** provides an assortment of functions and classes to derive the equations of motion for arbitrarily complex (i.e. configuration constraints, nonholonomic motion constraints, etc) multibody systems in a very natural way. First we import the necessary functionality from SymPy."
     ]
    },
    {
     "cell_type": "code",
     "collapsed": false,
     "input": [
      "from sympy import symbols\n",
      "from sympy.physics.mechanics import *\n",
      "from sympy import Dummy, lambdify\n",
      "from numpy import array, hstack, zeros, linspace, pi,floor\n",
      "from numpy.linalg import solve\n",
      "from scipy.integrate import odeint\n",
      "from numpy import zeros, cos, sin, arange, around\n",
      "from matplotlib import pyplot as plt\n",
      "from matplotlib import animation\n",
      "from matplotlib.patches import Rectangle\n",
      "\n",
      "%pylab"
     ],
     "language": "python",
     "metadata": {},
     "outputs": [
      {
       "output_type": "stream",
       "stream": "stdout",
       "text": [
        "Using matplotlib backend: Qt4Agg\n",
        "Populating the interactive namespace from numpy and matplotlib\n"
       ]
      },
      {
       "output_type": "stream",
       "stream": "stderr",
       "text": [
        "WARNING: pylab import has clobbered these variables: ['outer', 'cross', 'dot']\n",
        "`%matplotlib` prevents importing * from pylab and numpy\n"
       ]
      }
     ],
     "prompt_number": 1
    },
    {
     "cell_type": "markdown",
     "metadata": {},
     "source": [
      "Now specify the number of links, $n$. I'll start with 5 since the Wolfram folks only showed four."
     ]
    },
    {
     "cell_type": "code",
     "collapsed": false,
     "input": [
      "n = 5"
     ],
     "language": "python",
     "metadata": {},
     "outputs": []
    },
    {
     "cell_type": "markdown",
     "metadata": {},
     "source": [
      "**mechanics** will need the generalized coordinates, generalized speeds, and the input force which are all time dependent variables and the bob masses, link lengths, and acceleration due to gravity which are all constants. Time, $t$, is also made available because we will need to differentiate with respect to time.\n",
      "\n",
      "Now we can create and inertial reference frame $I$ and define the point, $O$, as the origin.\n",
      "\n",
      "Secondly, we define the define the first point of the pendulum as a particle which has mass. This point can only move laterally and represents the motion of the \"cart\".\n",
      "\n",
      "Now we can define the $n$ reference frames, particles, gravitational forces, and kinematical differential equations for each of the pendulum links. This is easily done with a loop."
     ]
    },
    {
     "cell_type": "code",
     "collapsed": false,
     "input": [
      "q = dynamicsymbols('q:' + str(n + 1))  # Generalized coordinates\n",
      "u = dynamicsymbols('u:' + str(n + 1))  # Generalized speeds\n",
      "f = dynamicsymbols('f')                # Force applied to the cart\n",
      "    \n",
      "m = symbols('m:' + str(n + 1))         # Mass of each bob\n",
      "l = symbols('l:' + str(n))             # Length of each link\n",
      "g, t = symbols('g t')                  # Gravity and time\n",
      "\n",
      "I = ReferenceFrame('I')                # Inertial reference frame\n",
      "O = Point('O')                         # Origin point\n",
      "O.set_vel(I, 0)                        # Origin's velocity is zero\n",
      "\n",
      "P0 = Point('P0')                       # Hinge point of top link\n",
      "P0.set_pos(O, q[0] * I.x)              # Set the position of P0    \n",
      "P0.set_vel(I, u[0] * I.x)              # Set the velocity of P0\n",
      "Pa0 = Particle('Pa0', P0, m[0])        # Define a particle at P0\n",
      "\n",
      "frames = [I]                              # List to hold the n + 1 frames\n",
      "points = [P0]                             # List to hold the n + 1 points\n",
      "particles = [Pa0]                         # List to hold the n + 1 particles\n",
      "forces = [(P0, f * I.x - m[0] * g * I.y)] # List to hold the n + 1 applied forces, including the input force, f\n",
      "kindiffs = [q[0].diff(t) - u[0]]          # List to hold kinematic ODE's\n",
      "\n",
      "for i in range(n):\n",
      "    Bi = I.orientnew('B' + str(i), 'Axis', [q[i + 1], I.z])   # Create a new frame\n",
      "    Bi.set_ang_vel(I, u[i + 1] * I.z)                         # Set angular velocity\n",
      "    frames.append(Bi)                                         # Add it to the frames list\n",
      "\n",
      "    Pi = points[-1].locatenew('P' + str(i + 1), l[i] * Bi.x)  # Create a new point\n",
      "    Pi.v2pt_theory(points[-1], I, Bi)                         # Set the velocity\n",
      "    points.append(Pi)                                         # Add it to the points list\n",
      "    \n",
      "    Pai = Particle('Pa' + str(i + 1), Pi, m[i + 1])           # Create a new particle\n",
      "    particles.append(Pai)                                     # Add it to the particles list\n",
      "\n",
      "    forces.append((Pi, -m[i + 1] * g * I.y))                  # Set the force applied at the point\n",
      "        \n",
      "    kindiffs.append(q[i + 1].diff(t) - u[i + 1])              # Define the kinematic ODE:  dq_i / dt - u_i = 0"
     ],
     "language": "python",
     "metadata": {},
     "outputs": []
    },
    {
     "cell_type": "markdown",
     "metadata": {},
     "source": [
      "With all of the necessary point velocities and particle masses defined, the `KanesMethod` class can be used to derive the equations of motion of the system automatically.\n",
      "\n",
      "The equations of motion are quite long. This is the general nature of most non-simple mutlibody problems. That is why a SymPy is so useful; no more mistakes in algegra, differentiation, or copying in hand written equations. "
     ]
    },
    {
     "cell_type": "code",
     "collapsed": false,
     "input": [
      "kane = KanesMethod(I, q_ind=q, u_ind=u, kd_eqs=kindiffs) # Initialize the object\n",
      "fr, frstar = kane.kanes_equations(forces, particles)     # Generate EoM's fr + frstar = 0"
     ],
     "language": "python",
     "metadata": {},
     "outputs": []
    },
    {
     "cell_type": "markdown",
     "metadata": {},
     "source": [
      "Simulation\n",
      "==========\n",
      "\n",
      "Now that the symbolic equations of motion are available we can simulate the pendulum's motion. \n",
      "\n",
      "First, define some numeric values for all of the constant parameters in the problem."
     ]
    },
    {
     "cell_type": "code",
     "collapsed": false,
     "input": [
      "arm_length = 1. / n                          # The maximum length of the pendulum is 1 meter\n",
      "bob_mass = 0.01 / n                          # The maximum mass of the bobs is 10 grams\n",
      "parameters = [g, m[0]]                       # Parameter definitions starting with gravity and the first bob\n",
      "parameter_vals = [9.81, 0.01 / n]            # Numerical values for the first two\n",
      "for i in range(n):                           # Then each mass and length\n",
      "    parameters += [l[i], m[i + 1]]            \n",
      "    parameter_vals += [arm_length, bob_mass]"
     ],
     "language": "python",
     "metadata": {},
     "outputs": [],
     "prompt_number": 33
    },
    {
     "cell_type": "markdown",
     "metadata": {},
     "source": [
      "Mathematica has a really nice `NDSolve` function for quickly integrating their symbolic differential equations. We have plans to develop something similar for SymPy but haven't found the development time yet to do it properly. So the next bit isn't as clean as we'd like but you can make use of SymPy's lambdify function to create functions that will evaluate the mass matrix, $M$, and forcing vector, $\\bar{f}$ from $M\\dot{u} = \\bar{f}(q, \\dot{q}, u, t)$ as a NumPy function. We make use of dummy symbols to replace the time varying functions in the SymPy equations a simple dummy symbol. "
     ]
    },
    {
     "cell_type": "code",
     "collapsed": false,
     "input": [
      "dynamic = q + u                                                # Make a list of the states\n",
      "dynamic.append(f)                                              # Add the input force\n",
      "dummy_symbols = [Dummy() for i in dynamic]                     # Create a dummy symbol for each variable\n",
      "dummy_dict = dict(zip(dynamic, dummy_symbols))                 \n",
      "kindiff_dict = kane.kindiffdict()                              # Get the solved kinematical differential equations\n",
      "M = kane.mass_matrix_full.subs(kindiff_dict).subs(dummy_dict)  # Substitute into the mass matrix \n",
      "F = kane.forcing_full.subs(kindiff_dict).subs(dummy_dict)      # Substitute into the forcing vector\n",
      "M_func = lambdify(dummy_symbols + parameters, M)               # Create a callable function to evaluate the mass matrix \n",
      "F_func = lambdify(dummy_symbols + parameters, F)               # Create a callable function to evaluate the forcing vector "
     ],
     "language": "python",
     "metadata": {},
     "outputs": [],
     "prompt_number": 34
    },
    {
     "cell_type": "markdown",
     "metadata": {},
     "source": [
      "To integrate the ODE's we need to define a function that returns the derivatives of the states given the current state and time."
     ]
    },
    {
     "cell_type": "code",
     "collapsed": false,
     "input": [
      "def functor(f):\n",
      "    def right_hand_side(x, t, args):\n",
      "        arguments = hstack((x, f(t), args))                    # States, input, and parameters\n",
      "        dx = array(solve(M_func(*arguments),                   # Solving for the derivatives\n",
      "            F_func(*arguments))).T[0]\n",
      "    \n",
      "        return dx\n",
      "    return right_hand_side"
     ],
     "language": "python",
     "metadata": {},
     "outputs": [],
     "prompt_number": 35
    },
    {
     "cell_type": "code",
     "collapsed": false,
     "input": [
      "weights = [0.01,0.06,-0.05,0.01,0.,0.,0.,0.,-0.1,0.01]\n",
      "dt = 1\n",
      "\n",
      "def activate (t, dt):\n",
      "    return  0 <= t < dt\n",
      "\n",
      "f = functor (lambda t: sum([w * activate(t - i * dt, dt) for i, w in enumerate(weights)]))"
     ],
     "language": "python",
     "metadata": {},
     "outputs": [],
     "prompt_number": 36
    },
    {
     "cell_type": "markdown",
     "metadata": {},
     "source": [
      "Now that we have the right hand side function, the initial conditions are set such that the pendulum is in the vertical equilibrium and a slight initial rate is set for each speed to ensure the pendulum falls. The equations can then be integrated with SciPy's `odeint` function given a time series."
     ]
    },
    {
     "cell_type": "code",
     "collapsed": false,
     "input": [
      "x0 = hstack(( 0, -pi / 2 * ones(len(q) - 1), 0 * ones(len(u)) )) # Initial conditions, q and u\n",
      "t = linspace(0, 10, 1000)                                        # Time vector\n",
      "y = odeint(f, x0, t, args=(parameter_vals,))                     # Actual integration\n",
      "y[3, 0]"
     ],
     "language": "python",
     "metadata": {},
     "outputs": [
      {
       "metadata": {},
       "output_type": "pyout",
       "prompt_number": 37,
       "text": [
        "0.0022133086808378325"
       ]
      }
     ],
     "prompt_number": 37
    },
    {
     "cell_type": "markdown",
     "metadata": {},
     "source": [
      "Plotting\n",
      "========\n",
      "\n",
      "The results of the simulation can be plotted with matplotlib."
     ]
    },
    {
     "cell_type": "code",
     "collapsed": false,
     "input": [
      "lines = plot(t, y[:, :y.shape[1] / 2])\n",
      "lab = xlabel('Time [sec]')\n",
      "leg = legend(dynamic[:y.shape[1] / 2])"
     ],
     "language": "python",
     "metadata": {},
     "outputs": [],
     "prompt_number": 38
    },
    {
     "cell_type": "code",
     "collapsed": false,
     "input": [
      "lines = plot(t, y[:, y.shape[1] / 2:])\n",
      "lab = xlabel('Time [sec]')\n",
      "leg = legend(dynamic[y.shape[1] / 2:])"
     ],
     "language": "python",
     "metadata": {},
     "outputs": [],
     "prompt_number": 18
    },
    {
     "cell_type": "markdown",
     "metadata": {},
     "source": [
      "Animation\n",
      "=========\n",
      "\n",
      "The following function was modeled from Jake Vanderplas's [post on matplotlib animations](http://jakevdp.github.com/blog/2012/08/18/matplotlib-animation-tutorial/)."
     ]
    },
    {
     "cell_type": "code",
     "collapsed": false,
     "input": [
      "def animate_pendulum(t, states, length, filename=None):\n",
      "    \"\"\"Animates the n-pendulum and optionally saves it to file.\n",
      "\n",
      "    Parameters\n",
      "    ----------\n",
      "    t : ndarray, shape(m)\n",
      "        Time array.\n",
      "    states: ndarray, shape(m,p)\n",
      "        State time history.\n",
      "    length: float\n",
      "        The length of the pendulum links.\n",
      "    filename: string or None, optional\n",
      "        If true a movie file will be saved of the animation. This may take some time.\n",
      "\n",
      "    Returns\n",
      "    -------\n",
      "    fig : matplotlib.Figure\n",
      "        The figure.\n",
      "    anim : matplotlib.FuncAnimation\n",
      "        The animation.\n",
      "\n",
      "    \"\"\"\n",
      "    # the number of pendulum bobs\n",
      "    numpoints = states.shape[1] / 2\n",
      "\n",
      "    # first set up the figure, the axis, and the plot elements we want to animate\n",
      "    fig = plt.figure()\n",
      "    \n",
      "    # some dimesions\n",
      "    cart_width = 0.4\n",
      "    cart_height = 0.2\n",
      "    \n",
      "    # set the limits based on the motion\n",
      "    xmin = around(states[:, 0].min() - cart_width / 2.0, 1)\n",
      "    xmax = around(states[:, 0].max() + cart_width / 2.0, 1)\n",
      "    \n",
      "    # create the axes\n",
      "    ax = plt.axes(xlim=(xmin, xmax), ylim=(-1.1, 1.1))\n",
      "    \n",
      "    # display the current time\n",
      "    time_text = ax.text(0.04, 0.9, '', transform=ax.transAxes)\n",
      "    \n",
      "    # create a rectangular cart\n",
      "    rect = Rectangle([states[0, 0] - cart_width / 2.0, -cart_height / 2],\n",
      "        cart_width, cart_height, fill=True, color='red', ec='black')\n",
      "    ax.add_patch(rect)\n",
      "    \n",
      "    # blank line for the pendulum\n",
      "    line, = ax.plot([], [], lw=2, marker='o', markersize=6)\n",
      "\n",
      "    # initialization function: plot the background of each frame\n",
      "    def init():\n",
      "        time_text.set_text('')\n",
      "        rect.set_xy((0.0, 0.0))\n",
      "        line.set_data([], [])\n",
      "        return time_text, rect, line,\n",
      "\n",
      "    # animation function: update the objects\n",
      "    def animate(i):\n",
      "        time_text.set_text('time = {:2.2f}'.format(t[i]))\n",
      "        rect.set_xy((states[i, 0] - cart_width / 2.0, -cart_height / 2))\n",
      "        x = hstack((states[i, 0], zeros((numpoints - 1))))\n",
      "        y = zeros((numpoints))\n",
      "        for j in arange(1, numpoints):\n",
      "            x[j] = x[j - 1] + length * cos(states[i, j])\n",
      "            y[j] = y[j - 1] + length * sin(states[i, j])\n",
      "        line.set_data(x, y)\n",
      "        return time_text, rect, line,\n",
      "\n",
      "    # call the animator function\n",
      "    anim = animation.FuncAnimation(fig, animate, frames=len(t), init_func=init,\n",
      "            interval=t[-1] / len(t) * 1000, blit=True, repeat=False)\n",
      "    \n",
      "    # save the animation if a filename is given\n",
      "    if filename is not None:\n",
      "        anim.save(filename, fps=30, codec='libx264')"
     ],
     "language": "python",
     "metadata": {},
     "outputs": [],
     "prompt_number": 39
    },
    {
     "cell_type": "markdown",
     "metadata": {},
     "source": [
      "Now we can create the animation of the pendulum. This animation will show the open loop dynamics."
     ]
    },
    {
     "cell_type": "code",
     "collapsed": false,
     "input": [
      "animate_pendulum(t, y, arm_length, filename=\"open-loop.mp4\")\n",
      "y[-1,0]"
     ],
     "language": "python",
     "metadata": {},
     "outputs": [
      {
       "metadata": {},
       "output_type": "pyout",
       "prompt_number": 40,
       "text": [
        "12.616510970679441"
       ]
      }
     ],
     "prompt_number": 40
    },
    {
     "cell_type": "code",
     "collapsed": false,
     "input": [
      "from IPython.display import HTML\n",
      "h = \\\n",
      "\"\"\"\n",
      "<video width=\"640\" height=\"480\" controls>\n",
      "  <source src=\"files/open-loop.mp4\" type=\"video/mp4\">\n",
      "Your browser does not support the video tag, check out the YouTuve version instead: http://youtu.be/Nj3_npq7MZI.\n",
      "</video>\n",
      "\"\"\"\n",
      "HTML(h)"
     ],
     "language": "python",
     "metadata": {},
     "outputs": [
      {
       "html": [
        "\n",
        "<video width=\"640\" height=\"480\" controls>\n",
        "  <source src=\"files/open-loop.mp4\" type=\"video/mp4\">\n",
        "Your browser does not support the video tag, check out the YouTuve version instead: http://youtu.be/Nj3_npq7MZI.\n",
        "</video>\n"
       ],
       "metadata": {},
       "output_type": "pyout",
       "prompt_number": 41,
       "text": [
        "<IPython.core.display.HTML at 0x7fed33dd17d0>"
       ]
      }
     ],
     "prompt_number": 41
    },
    {
     "cell_type": "code",
     "collapsed": false,
     "input": [],
     "language": "python",
     "metadata": {},
     "outputs": []
    }
   ],
   "metadata": {}
  }
 ]
}