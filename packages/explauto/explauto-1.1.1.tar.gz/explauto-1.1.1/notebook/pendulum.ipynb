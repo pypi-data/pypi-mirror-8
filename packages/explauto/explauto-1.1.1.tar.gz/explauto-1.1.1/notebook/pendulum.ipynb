{
 "metadata": {
  "name": "",
  "signature": "sha256:a21edcd7836a3afe75b8ea58766797f36e738f2c06c46c67c4ea586cdff5d194"
 },
 "nbformat": 3,
 "nbformat_minor": 0,
 "worksheets": [
  {
   "cells": [
    {
     "cell_type": "heading",
     "level": 1,
     "metadata": {},
     "source": [
      "The pendulum environment"
     ]
    },
    {
     "cell_type": "markdown",
     "metadata": {},
     "source": [
      "This environment simulates a torque-controlled pendulum. It is particularly interesting when it is under-actuated, i.e. when the torque limit does not allow to swap the pendulum from the stable equilibrium point (lower position) to its unstable equilibrium point (upper position) by applying the maximum torque.\n",
      "\n",
      "First, we create the environment as usual (see [this tutorial](http://nbviewer.ipython.org/github/flowersteam/explauto/blob/master/notebook/setting_environments.ipynb)):"
     ]
    },
    {
     "cell_type": "code",
     "collapsed": false,
     "input": [
      "from explauto.environment import environments\n",
      "env_cls, env_configs, _ = environments['pendulum']\n",
      "env = env_cls(**env_configs['default'])"
     ],
     "language": "python",
     "metadata": {},
     "outputs": [],
     "prompt_number": 13
    },
    {
     "cell_type": "markdown",
     "metadata": {},
     "source": [
      "The initial state of the pendulum is the lower position with a null velocity, i.e. the stable equilibrium point. The current state can be get or set using:"
     ]
    },
    {
     "cell_type": "code",
     "collapsed": false,
     "input": [
      "env.x"
     ],
     "language": "python",
     "metadata": {},
     "outputs": [
      {
       "metadata": {},
       "output_type": "pyout",
       "prompt_number": 14,
       "text": [
        "[-3.141592653589793, 0.0]"
       ]
      }
     ],
     "prompt_number": 14
    },
    {
     "cell_type": "markdown",
     "metadata": {},
     "source": [
      "The first scalar is the current angle position (here: $\\pi$) and the second one is the current angular velocity (here: $0$). To plot the current pendulum position, use:"
     ]
    },
    {
     "cell_type": "code",
     "collapsed": false,
     "input": [
      "%pylab\n",
      "ax = axes()\n",
      "env.plot_current_state(ax)"
     ],
     "language": "python",
     "metadata": {},
     "outputs": [
      {
       "output_type": "stream",
       "stream": "stdout",
       "text": [
        "Using matplotlib backend: TkAgg\n",
        "Populating the interactive namespace from numpy and matplotlib\n"
       ]
      }
     ],
     "prompt_number": 15
    },
    {
     "cell_type": "markdown",
     "metadata": {},
     "source": [
      "The time step of the simulation can be get or set using:"
     ]
    },
    {
     "cell_type": "code",
     "collapsed": false,
     "input": [
      "env.dt"
     ],
     "language": "python",
     "metadata": {},
     "outputs": [
      {
       "metadata": {},
       "output_type": "pyout",
       "prompt_number": 16,
       "text": [
        "0.25"
       ]
      }
     ],
     "prompt_number": 16
    },
    {
     "cell_type": "markdown",
     "metadata": {},
     "source": [
      "To apply a torque $u$ on the pendulum during a duration of env.dt, we can use:"
     ]
    },
    {
     "cell_type": "code",
     "collapsed": false,
     "input": [
      "u = [0.1]\n",
      "env.apply_torque(u)"
     ],
     "language": "python",
     "metadata": {},
     "outputs": [],
     "prompt_number": 17
    },
    {
     "cell_type": "markdown",
     "metadata": {},
     "source": [
      "We observe that the current state of the pendulum has changed accordingly:"
     ]
    },
    {
     "cell_type": "code",
     "collapsed": false,
     "input": [
      "env.x"
     ],
     "language": "python",
     "metadata": {},
     "outputs": [
      {
       "metadata": {},
       "output_type": "pyout",
       "prompt_number": 18,
       "text": [
        "[array([-3.13846765]), array([ 0.025])]"
       ]
      }
     ],
     "prompt_number": 18
    },
    {
     "cell_type": "markdown",
     "metadata": {},
     "source": [
      "Now let's apply a torque trajectory, for example a torque of 0.25 during 100 time steps, and plot the pendulum position at each time step:"
     ]
    },
    {
     "cell_type": "code",
     "collapsed": false,
     "input": [
      "U = [0.25] * 100\n",
      "env.reset() # reset to lower position\n",
      "for u in U:\n",
      "    ax.cla()\n",
      "    env.apply_torque(u)\n",
      "    env.plot_current_state(ax)\n",
      "    draw()"
     ],
     "language": "python",
     "metadata": {},
     "outputs": [],
     "prompt_number": 19
    },
    {
     "cell_type": "markdown",
     "metadata": {},
     "source": [
      "Due to the under-actuated nature of the pendulum (with torque max at 0.25), we observe that the above torque trajectory does not allow to swap the pendulum to the upper position. To achieve this, one should use a bang-bang policy instead:"
     ]
    },
    {
     "cell_type": "code",
     "collapsed": false,
     "input": [
      "U = [0.25] * 15 + [-0.25] * 15 + [0.25] * 19\n",
      "env.reset() # reset to lower position\n",
      "for u in U:\n",
      "    ax.cla()\n",
      "    env.apply_torque(u)\n",
      "    env.plot_current_state(ax)\n",
      "    draw()"
     ],
     "language": "python",
     "metadata": {},
     "outputs": [],
     "prompt_number": 20
    }
   ],
   "metadata": {}
  }
 ]
}