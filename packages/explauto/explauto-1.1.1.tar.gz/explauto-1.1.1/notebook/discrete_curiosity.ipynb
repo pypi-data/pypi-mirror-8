{
 "metadata": {
  "name": "",
  "signature": "sha256:8d5fa4941669666d168305a4b9ae3773f311c4f9bb4b56846f2ce05c361ed6cb"
 },
 "nbformat": 3,
 "nbformat_minor": 0,
 "worksheets": [
  {
   "cells": [
    {
     "cell_type": "code",
     "collapsed": false,
     "input": [
      "%pylab"
     ],
     "language": "python",
     "metadata": {},
     "outputs": [
      {
       "output_type": "stream",
       "stream": "stdout",
       "text": [
        "Using matplotlib backend: TkAgg\n",
        "Populating the interactive namespace from numpy and matplotlib\n"
       ]
      }
     ],
     "prompt_number": 1
    },
    {
     "cell_type": "code",
     "collapsed": false,
     "input": [
      "from explauto.environment.toys.discrete_1d_progress import Discrete1dProgress\n",
      "from explauto.agent import Agent\n",
      "from explauto.interest_model.competences import competence_bool\n",
      "from explauto.experiment import Experiment"
     ],
     "language": "python",
     "metadata": {},
     "outputs": [],
     "prompt_number": 2
    },
    {
     "cell_type": "code",
     "collapsed": false,
     "input": [
      "from explauto import Environment, SensorimotorModel, InterestModel, Agent, Experiment\n",
      "from explauto.sensorimotor_model.discrete import LidstoneModel\n",
      "m_card = 7\n",
      "s_card = 7\n",
      "env = Discrete1dProgress(m_card=m_card, s_card=s_card)\n",
      "\n",
      "sm_model = LidstoneModel(m_card, s_card)\n",
      "im_model = InterestModel.from_configuration(env.conf, env.conf.s_dims, 'random')\n",
      "ag = Agent(env.conf, sm_model, im_model)\n",
      "\n",
      "expe = Experiment(env, ag)"
     ],
     "language": "python",
     "metadata": {},
     "outputs": [],
     "prompt_number": 3
    },
    {
     "cell_type": "code",
     "collapsed": false,
     "input": [
      "%pylab inline\n"
     ],
     "language": "python",
     "metadata": {},
     "outputs": [
      {
       "output_type": "stream",
       "stream": "stdout",
       "text": [
        "Populating the interactive namespace from numpy and matplotlib\n"
       ]
      }
     ],
     "prompt_number": 1
    },
    {
     "cell_type": "code",
     "collapsed": false,
     "input": [
      "\n",
      "class TaskCompetences(object):\n",
      "    def __init__(self, time_step=0.01):\n",
      "        self.score_function = lambda t, p, b, c: c * (1 - exp( - t /  p)) + b\n",
      "        self.scores = []\n",
      "        self.scores.append([0.05, 0., 1.])\n",
      "        self.scores.append([0.2, 0., 1.])\n",
      "        self.scores.append([0.5, 0., 2.])        \n",
      "        self.times = zeros(len(self.scores))\n",
      "        self.time_step = time_step\n",
      "    def competence(self, task_index):\n",
      "        score = self.score_function(self.times[task_index], *self.scores[task_index])\n",
      "        self.times[task_index] += self.time_step\n",
      "        return score"
     ],
     "language": "python",
     "metadata": {},
     "outputs": [],
     "prompt_number": 2
    },
    {
     "cell_type": "code",
     "collapsed": false,
     "input": [
      "from explauto.interest_model.discrete_progress import DiscreteProgress\n",
      "tasks = TaskCompetences()\n",
      "#tasks.scores = [tasks.scores[0]] * len(tasks.scores)"
     ],
     "language": "python",
     "metadata": {},
     "outputs": [],
     "prompt_number": 3
    },
    {
     "cell_type": "code",
     "collapsed": false,
     "input": [
      "y_all = []\n",
      "ydiff_all = []\n",
      "x = linspace(0, 1, 100)\n",
      "for p, b, c in tasks.scores:\n",
      "    y = []\n",
      "    for xx in x:\n",
      "        y.append(tasks.score_function(xx, p, b, c))\n",
      "    y_all.append(y)\n",
      "    ydiff = diff(y)\n",
      "    ydiff_all.append(ydiff)\n",
      "    subplot(211)\n",
      "    plot(x, y)\n",
      "    title('scores with time')\n",
      "    subplot(212)\n",
      "    plot(x[:-1], ydiff)\n",
      "    title('score derivates with time')"
     ],
     "language": "python",
     "metadata": {},
     "outputs": [
      {
       "metadata": {},
       "output_type": "display_data",
       "png": "[encoded data removed]",
       "text": [
        "<matplotlib.figure.Figure at 0x4be88d0>"
       ]
      }
     ],
     "prompt_number": 4
    },
    {
     "cell_type": "code",
     "collapsed": false,
     "input": [
      "progress_tracker = DiscreteProgress(None, x_card=len(tasks.scores), win_size=10, measure=None)"
     ],
     "language": "python",
     "metadata": {},
     "outputs": [],
     "prompt_number": 5
    },
    {
     "cell_type": "code",
     "collapsed": false,
     "input": [
      "task_index_history = []\n",
      "progress_history = []\n",
      "for i in range(300):\n",
      "    #print progress_tracker.queues\n",
      "    task_index = progress_tracker.sample(temp=3.)[0]\n",
      "    progress_history.append(progress_tracker.w)\n",
      "    #print task_index\n",
      "    score = tasks.competence(task_index)\n",
      "    #print score\n",
      "    progress_tracker.update_from_index_and_competence(task_index, score)\n",
      "    \n",
      "    task_index_history.append(task_index)"
     ],
     "language": "python",
     "metadata": {},
     "outputs": [],
     "prompt_number": 6
    },
    {
     "cell_type": "code",
     "collapsed": false,
     "input": [
      "progress_history = array(progress_history)\n",
      "plot(progress_history / sum(progress_history, axis=1).reshape(-1, 1).repeat(3, axis=1))\n",
      "ylim([0,1])"
     ],
     "language": "python",
     "metadata": {},
     "outputs": [
      {
       "metadata": {},
       "output_type": "pyout",
       "prompt_number": 7,
       "text": [
        "(0, 1)"
       ]
      },
      {
       "metadata": {},
       "output_type": "display_data",
       "png": "[encoded data removed]",
       "text": [
        "<matplotlib.figure.Figure at 0x4be4a50>"
       ]
      }
     ],
     "prompt_number": 7
    },
    {
     "cell_type": "code",
     "collapsed": false,
     "input": [
      "progress_history = array(progress_history)\n",
      "print(progress_history.shape)\n",
      "sum(progress_history, axis=1).reshape(-1, 1).repeat(3, axis=1)"
     ],
     "language": "python",
     "metadata": {},
     "outputs": [
      {
       "output_type": "stream",
       "stream": "stdout",
       "text": [
        "(300, 3)\n"
       ]
      },
      {
       "metadata": {},
       "output_type": "pyout",
       "prompt_number": 21,
       "text": [
        "array([[ 0.5       ,  0.5       ,  0.5       ],\n",
        "       [ 0.91327418,  0.91327418,  0.91327418],\n",
        "       [ 1.91327418,  1.91327418,  1.91327418],\n",
        "       [ 2.71085328,  2.71085328,  2.71085328],\n",
        "       [ 2.71085328,  2.71085328,  2.71085328],\n",
        "       [ 2.75843457,  2.75843457,  2.75843457],\n",
        "       [ 2.83849558,  2.83849558,  2.83849558],\n",
        "       [ 2.93737182,  2.93737182,  2.93737182],\n",
        "       [ 3.52773764,  3.52773764,  3.52773764],\n",
        "       [ 3.63306499,  3.63306499,  3.63306499],\n",
        "       [ 3.73365593,  3.73365593,  3.73365593],\n",
        "       [ 3.81938757,  3.81938757,  3.81938757],\n",
        "       [ 4.13932769,  4.13932769,  4.13932769],\n",
        "       [ 4.51778273,  4.51778273,  4.51778273],\n",
        "       [ 4.73810284,  4.73810284,  4.73810284],\n",
        "       [ 4.7998156 ,  4.7998156 ,  4.7998156 ],\n",
        "       [ 4.9617554 ,  4.9617554 ,  4.9617554 ],\n",
        "       [ 5.07647611,  5.07647611,  5.07647611],\n",
        "       [ 5.10588208,  5.10588208,  5.10588208],\n",
        "       [ 5.10931564,  5.10931564,  5.10931564],\n",
        "       [ 5.09891559,  5.09891559,  5.09891559],\n",
        "       [ 5.03982684,  5.03982684,  5.03982684],\n",
        "       [ 4.7552856 ,  4.7552856 ,  4.7552856 ],\n",
        "       [ 4.69829395,  4.69829395,  4.69829395],\n",
        "       [ 4.64672578,  4.64672578,  4.64672578],\n",
        "       [ 4.53346182,  4.53346182,  4.53346182],\n",
        "       [ 4.29835384,  4.29835384,  4.29835384],\n",
        "       [ 4.25169303,  4.25169303,  4.25169303],\n",
        "       [ 3.88984552,  3.88984552,  3.88984552],\n",
        "       [ 3.37551547,  3.37551547,  3.37551547],\n",
        "       [ 3.33329502,  3.33329502,  3.33329502],\n",
        "       [ 3.29509238,  3.29509238,  3.29509238],\n",
        "       [ 3.2605252 ,  3.2605252 ,  3.2605252 ],\n",
        "       [ 2.51215587,  2.51215587,  2.51215587],\n",
        "       [ 2.48087819,  2.48087819,  2.48087819],\n",
        "       [ 1.98763442,  1.98763442,  1.98763442],\n",
        "       [ 1.9593332 ,  1.9593332 ,  1.9593332 ],\n",
        "       [ 0.9727583 ,  0.9727583 ,  0.9727583 ],\n",
        "       [ 0.96611623,  0.96611623,  0.96611623],\n",
        "       [ 0.94815766,  0.94815766,  0.94815766],\n",
        "       [ 0.93107494,  0.93107494,  0.93107494],\n",
        "       [ 0.90546695,  0.90546695,  0.90546695],\n",
        "       [ 0.88921736,  0.88921736,  0.88921736],\n",
        "       [ 0.87376028,  0.87376028,  0.87376028],\n",
        "       [ 0.85905705,  0.85905705,  0.85905705],\n",
        "       [ 0.8525465 ,  0.8525465 ,  0.8525465 ],\n",
        "       [ 0.83856036,  0.83856036,  0.83856036],\n",
        "       [ 0.81538928,  0.81538928,  0.81538928],\n",
        "       [ 0.79442323,  0.79442323,  0.79442323],\n",
        "       [ 0.78111919,  0.78111919,  0.78111919],\n",
        "       [ 0.76214832,  0.76214832,  0.76214832],\n",
        "       [ 0.74498277,  0.74498277,  0.74498277],\n",
        "       [ 0.73232758,  0.73232758,  0.73232758],\n",
        "       [ 0.72594595,  0.72594595,  0.72594595],\n",
        "       [ 0.71041391,  0.71041391,  0.71041391],\n",
        "       [ 0.69635995,  0.69635995,  0.69635995],\n",
        "       [ 0.68364339,  0.68364339,  0.68364339],\n",
        "       [ 0.67213698,  0.67213698,  0.67213698],\n",
        "       [ 0.66009899,  0.66009899,  0.66009899],\n",
        "       [ 0.65384373,  0.65384373,  0.65384373],\n",
        "       [ 0.64771232,  0.64771232,  0.64771232],\n",
        "       [ 0.64170233,  0.64170233,  0.64170233],\n",
        "       [ 0.63581135,  0.63581135,  0.63581135],\n",
        "       [ 0.62436046,  0.62436046,  0.62436046],\n",
        "       [ 0.61394902,  0.61394902,  0.61394902],\n",
        "       [ 0.6030566 ,  0.6030566 ,  0.6030566 ],\n",
        "       [ 0.59269541,  0.59269541,  0.59269541],\n",
        "       [ 0.58692107,  0.58692107,  0.58692107],\n",
        "       [ 0.57750042,  0.57750042,  0.57750042],\n",
        "       [ 0.56764455,  0.56764455,  0.56764455],\n",
        "       [ 0.56198455,  0.56198455,  0.56198455],\n",
        "       [ 0.55260936,  0.55260936,  0.55260936],\n",
        "       [ 0.54706143,  0.54706143,  0.54706143],\n",
        "       [ 0.53853727,  0.53853727,  0.53853727],\n",
        "       [ 0.52961931,  0.52961931,  0.52961931],\n",
        "       [ 0.52113628,  0.52113628,  0.52113628],\n",
        "       [ 0.5134233 ,  0.5134233 ,  0.5134233 ],\n",
        "       [ 0.505354  ,  0.505354  ,  0.505354  ],\n",
        "       [ 0.49837501,  0.49837501,  0.49837501],\n",
        "       [ 0.49206015,  0.49206015,  0.49206015],\n",
        "       [ 0.48438439,  0.48438439,  0.48438439],\n",
        "       [ 0.47867048,  0.47867048,  0.47867048],\n",
        "       [ 0.47323241,  0.47323241,  0.47323241],\n",
        "       [ 0.46790203,  0.46790203,  0.46790203],\n",
        "       [ 0.46267719,  0.46267719,  0.46267719],\n",
        "       [ 0.45537578,  0.45537578,  0.45537578],\n",
        "       [ 0.45020562,  0.45020562,  0.45020562],\n",
        "       [ 0.4432603 ,  0.4432603 ,  0.4432603 ],\n",
        "       [ 0.43813892,  0.43813892,  0.43813892],\n",
        "       [ 0.43153234,  0.43153234,  0.43153234],\n",
        "       [ 0.42651237,  0.42651237,  0.42651237],\n",
        "       [ 0.42022799,  0.42022799,  0.42022799],\n",
        "       [ 0.4142501 ,  0.4142501 ,  0.4142501 ],\n",
        "       [ 0.40957194,  0.40957194,  0.40957194],\n",
        "       [ 0.40533897,  0.40533897,  0.40533897],\n",
        "       [ 0.4004184 ,  0.4004184 ,  0.4004184 ],\n",
        "       [ 0.39559527,  0.39559527,  0.39559527],\n",
        "       [ 0.39176512,  0.39176512,  0.39176512],\n",
        "       [ 0.38607878,  0.38607878,  0.38607878],\n",
        "       [ 0.38066976,  0.38066976,  0.38066976],\n",
        "       [ 0.37594213,  0.37594213,  0.37594213],\n",
        "       [ 0.37247647,  0.37247647,  0.37247647],\n",
        "       [ 0.3693406 ,  0.3693406 ,  0.3693406 ],\n",
        "       [ 0.36419539,  0.36419539,  0.36419539],\n",
        "       [ 0.35930111,  0.35930111,  0.35930111],\n",
        "       [ 0.35466709,  0.35466709,  0.35466709],\n",
        "       [ 0.35001151,  0.35001151,  0.35001151],\n",
        "       [ 0.34558298,  0.34558298,  0.34558298],\n",
        "       [ 0.34137044,  0.34137044,  0.34137044],\n",
        "       [ 0.33736334,  0.33736334,  0.33736334],\n",
        "       [ 0.33452589,  0.33452589,  0.33452589],\n",
        "       [ 0.33071422,  0.33071422,  0.33071422],\n",
        "       [ 0.32814679,  0.32814679,  0.32814679],\n",
        "       [ 0.32452102,  0.32452102,  0.32452102],\n",
        "       [ 0.32107208,  0.32107208,  0.32107208],\n",
        "       [ 0.31652983,  0.31652983,  0.31652983],\n",
        "       [ 0.31420672,  0.31420672,  0.31420672],\n",
        "       [ 0.31092599,  0.31092599,  0.31092599],\n",
        "       [ 0.30647367,  0.30647367,  0.30647367],\n",
        "       [ 0.30437164,  0.30437164,  0.30437164],\n",
        "       [ 0.30000749,  0.30000749,  0.30000749],\n",
        "       [ 0.29688676,  0.29688676,  0.29688676],\n",
        "       [ 0.29498476,  0.29498476,  0.29498476],\n",
        "       [ 0.29070703,  0.29070703,  0.29070703],\n",
        "       [ 0.2877385 ,  0.2877385 ,  0.2877385 ],\n",
        "       [ 0.28354547,  0.28354547,  0.28354547],\n",
        "       [ 0.28072172,  0.28072172,  0.28072172],\n",
        "       [ 0.27803568,  0.27803568,  0.27803568],\n",
        "       [ 0.27392568,  0.27392568,  0.27392568],\n",
        "       [ 0.26989706,  0.26989706,  0.26989706],\n",
        "       [ 0.26734202,  0.26734202,  0.26734202],\n",
        "       [ 0.26491159,  0.26491159,  0.26491159],\n",
        "       [ 0.26096275,  0.26096275,  0.26096275],\n",
        "       [ 0.25865085,  0.25865085,  0.25865085],\n",
        "       [ 0.25645171,  0.25645171,  0.25645171],\n",
        "       [ 0.25473071,  0.25473071,  0.25473071],\n",
        "       [ 0.25086006,  0.25086006,  0.25086006],\n",
        "       [ 0.24706605,  0.24706605,  0.24706605],\n",
        "       [ 0.24550882,  0.24550882,  0.24550882],\n",
        "       [ 0.24341694,  0.24341694,  0.24341694],\n",
        "       [ 0.23969805,  0.23969805,  0.23969805],\n",
        "       [ 0.23770819,  0.23770819,  0.23770819],\n",
        "       [ 0.23406294,  0.23406294,  0.23406294],\n",
        "       [ 0.23217012,  0.23217012,  0.23217012],\n",
        "       [ 0.23076109,  0.23076109,  0.23076109],\n",
        "       [ 0.22718803,  0.22718803,  0.22718803],\n",
        "       [ 0.22591308,  0.22591308,  0.22591308],\n",
        "       [ 0.22241077,  0.22241077,  0.22241077],\n",
        "       [ 0.22061026,  0.22061026,  0.22061026],\n",
        "       [ 0.21889757,  0.21889757,  0.21889757],\n",
        "       [ 0.21546461,  0.21546461,  0.21546461],\n",
        "       [ 0.21209962,  0.21209962,  0.21209962],\n",
        "       [ 0.210946  ,  0.210946  ,  0.210946  ],\n",
        "       [ 0.20764765,  0.20764765,  0.20764765],\n",
        "       [ 0.20601848,  0.20601848,  0.20601848],\n",
        "       [ 0.20278544,  0.20278544,  0.20278544],\n",
        "       [ 0.20123573,  0.20123573,  0.20123573],\n",
        "       [ 0.19806671,  0.19806671,  0.19806671],\n",
        "       [ 0.19702287,  0.19702287,  0.19702287],\n",
        "       [ 0.1939166 ,  0.1939166 ,  0.1939166 ],\n",
        "       [ 0.19244247,  0.19244247,  0.19244247],\n",
        "       [ 0.18939771,  0.18939771,  0.18939771],\n",
        "       [ 0.18799547,  0.18799547,  0.18799547],\n",
        "       [ 0.18666162,  0.18666162,  0.18666162],\n",
        "       [ 0.18539283,  0.18539283,  0.18539283],\n",
        "       [ 0.18240836,  0.18240836,  0.18240836],\n",
        "       [ 0.18120144,  0.18120144,  0.18120144],\n",
        "       [ 0.18025694,  0.18025694,  0.18025694],\n",
        "       [ 0.17910888,  0.17910888,  0.17910888],\n",
        "       [ 0.17825426,  0.17825426,  0.17825426],\n",
        "       [ 0.17532888,  0.17532888,  0.17532888],\n",
        "       [ 0.17455559,  0.17455559,  0.17455559],\n",
        "       [ 0.17385588,  0.17385588,  0.17385588],\n",
        "       [ 0.17276382,  0.17276382,  0.17276382],\n",
        "       [ 0.1721307 ,  0.1721307 ,  0.1721307 ],\n",
        "       [ 0.16926325,  0.16926325,  0.16926325],\n",
        "       [ 0.16822445,  0.16822445,  0.16822445],\n",
        "       [ 0.16541378,  0.16541378,  0.16541378],\n",
        "       [ 0.16442564,  0.16442564,  0.16442564],\n",
        "       [ 0.1634857 ,  0.1634857 ,  0.1634857 ],\n",
        "       [ 0.16073068,  0.16073068,  0.16073068],\n",
        "       [ 0.15803022,  0.15803022,  0.15803022],\n",
        "       [ 0.15713611,  0.15713611,  0.15713611],\n",
        "       [ 0.15656324,  0.15656324,  0.15656324],\n",
        "       [ 0.15391625,  0.15391625,  0.15391625],\n",
        "       [ 0.15132167,  0.15132167,  0.15132167],\n",
        "       [ 0.15047118,  0.15047118,  0.15047118],\n",
        "       [ 0.14966216,  0.14966216,  0.14966216],\n",
        "       [ 0.14889259,  0.14889259,  0.14889259],\n",
        "       [ 0.14816056,  0.14816056,  0.14816056],\n",
        "       [ 0.14746423,  0.14746423,  0.14746423],\n",
        "       [ 0.14694588,  0.14694588,  0.14694588],\n",
        "       [ 0.14440268,  0.14440268,  0.14440268],\n",
        "       [ 0.14374031,  0.14374031,  0.14374031],\n",
        "       [ 0.14311024,  0.14311024,  0.14311024],\n",
        "       [ 0.14251091,  0.14251091,  0.14251091],\n",
        "       [ 0.1419408 ,  0.1419408 ,  0.1419408 ],\n",
        "       [ 0.1413985 ,  0.1413985 ,  0.1413985 ],\n",
        "       [ 0.14092947,  0.14092947,  0.14092947],\n",
        "       [ 0.13843663,  0.13843663,  0.13843663],\n",
        "       [ 0.13599315,  0.13599315,  0.13599315],\n",
        "       [ 0.13556876,  0.13556876,  0.13556876],\n",
        "       [ 0.13518475,  0.13518475,  0.13518475],\n",
        "       [ 0.1346689 ,  0.1346689 ,  0.1346689 ],\n",
        "       [ 0.1322738 ,  0.1322738 ,  0.1322738 ],\n",
        "       [ 0.12992613,  0.12992613,  0.12992613],\n",
        "       [ 0.12943544,  0.12943544,  0.12943544],\n",
        "       [ 0.12908797,  0.12908797,  0.12908797],\n",
        "       [ 0.12862121,  0.12862121,  0.12862121],\n",
        "       [ 0.12632003,  0.12632003,  0.12632003],\n",
        "       [ 0.12600563,  0.12600563,  0.12600563],\n",
        "       [ 0.12572115,  0.12572115,  0.12572115],\n",
        "       [ 0.12346553,  0.12346553,  0.12346553],\n",
        "       [ 0.12302153,  0.12302153,  0.12302153],\n",
        "       [ 0.12259919,  0.12259919,  0.12259919],\n",
        "       [ 0.12219744,  0.12219744,  0.12219744],\n",
        "       [ 0.11998649,  0.11998649,  0.11998649],\n",
        "       [ 0.11972908,  0.11972908,  0.11972908],\n",
        "       [ 0.11949617,  0.11949617,  0.11949617],\n",
        "       [ 0.11928542,  0.11928542,  0.11928542],\n",
        "       [ 0.11890327,  0.11890327,  0.11890327],\n",
        "       [ 0.1167361 ,  0.1167361 ,  0.1167361 ],\n",
        "       [ 0.11461184,  0.11461184,  0.11461184],\n",
        "       [ 0.11424832,  0.11424832,  0.11424832],\n",
        "       [ 0.11405763,  0.11405763,  0.11405763],\n",
        "       [ 0.11197543,  0.11197543,  0.11197543],\n",
        "       [ 0.11162965,  0.11162965,  0.11162965],\n",
        "       [ 0.11130072,  0.11130072,  0.11130072],\n",
        "       [ 0.10925976,  0.10925976,  0.10925976],\n",
        "       [ 0.10894688,  0.10894688,  0.10894688],\n",
        "       [ 0.10877433,  0.10877433,  0.10877433],\n",
        "       [ 0.10677378,  0.10677378,  0.10677378],\n",
        "       [ 0.10647616,  0.10647616,  0.10647616],\n",
        "       [ 0.10451522,  0.10451522,  0.10451522],\n",
        "       [ 0.10259311,  0.10259311,  0.10259311],\n",
        "       [ 0.10070906,  0.10070906,  0.10070906],\n",
        "       [ 0.09886232,  0.09886232,  0.09886232],\n",
        "       [ 0.09705214,  0.09705214,  0.09705214],\n",
        "       [ 0.09527781,  0.09527781,  0.09527781],\n",
        "       [ 0.09512169,  0.09512169,  0.09512169],\n",
        "       [ 0.09483858,  0.09483858,  0.09483858],\n",
        "       [ 0.09469731,  0.09469731,  0.09469731],\n",
        "       [ 0.09456949,  0.09456949,  0.09456949],\n",
        "       [ 0.09283029,  0.09283029,  0.09283029],\n",
        "       [ 0.09271463,  0.09271463,  0.09271463],\n",
        "       [ 0.09100987,  0.09100987,  0.09100987],\n",
        "       [ 0.08933887,  0.08933887,  0.08933887],\n",
        "       [ 0.08906957,  0.08906957,  0.08906957],\n",
        "       [ 0.0888134 ,  0.0888134 ,  0.0888134 ],\n",
        "       [ 0.08856973,  0.08856973,  0.08856973],\n",
        "       [ 0.08846508,  0.08846508,  0.08846508],\n",
        "       [ 0.08682717,  0.08682717,  0.08682717],\n",
        "       [ 0.08522168,  0.08522168,  0.08522168],\n",
        "       [ 0.0849899 ,  0.0849899 ,  0.0849899 ],\n",
        "       [ 0.08341621,  0.08341621,  0.08341621],\n",
        "       [ 0.08332151,  0.08332151,  0.08332151],\n",
        "       [ 0.08323583,  0.08323583,  0.08323583],\n",
        "       [ 0.08301534,  0.08301534,  0.08301534],\n",
        "       [ 0.08147282,  0.08147282,  0.08147282],\n",
        "       [ 0.07996083,  0.07996083,  0.07996083],\n",
        "       [ 0.07847878,  0.07847878,  0.07847878],\n",
        "       [ 0.07702609,  0.07702609,  0.07702609],\n",
        "       [ 0.07681635,  0.07681635,  0.07681635],\n",
        "       [ 0.07539242,  0.07539242,  0.07539242],\n",
        "       [ 0.07399668,  0.07399668,  0.07399668],\n",
        "       [ 0.07379718,  0.07379718,  0.07379718],\n",
        "       [ 0.07360741,  0.07360741,  0.07360741],\n",
        "       [ 0.07352988,  0.07352988,  0.07352988],\n",
        "       [ 0.07345973,  0.07345973,  0.07345973],\n",
        "       [ 0.07327921,  0.07327921,  0.07327921],\n",
        "       [ 0.07321574,  0.07321574,  0.07321574],\n",
        "       [ 0.0731583 ,  0.0731583 ,  0.0731583 ],\n",
        "       [ 0.07298659,  0.07298659,  0.07298659],\n",
        "       [ 0.07282325,  0.07282325,  0.07282325],\n",
        "       [ 0.07266788,  0.07266788,  0.07266788],\n",
        "       [ 0.07261591,  0.07261591,  0.07261591],\n",
        "       [ 0.07124781,  0.07124781,  0.07124781],\n",
        "       [ 0.0699068 ,  0.0699068 ,  0.0699068 ],\n",
        "       [ 0.06985977,  0.06985977,  0.06985977],\n",
        "       [ 0.06971198,  0.06971198,  0.06971198],\n",
        "       [ 0.06966943,  0.06966943,  0.06966943],\n",
        "       [ 0.06952884,  0.06952884,  0.06952884],\n",
        "       [ 0.06949034,  0.06949034,  0.06949034],\n",
        "       [ 0.06935661,  0.06935661,  0.06935661],\n",
        "       [ 0.0692294 ,  0.0692294 ,  0.0692294 ],\n",
        "       [ 0.0691084 ,  0.0691084 ,  0.0691084 ],\n",
        "       [ 0.06907356,  0.06907356,  0.06907356],\n",
        "       [ 0.06895846,  0.06895846,  0.06895846],\n",
        "       [ 0.06764401,  0.06764401,  0.06764401],\n",
        "       [ 0.06761248,  0.06761248,  0.06761248],\n",
        "       [ 0.06758396,  0.06758396,  0.06758396],\n",
        "       [ 0.06629553,  0.06629553,  0.06629553],\n",
        "       [ 0.06618605,  0.06618605,  0.06618605],\n",
        "       [ 0.06492313,  0.06492313,  0.06492313],\n",
        "       [ 0.06481898,  0.06481898,  0.06481898],\n",
        "       [ 0.06479317,  0.06479317,  0.06479317],\n",
        "       [ 0.06476982,  0.06476982,  0.06476982],\n",
        "       [ 0.06353191,  0.06353191,  0.06353191],\n",
        "       [ 0.06231852,  0.06231852,  0.06231852],\n",
        "       [ 0.06229739,  0.06229739,  0.06229739]])"
       ]
      }
     ],
     "prompt_number": 21
    },
    {
     "cell_type": "code",
     "collapsed": false,
     "input": [
      "ydiff_all = array(ydiff_all)\n",
      "ydiff_norm = ydiff_all / sum(ydiff_all, axis=0).reshape(1, -1).repeat(3, axis=0)\n",
      "ydiff_norm.shape\n",
      "plot(ydiff_norm.T)"
     ],
     "language": "python",
     "metadata": {},
     "outputs": [
      {
       "metadata": {},
       "output_type": "pyout",
       "prompt_number": 96,
       "text": [
        "[<matplotlib.lines.Line2D at 0x6788f50>,\n",
        " <matplotlib.lines.Line2D at 0x67a3110>,\n",
        " <matplotlib.lines.Line2D at 0x67a3290>]"
       ]
      },
      {
       "metadata": {},
       "output_type": "display_data",
       "png": "[encoded data removed]",
       "text": [
        "<matplotlib.figure.Figure at 0x629e350>"
       ]
      }
     ],
     "prompt_number": 96
    },
    {
     "cell_type": "code",
     "collapsed": false,
     "input": [
      "from explauto.environment.toys.hierarchical_mild import f\n",
      "x = linspace(0, 10, 100)\n",
      "y_hist = []\n",
      "for temp in linspace(1e-5, 10., 6):\n",
      "    y = f(x, temp) + 100*rand()\n",
      "    y_hist.append(y)\n",
      "    plot(x, y)\n",
      "    #plot(diff(y))"
     ],
     "language": "python",
     "metadata": {},
     "outputs": [
      {
       "metadata": {},
       "output_type": "display_data",
       "png": "[encoded data removed]",
       "text": [
        "<matplotlib.figure.Figure at 0x5f7f710>"
       ]
      }
     ],
     "prompt_number": 59
    },
    {
     "cell_type": "code",
     "collapsed": false,
     "input": [
      "plot(argmin(array(y_hist)).T)"
     ],
     "language": "python",
     "metadata": {},
     "outputs": []
    },
    {
     "cell_type": "code",
     "collapsed": false,
     "input": [
      "argmin(array(y_hist), axis=0)"
     ],
     "language": "python",
     "metadata": {},
     "outputs": [
      {
       "metadata": {},
       "output_type": "pyout",
       "prompt_number": 24,
       "text": [
        "array([0, 0, 0, 0, 0, 0, 0, 0, 0, 0, 0, 0, 0, 0, 0, 0, 0, 0, 0, 0, 0, 0, 0,\n",
        "       0, 0, 0, 0, 0, 0, 0, 0, 0, 0, 0, 0, 0, 0, 0, 0, 0, 0, 0, 0, 0, 0, 0,\n",
        "       0, 0, 0, 0, 0, 0, 0, 0, 0, 0, 0, 0, 0, 0, 0, 0, 0, 0, 0, 0, 0, 0, 0,\n",
        "       0, 0, 0, 0, 0, 0, 0, 0, 0, 0, 0, 0, 0, 0, 0, 0, 0, 0, 0, 0, 0, 0, 0,\n",
        "       0, 0, 0, 0, 0, 0, 0, 0])"
       ]
      }
     ],
     "prompt_number": 24
    },
    {
     "cell_type": "code",
     "collapsed": false,
     "input": [
      "commands = array(env.random_motors(100), dtype=int)\n",
      "ms = env.dataset(commands)\n",
      "plot(ms[:, 0], ms[:, 1], 'o')"
     ],
     "language": "python",
     "metadata": {},
     "outputs": [
      {
       "metadata": {},
       "output_type": "pyout",
       "prompt_number": 5,
       "text": [
        "[<matplotlib.lines.Line2D at 0x6a78390>]"
       ]
      }
     ],
     "prompt_number": 5
    },
    {
     "cell_type": "code",
     "collapsed": false,
     "input": [
      "n_trials = 200\n",
      "progr = zeros((n_trials, s_card))\n",
      "for i in range(n_trials):\n",
      "    expe.run(1)\n",
      "    progr[i,:] = ag.i_model.progress()\n"
     ],
     "language": "python",
     "metadata": {},
     "outputs": [
      {
       "ename": "IndexError",
       "evalue": "arrays used as indices must be of integer (or boolean) type",
       "output_type": "pyerr",
       "traceback": [
        "\u001b[1;31m---------------------------------------------------------------------------\u001b[0m\n\u001b[1;31mIndexError\u001b[0m                                Traceback (most recent call last)",
        "\u001b[1;32m<ipython-input-10-03be2db6938d>\u001b[0m in \u001b[0;36m<module>\u001b[1;34m()\u001b[0m\n\u001b[0;32m      2\u001b[0m \u001b[0mprogr\u001b[0m \u001b[1;33m=\u001b[0m \u001b[0mzeros\u001b[0m\u001b[1;33m(\u001b[0m\u001b[1;33m(\u001b[0m\u001b[0mn_trials\u001b[0m\u001b[1;33m,\u001b[0m \u001b[0ms_card\u001b[0m\u001b[1;33m)\u001b[0m\u001b[1;33m)\u001b[0m\u001b[1;33m\u001b[0m\u001b[0m\n\u001b[0;32m      3\u001b[0m \u001b[1;32mfor\u001b[0m \u001b[0mi\u001b[0m \u001b[1;32min\u001b[0m \u001b[0mrange\u001b[0m\u001b[1;33m(\u001b[0m\u001b[0mn_trials\u001b[0m\u001b[1;33m)\u001b[0m\u001b[1;33m:\u001b[0m\u001b[1;33m\u001b[0m\u001b[0m\n\u001b[1;32m----> 4\u001b[1;33m     \u001b[0mexpe\u001b[0m\u001b[1;33m.\u001b[0m\u001b[0mrun\u001b[0m\u001b[1;33m(\u001b[0m\u001b[1;36m1\u001b[0m\u001b[1;33m)\u001b[0m\u001b[1;33m\u001b[0m\u001b[0m\n\u001b[0m\u001b[0;32m      5\u001b[0m     \u001b[0mprogr\u001b[0m\u001b[1;33m[\u001b[0m\u001b[0mi\u001b[0m\u001b[1;33m,\u001b[0m\u001b[1;33m:\u001b[0m\u001b[1;33m]\u001b[0m \u001b[1;33m=\u001b[0m \u001b[0mag\u001b[0m\u001b[1;33m.\u001b[0m\u001b[0mi_model\u001b[0m\u001b[1;33m.\u001b[0m\u001b[0mprogress\u001b[0m\u001b[1;33m(\u001b[0m\u001b[1;33m)\u001b[0m\u001b[1;33m\u001b[0m\u001b[0m\n",
        "\u001b[1;32m/home/clement/Documents/Boulot/INRIA_FLOWERS/CODE/explauto/explauto/experiment/experiment.pyc\u001b[0m in \u001b[0;36mrun\u001b[1;34m(self, n_iter, bg)\u001b[0m\n\u001b[0;32m     65\u001b[0m             \u001b[0mself\u001b[0m\u001b[1;33m.\u001b[0m\u001b[0m_t\u001b[0m\u001b[1;33m.\u001b[0m\u001b[0mstart\u001b[0m\u001b[1;33m(\u001b[0m\u001b[1;33m)\u001b[0m\u001b[1;33m\u001b[0m\u001b[0m\n\u001b[0;32m     66\u001b[0m         \u001b[1;32melse\u001b[0m\u001b[1;33m:\u001b[0m\u001b[1;33m\u001b[0m\u001b[0m\n\u001b[1;32m---> 67\u001b[1;33m             \u001b[0mself\u001b[0m\u001b[1;33m.\u001b[0m\u001b[0m_run\u001b[0m\u001b[1;33m(\u001b[0m\u001b[0mn_iter\u001b[0m\u001b[1;33m)\u001b[0m\u001b[1;33m\u001b[0m\u001b[0m\n\u001b[0m\u001b[0;32m     68\u001b[0m \u001b[1;33m\u001b[0m\u001b[0m\n\u001b[0;32m     69\u001b[0m     \u001b[1;32mdef\u001b[0m \u001b[0mwait\u001b[0m\u001b[1;33m(\u001b[0m\u001b[0mself\u001b[0m\u001b[1;33m)\u001b[0m\u001b[1;33m:\u001b[0m\u001b[1;33m\u001b[0m\u001b[0m\n",
        "\u001b[1;32m/home/clement/Documents/Boulot/INRIA_FLOWERS/CODE/explauto/explauto/experiment/experiment.pyc\u001b[0m in \u001b[0;36m_run\u001b[1;34m(self, n_iter)\u001b[0m\n\u001b[0;32m     83\u001b[0m             \u001b[0mself\u001b[0m\u001b[1;33m.\u001b[0m\u001b[0mnotifications\u001b[0m\u001b[1;33m.\u001b[0m\u001b[0mqueue\u001b[0m\u001b[1;33m.\u001b[0m\u001b[0mclear\u001b[0m\u001b[1;33m(\u001b[0m\u001b[1;33m)\u001b[0m\u001b[1;33m\u001b[0m\u001b[0m\n\u001b[0;32m     84\u001b[0m \u001b[1;33m\u001b[0m\u001b[0m\n\u001b[1;32m---> 85\u001b[1;33m             \u001b[0mm\u001b[0m \u001b[1;33m=\u001b[0m \u001b[0mself\u001b[0m\u001b[1;33m.\u001b[0m\u001b[0mag\u001b[0m\u001b[1;33m.\u001b[0m\u001b[0mproduce\u001b[0m\u001b[1;33m(\u001b[0m\u001b[1;33m)\u001b[0m\u001b[1;33m\u001b[0m\u001b[0m\n\u001b[0m\u001b[0;32m     86\u001b[0m             \u001b[1;32mtry\u001b[0m\u001b[1;33m:\u001b[0m\u001b[1;33m\u001b[0m\u001b[0m\n\u001b[0;32m     87\u001b[0m                 \u001b[0menv_state\u001b[0m \u001b[1;33m=\u001b[0m \u001b[0mself\u001b[0m\u001b[1;33m.\u001b[0m\u001b[0menv\u001b[0m\u001b[1;33m.\u001b[0m\u001b[0mupdate\u001b[0m\u001b[1;33m(\u001b[0m\u001b[0mm\u001b[0m\u001b[1;33m)\u001b[0m\u001b[1;33m\u001b[0m\u001b[0m\n",
        "\u001b[1;32m/home/clement/Documents/Boulot/INRIA_FLOWERS/CODE/explauto/explauto/agent/agent.pyc\u001b[0m in \u001b[0;36mproduce\u001b[1;34m(self)\u001b[0m\n\u001b[0;32m    128\u001b[0m \u001b[1;33m\u001b[0m\u001b[0m\n\u001b[0;32m    129\u001b[0m         \u001b[0mx\u001b[0m \u001b[1;33m=\u001b[0m \u001b[0mself\u001b[0m\u001b[1;33m.\u001b[0m\u001b[0mchoose\u001b[0m\u001b[1;33m(\u001b[0m\u001b[1;33m)\u001b[0m\u001b[1;33m\u001b[0m\u001b[0m\n\u001b[1;32m--> 130\u001b[1;33m         \u001b[0my\u001b[0m \u001b[1;33m=\u001b[0m \u001b[0mself\u001b[0m\u001b[1;33m.\u001b[0m\u001b[0minfer\u001b[0m\u001b[1;33m(\u001b[0m\u001b[0mself\u001b[0m\u001b[1;33m.\u001b[0m\u001b[0mexpl_dims\u001b[0m\u001b[1;33m,\u001b[0m \u001b[0mself\u001b[0m\u001b[1;33m.\u001b[0m\u001b[0minf_dims\u001b[0m\u001b[1;33m,\u001b[0m \u001b[0mx\u001b[0m\u001b[1;33m)\u001b[0m\u001b[1;33m\u001b[0m\u001b[0m\n\u001b[0m\u001b[0;32m    131\u001b[0m \u001b[1;33m\u001b[0m\u001b[0m\n\u001b[0;32m    132\u001b[0m         \u001b[0mself\u001b[0m\u001b[1;33m.\u001b[0m\u001b[0mm\u001b[0m\u001b[1;33m,\u001b[0m \u001b[0mself\u001b[0m\u001b[1;33m.\u001b[0m\u001b[0ms\u001b[0m \u001b[1;33m=\u001b[0m \u001b[0mself\u001b[0m\u001b[1;33m.\u001b[0m\u001b[0mextract_ms\u001b[0m\u001b[1;33m(\u001b[0m\u001b[0mx\u001b[0m\u001b[1;33m,\u001b[0m \u001b[0my\u001b[0m\u001b[1;33m)\u001b[0m\u001b[1;33m\u001b[0m\u001b[0m\n",
        "\u001b[1;32m/home/clement/Documents/Boulot/INRIA_FLOWERS/CODE/explauto/explauto/agent/agent.pyc\u001b[0m in \u001b[0;36minfer\u001b[1;34m(self, expl_dims, inf_dims, x)\u001b[0m\n\u001b[0;32m     88\u001b[0m             y = self.sensorimotor_model.infer(expl_dims,\n\u001b[0;32m     89\u001b[0m                                               \u001b[0minf_dims\u001b[0m\u001b[1;33m,\u001b[0m\u001b[1;33m\u001b[0m\u001b[0m\n\u001b[1;32m---> 90\u001b[1;33m                                               x.flatten())\n\u001b[0m\u001b[0;32m     91\u001b[0m         \u001b[1;32mexcept\u001b[0m \u001b[0mExplautoBootstrapError\u001b[0m\u001b[1;33m:\u001b[0m\u001b[1;33m\u001b[0m\u001b[0m\n\u001b[0;32m     92\u001b[0m             \u001b[0mlogger\u001b[0m\u001b[1;33m.\u001b[0m\u001b[0mwarning\u001b[0m\u001b[1;33m(\u001b[0m\u001b[1;34m'Sensorimotor model not bootstrapped yet'\u001b[0m\u001b[1;33m)\u001b[0m\u001b[1;33m\u001b[0m\u001b[0m\n",
        "\u001b[1;32m/home/clement/Documents/Boulot/INRIA_FLOWERS/CODE/explauto/explauto/sensorimotor_model/discrete.py\u001b[0m in \u001b[0;36minfer\u001b[1;34m(self, in_dims, out_dims, x)\u001b[0m\n\u001b[0;32m     19\u001b[0m             \u001b[0mp_out\u001b[0m \u001b[1;33m=\u001b[0m \u001b[0mself\u001b[0m\u001b[1;33m.\u001b[0m\u001b[0mjoint_distr\u001b[0m\u001b[1;33m(\u001b[0m\u001b[1;33m)\u001b[0m\u001b[1;33m[\u001b[0m\u001b[0mx\u001b[0m\u001b[1;33m,\u001b[0m \u001b[1;33m:\u001b[0m\u001b[1;33m]\u001b[0m\u001b[1;33m\u001b[0m\u001b[0m\n\u001b[0;32m     20\u001b[0m         \u001b[1;32melse\u001b[0m\u001b[1;33m:\u001b[0m\u001b[1;33m\u001b[0m\u001b[0m\n\u001b[1;32m---> 21\u001b[1;33m             \u001b[0mp_out\u001b[0m \u001b[1;33m=\u001b[0m \u001b[0mself\u001b[0m\u001b[1;33m.\u001b[0m\u001b[0mjoint_distr\u001b[0m\u001b[1;33m(\u001b[0m\u001b[1;33m)\u001b[0m\u001b[1;33m[\u001b[0m\u001b[1;33m:\u001b[0m\u001b[1;33m,\u001b[0m \u001b[0mx\u001b[0m\u001b[1;33m]\u001b[0m\u001b[1;33m\u001b[0m\u001b[0m\n\u001b[0m\u001b[0;32m     22\u001b[0m         \u001b[0mp_out\u001b[0m \u001b[1;33m/=\u001b[0m \u001b[0mp_out\u001b[0m\u001b[1;33m.\u001b[0m\u001b[0msum\u001b[0m\u001b[1;33m(\u001b[0m\u001b[1;33m)\u001b[0m\u001b[1;33m\u001b[0m\u001b[0m\n\u001b[0;32m     23\u001b[0m         \u001b[1;32mreturn\u001b[0m \u001b[0mdiscrete_random_draw\u001b[0m\u001b[1;33m(\u001b[0m\u001b[0mp_out\u001b[0m\u001b[1;33m.\u001b[0m\u001b[0mflatten\u001b[0m\u001b[1;33m(\u001b[0m\u001b[1;33m)\u001b[0m\u001b[1;33m)\u001b[0m\u001b[1;33m\u001b[0m\u001b[0m\n",
        "\u001b[1;31mIndexError\u001b[0m: arrays used as indices must be of integer (or boolean) type"
       ]
      }
     ],
     "prompt_number": 10
    },
    {
     "cell_type": "code",
     "collapsed": false,
     "input": [
      "%debug"
     ],
     "language": "python",
     "metadata": {},
     "outputs": [
      {
       "output_type": "stream",
       "stream": "stdout",
       "text": [
        "> \u001b[1;32m/home/clement/Documents/Boulot/INRIA_FLOWERS/CODE/explauto/explauto/sensorimotor_model/discrete.py\u001b[0m(21)\u001b[0;36minfer\u001b[1;34m()\u001b[0m\n",
        "\u001b[1;32m     20 \u001b[1;33m        \u001b[1;32melse\u001b[0m\u001b[1;33m:\u001b[0m\u001b[1;33m\u001b[0m\u001b[0m\n",
        "\u001b[0m\u001b[1;32m---> 21 \u001b[1;33m            \u001b[0mp_out\u001b[0m \u001b[1;33m=\u001b[0m \u001b[0mself\u001b[0m\u001b[1;33m.\u001b[0m\u001b[0mjoint_distr\u001b[0m\u001b[1;33m(\u001b[0m\u001b[1;33m)\u001b[0m\u001b[1;33m[\u001b[0m\u001b[1;33m:\u001b[0m\u001b[1;33m,\u001b[0m \u001b[0mx\u001b[0m\u001b[1;33m]\u001b[0m\u001b[1;33m\u001b[0m\u001b[0m\n",
        "\u001b[0m\u001b[1;32m     22 \u001b[1;33m        \u001b[0mp_out\u001b[0m \u001b[1;33m/=\u001b[0m \u001b[0mp_out\u001b[0m\u001b[1;33m.\u001b[0m\u001b[0msum\u001b[0m\u001b[1;33m(\u001b[0m\u001b[1;33m)\u001b[0m\u001b[1;33m\u001b[0m\u001b[0m\n",
        "\u001b[0m\n"
       ]
      },
      {
       "name": "stdout",
       "output_type": "stream",
       "stream": "stdout",
       "text": [
        "ipdb> p x\n"
       ]
      },
      {
       "output_type": "stream",
       "stream": "stdout",
       "text": [
        "array([ 4.57077553])\n"
       ]
      }
     ]
    },
    {
     "cell_type": "code",
     "collapsed": false,
     "input": [
      "clf()\n",
      "plot(progr)\n",
      "legend([str(i) for i in range(s_card)])\n",
      "[text(n_trials * 1.1, progr[-1, x], str(x)) for x in range(s_card)]    "
     ],
     "language": "python",
     "metadata": {},
     "outputs": [
      {
       "metadata": {},
       "output_type": "pyout",
       "prompt_number": 8,
       "text": [
        "[<matplotlib.text.Text at 0x3eb5190>,\n",
        " <matplotlib.text.Text at 0x3eb3b10>,\n",
        " <matplotlib.text.Text at 0x3eb3690>,\n",
        " <matplotlib.text.Text at 0x3eb37d0>,\n",
        " <matplotlib.text.Text at 0x3eb0190>,\n",
        " <matplotlib.text.Text at 0x3eb0d10>,\n",
        " <matplotlib.text.Text at 0x3eb0150>]"
       ]
      }
     ],
     "prompt_number": 8
    },
    {
     "cell_type": "code",
     "collapsed": false,
     "input": [
      "figure()\n",
      "for s in range(s_card):\n",
      "    inds = nonzero(ag.i_model.choices.flatten()[:ag.i_model.t] == s)[0]\n",
      "    plot(inds, ag.i_model.comps[inds], '*', ms=12)\n",
      "legend([str(i) for i in range(s_card)])    "
     ],
     "language": "python",
     "metadata": {},
     "outputs": [
      {
       "metadata": {},
       "output_type": "pyout",
       "prompt_number": 7,
       "text": [
        "<matplotlib.legend.Legend at 0x40b4590>"
       ]
      }
     ],
     "prompt_number": 7
    },
    {
     "cell_type": "code",
     "collapsed": false,
     "input": [
      "2**8"
     ],
     "language": "python",
     "metadata": {},
     "outputs": [
      {
       "metadata": {},
       "output_type": "pyout",
       "prompt_number": 9,
       "text": [
        "256"
       ]
      }
     ],
     "prompt_number": 9
    },
    {
     "cell_type": "code",
     "collapsed": false,
     "input": [
      "figure()\n",
      "win = 40\n",
      "spent = []\n",
      "for t in range(expe_1.i_rec-40):\n",
      "    spent.append([float(sum(expe_1.records[t:t+win, 1] == s))/win * 100 for s in range(s_card)])\n",
      "plot(spent)\n",
      "legend([str(i) for i in range(s_card)])    "
     ],
     "language": "python",
     "metadata": {},
     "outputs": [
      {
       "metadata": {},
       "output_type": "pyout",
       "prompt_number": 8,
       "text": [
        "<matplotlib.legend.Legend at 0x40c8650>"
       ]
      }
     ],
     "prompt_number": 8
    },
    {
     "cell_type": "code",
     "collapsed": false,
     "input": [
      "x = linspace(0., 1., 100)\n",
      "plot(x, exp(2. * x) / exp(2.))"
     ],
     "language": "python",
     "metadata": {},
     "outputs": [
      {
       "metadata": {},
       "output_type": "pyout",
       "prompt_number": 10,
       "text": [
        "[<matplotlib.lines.Line2D at 0x579d850>]"
       ]
      }
     ],
     "prompt_number": 10
    },
    {
     "cell_type": "code",
     "collapsed": false,
     "input": [
      "zip(range(4), x)"
     ],
     "language": "python",
     "metadata": {},
     "outputs": [
      {
       "metadata": {},
       "output_type": "pyout",
       "prompt_number": 15,
       "text": [
        "[(0, 10), (1, 11), (2, 12), (3, 13)]"
       ]
      }
     ],
     "prompt_number": 15
    },
    {
     "cell_type": "code",
     "collapsed": false,
     "input": [
      "n_trials = 10\n",
      "logs_x = zeros((n_trials, s_card))\n",
      "for trial in range(n_trials):\n",
      "    del ag, expe_1\n",
      "    ag = Agent(**myconf)\n",
      "    expe_1 = Experiment(env, ag, 0, [0,1])\n",
      "    expe_1.run(10)\n",
      "    logs_x[trial, :] = [(ag.choices[:ag.t, :] == x).sum() for x in range(s_card)]"
     ],
     "language": "python",
     "metadata": {},
     "outputs": [],
     "prompt_number": 22
    },
    {
     "cell_type": "code",
     "collapsed": false,
     "input": [
      "logs_x.sum(axis=0)"
     ],
     "language": "python",
     "metadata": {},
     "outputs": [
      {
       "metadata": {},
       "output_type": "pyout",
       "prompt_number": 23,
       "text": [
        "array([ 73.,   0.,   0.,  19.,   8.,   0.])"
       ]
      }
     ],
     "prompt_number": 23
    },
    {
     "cell_type": "code",
     "collapsed": false,
     "input": [
      "logs_x"
     ],
     "language": "python",
     "metadata": {},
     "outputs": [
      {
       "metadata": {},
       "output_type": "pyout",
       "prompt_number": 24,
       "text": [
        "array([[  2.,   0.,   0.,   7.,   1.,   0.],\n",
        "       [  1.,   0.,   0.,   9.,   0.,   0.],\n",
        "       [  6.,   0.,   0.,   3.,   1.,   0.],\n",
        "       [  8.,   0.,   0.,   0.,   2.,   0.],\n",
        "       [  7.,   0.,   0.,   0.,   3.,   0.],\n",
        "       [  9.,   0.,   0.,   0.,   1.,   0.],\n",
        "       [ 10.,   0.,   0.,   0.,   0.,   0.],\n",
        "       [ 10.,   0.,   0.,   0.,   0.,   0.],\n",
        "       [ 10.,   0.,   0.,   0.,   0.,   0.],\n",
        "       [ 10.,   0.,   0.,   0.,   0.,   0.]])"
       ]
      }
     ],
     "prompt_number": 24
    },
    {
     "cell_type": "code",
     "collapsed": false,
     "input": [
      "env.s_card"
     ],
     "language": "python",
     "metadata": {},
     "outputs": [
      {
       "metadata": {},
       "output_type": "pyout",
       "prompt_number": 14,
       "text": [
        "6"
       ]
      }
     ],
     "prompt_number": 14
    },
    {
     "cell_type": "code",
     "collapsed": false,
     "input": [],
     "language": "python",
     "metadata": {},
     "outputs": [],
     "prompt_number": 23
    },
    {
     "cell_type": "code",
     "collapsed": false,
     "input": [
      "print ag.choices[:ag.t, :]"
     ],
     "language": "python",
     "metadata": {},
     "outputs": [
      {
       "output_type": "stream",
       "stream": "stdout",
       "text": [
        "[[ 2.]\n",
        " [ 5.]\n",
        " [ 2.]\n",
        " [ 3.]\n",
        " [ 4.]\n",
        " [ 1.]\n",
        " [ 5.]\n",
        " [ 3.]\n",
        " [ 4.]\n",
        " [ 0.]\n",
        " [ 2.]\n",
        " [ 2.]\n",
        " [ 2.]\n",
        " [ 2.]\n",
        " [ 5.]\n",
        " [ 4.]\n",
        " [ 1.]\n",
        " [ 5.]\n",
        " [ 5.]\n",
        " [ 4.]]\n"
       ]
      }
     ],
     "prompt_number": 18
    },
    {
     "cell_type": "code",
     "collapsed": false,
     "input": [
      "[(ag.choices[:ag.t, :] == x).sum() for x in range(s_card)]"
     ],
     "language": "python",
     "metadata": {},
     "outputs": [
      {
       "metadata": {},
       "output_type": "pyout",
       "prompt_number": 25,
       "text": [
        "[2, 4, 11, 8, 7, 8]"
       ]
      }
     ],
     "prompt_number": 25
    },
    {
     "cell_type": "code",
     "collapsed": false,
     "input": [
      "from model.sm_model import LidstoneModel"
     ],
     "language": "python",
     "metadata": {},
     "outputs": [],
     "prompt_number": 2
    },
    {
     "cell_type": "code",
     "collapsed": false,
     "input": [
      "model = LidstoneModel(3, 4)"
     ],
     "language": "python",
     "metadata": {},
     "outputs": [],
     "prompt_number": 3
    },
    {
     "cell_type": "code",
     "collapsed": false,
     "input": [
      "model.counts"
     ],
     "language": "python",
     "metadata": {},
     "outputs": [
      {
       "metadata": {},
       "output_type": "pyout",
       "prompt_number": 4,
       "text": [
        "array([[ 0.,  0.,  0.,  0.],\n",
        "       [ 0.,  0.,  0.,  0.],\n",
        "       [ 0.,  0.,  0.,  0.]])"
       ]
      }
     ],
     "prompt_number": 4
    },
    {
     "cell_type": "code",
     "collapsed": false,
     "input": [
      "model.update(2, 1)"
     ],
     "language": "python",
     "metadata": {},
     "outputs": [],
     "prompt_number": 28
    },
    {
     "cell_type": "code",
     "collapsed": false,
     "input": [
      "p"
     ],
     "language": "python",
     "metadata": {},
     "outputs": [
      {
       "metadata": {},
       "output_type": "pyout",
       "prompt_number": 6,
       "text": [
        "array([[ 0.08333333,  0.08333333,  0.08333333,  0.08333333],\n",
        "       [ 0.08333333,  0.08333333,  0.08333333,  0.08333333],\n",
        "       [ 0.08333333,  0.08333333,  0.08333333,  0.08333333]])"
       ]
      }
     ],
     "prompt_number": 6
    },
    {
     "cell_type": "code",
     "collapsed": false,
     "input": [
      "from collections import deque"
     ],
     "language": "python",
     "metadata": {},
     "outputs": [],
     "prompt_number": 36
    },
    {
     "cell_type": "code",
     "collapsed": false,
     "input": [
      "q = deque(zeros(3), 3)"
     ],
     "language": "python",
     "metadata": {},
     "outputs": [],
     "prompt_number": 38
    },
    {
     "cell_type": "code",
     "collapsed": false,
     "input": [
      "q.append(array([2., 0.]))"
     ],
     "language": "python",
     "metadata": {},
     "outputs": [],
     "prompt_number": 54
    },
    {
     "cell_type": "code",
     "collapsed": false,
     "input": [
      "print q"
     ],
     "language": "python",
     "metadata": {},
     "outputs": [
      {
       "output_type": "stream",
       "stream": "stdout",
       "text": [
        "deque([array([ 0.,  0.]), array([ 1.,  0.]), array([ 2.,  0.])], maxlen=3)\n"
       ]
      }
     ],
     "prompt_number": 55
    },
    {
     "cell_type": "code",
     "collapsed": false,
     "input": [
      "cov(array(q), rowvar = 0)"
     ],
     "language": "python",
     "metadata": {},
     "outputs": [
      {
       "metadata": {},
       "output_type": "pyout",
       "prompt_number": 61,
       "text": [
        "array([[ 1.,  0.],\n",
        "       [ 0.,  0.]])"
       ]
      }
     ],
     "prompt_number": 61
    },
    {
     "cell_type": "code",
     "collapsed": false,
     "input": [
      "d = deque([[t, 0.] for t in range(4)])\n",
      "print d"
     ],
     "language": "python",
     "metadata": {},
     "outputs": [
      {
       "output_type": "stream",
       "stream": "stdout",
       "text": [
        "deque([[0, 0.0], [1, 0.0], [2, 0.0], [3, 0.0]])\n"
       ]
      }
     ],
     "prompt_number": 68
    },
    {
     "cell_type": "code",
     "collapsed": false,
     "input": [
      "cov(d, rowvar=0)"
     ],
     "language": "python",
     "metadata": {},
     "outputs": [
      {
       "metadata": {},
       "output_type": "pyout",
       "prompt_number": 69,
       "text": [
        "array([[ 1.66666667,  0.        ],\n",
        "       [ 0.        ,  0.        ]])"
       ]
      }
     ],
     "prompt_number": 69
    },
    {
     "cell_type": "code",
     "collapsed": false,
     "input": [
      "[0, 1] == 0"
     ],
     "language": "python",
     "metadata": {},
     "outputs": [
      {
       "metadata": {},
       "output_type": "pyout",
       "prompt_number": 70,
       "text": [
        "False"
       ]
      }
     ],
     "prompt_number": 70
    },
    {
     "cell_type": "code",
     "collapsed": false,
     "input": [
      "d = array([0., 0., 0.])\n",
      "d = d / d.sum()"
     ],
     "language": "python",
     "metadata": {},
     "outputs": [
      {
       "output_type": "stream",
       "stream": "stderr",
       "text": [
        "-c:2: RuntimeWarning: invalid value encountered in divide\n"
       ]
      }
     ],
     "prompt_number": 11
    },
    {
     "cell_type": "code",
     "collapsed": false,
     "input": [
      "(discrete_random_draw(d, nb=10000) == 2).sum()"
     ],
     "language": "python",
     "metadata": {},
     "outputs": [
      {
       "metadata": {},
       "output_type": "pyout",
       "prompt_number": 67,
       "text": [
        "3347"
       ]
      }
     ],
     "prompt_number": 67
    },
    {
     "cell_type": "code",
     "collapsed": false,
     "input": [
      "d"
     ],
     "language": "python",
     "metadata": {},
     "outputs": [
      {
       "metadata": {},
       "output_type": "pyout",
       "prompt_number": 30,
       "text": [
        "array([0, 0, 0])"
       ]
      }
     ],
     "prompt_number": 30
    },
    {
     "cell_type": "code",
     "collapsed": false,
     "input": [
      "d = array([1, 1, 1])"
     ],
     "language": "python",
     "metadata": {},
     "outputs": [],
     "prompt_number": 31
    },
    {
     "cell_type": "code",
     "collapsed": false,
     "input": [
      "d"
     ],
     "language": "python",
     "metadata": {},
     "outputs": [
      {
       "metadata": {},
       "output_type": "pyout",
       "prompt_number": 34,
       "text": [
        "array([ 0.33333333,  0.33333333,  0.33333333])"
       ]
      }
     ],
     "prompt_number": 34
    },
    {
     "cell_type": "code",
     "collapsed": false,
     "input": [],
     "language": "python",
     "metadata": {},
     "outputs": []
    }
   ],
   "metadata": {}
  }
 ]
}