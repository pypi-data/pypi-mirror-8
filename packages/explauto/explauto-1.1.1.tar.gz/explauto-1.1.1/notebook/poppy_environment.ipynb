{
 "metadata": {
  "name": "",
  "signature": "sha256:a46590aef116d1125823c05565e5404d3d6fbe677ea6760e96787afd0ea1c575"
 },
 "nbformat": 3,
 "nbformat_minor": 0,
 "worksheets": [
  {
   "cells": [
    {
     "cell_type": "heading",
     "level": 1,
     "metadata": {},
     "source": [
      "Running a simple experiment on the [Poppy robot](http://www.poppy-project.org)"
     ]
    },
    {
     "cell_type": "markdown",
     "metadata": {},
     "source": [
      "Explauto comes with a [PyPotEnvironment](http://flowersteam.github.io/explauto/explauto.environment.html#explauto.environment.pypot.pypot_robot.PypotEnvironment) which links the [pypot library](https://github.com/poppy-project/pypot) to the explauto framework. This library, also developed in the [Flowers team](https://flowers.inria.fr) can be used to control robot based on the dynamixel motors. It is notabely used in the [poppy-project](http://www.poppy-project.org) to control Poppy."
     ]
    },
    {
     "cell_type": "markdown",
     "metadata": {},
     "source": [
      "![Alt text](https://flowers.inria.fr/poppy/wp-content/uploads/banners/walk_detail_hands-1100x380.jpg)"
     ]
    },
    {
     "cell_type": "markdown",
     "metadata": {},
     "source": [
      " As an example of how explauto can be used with pypot, we will setup a simple experiment where Poppy will learn the inverse model of its arm. To illustrate the power of explauto, we will make it learn simultaneously on both arms, by using motor babbling on the left arm and goal babbling on the right arm."
     ]
    },
    {
     "cell_type": "heading",
     "level": 2,
     "metadata": {},
     "source": [
      "Setup your Poppy using pypot"
     ]
    },
    {
     "cell_type": "markdown",
     "metadata": {},
     "source": [
      "We assume here that you are already familiar with pypot, or at least that you know the very basic stuff. \n",
      "If it is not the case you should directly refer to [Poppy documentation](http://wiki.poppy-project.org). Note that in order to work with the [PypotEnvironment](http://flowersteam.github.io/explauto/explauto.environment.html#explauto.environment.pypot.pypot_robot.PypotEnvironment) you need to have installed [pypot](http://poppy-project.github.io/pypot/) first. To use it with Poppy you also need the [poppytools](https://github.com/poppy-project/poppy-software)."
     ]
    },
    {
     "cell_type": "heading",
     "level": 3,
     "metadata": {},
     "source": [
      "Instantiate your robot"
     ]
    },
    {
     "cell_type": "markdown",
     "metadata": {},
     "source": [
      "First, we will instantiate our robot, you need to change the configuration path to match your installation."
     ]
    },
    {
     "cell_type": "code",
     "collapsed": false,
     "input": [
      "import pypot.robot\n",
      "\n",
      "config_path = '../../poppy-software/poppytools/configuration/poppy_config_linux.json'\n",
      "\n",
      "poppy = pypot.robot.from_json(config_path)\n",
      "poppy.start_sync()"
     ],
     "language": "python",
     "metadata": {},
     "outputs": []
    },
    {
     "cell_type": "markdown",
     "metadata": {},
     "source": [
      "Then we initialise it and put it in a sitting position. Be aware that the following lines will make your robot move!"
     ]
    },
    {
     "cell_type": "code",
     "collapsed": false,
     "input": [
      "for m in poppy.motors:\n",
      "    m.compliant  = False"
     ],
     "language": "python",
     "metadata": {},
     "outputs": []
    },
    {
     "cell_type": "markdown",
     "metadata": {},
     "source": [
      "Now, we make Poppy sit to prevent from falling when moving too quickly."
     ]
    },
    {
     "cell_type": "code",
     "collapsed": false,
     "input": [
      "import poppytools.primitive.basic as basic\n",
      "\n",
      "poppy.attach_primitive(basic.SitPosition (poppy), 'sit_position')\n",
      "poppy.sit_position.start()\n",
      "popy.sit_position.wait_to_stop()"
     ],
     "language": "python",
     "metadata": {},
     "outputs": []
    },
    {
     "cell_type": "heading",
     "level": 3,
     "metadata": {},
     "source": [
      "Use of an Optitrack sensor"
     ]
    },
    {
     "cell_type": "markdown",
     "metadata": {},
     "source": [
      "We will use an [Optitrack sensor](http://www.naturalpoint.com/optitrack/) to retrieve Poppy's hand position. Pypot directly provides a [bridge](http://poppy-project.github.io/pypot/pypot.sensor.html#module-pypot.sensor.optitrack) to this kind of sensor."
     ]
    },
    {
     "cell_type": "code",
     "collapsed": false,
     "input": [
      "from explauto.utils.tracker import OptiTracker\n",
      "from pypot.sensor.optibridge import OptiTrackClient \n",
      "\n",
      "opti = OptiTrackClient('193.50.110.222', 8989, ('l_hand', 'r_hand', 'wand'))\n",
      "opti.start()\n",
      "\n",
      "tracker = OptiTracker(opti)"
     ],
     "language": "python",
     "metadata": {},
     "outputs": []
    },
    {
     "cell_type": "heading",
     "level": 2,
     "metadata": {},
     "source": [
      "Settup the experiment"
     ]
    },
    {
     "cell_type": "markdown",
     "metadata": {},
     "source": [
      "The [PypotEnvironment](http://flowersteam.github.io/explauto/explauto.environment.html#explauto.environment.pypot.pypot_robot.PypotEnvironment) is instantiated with:\n",
      "* a pypot based robot\n",
      "* a set of controlled motors\n",
      "* the duration of each motion\n",
      "* a tracker\n",
      "* the name of the object we want to track\n",
      "* plus, the usual sensori and motor bounds"
     ]
    },
    {
     "cell_type": "code",
     "collapsed": false,
     "input": [
      "from explauto.environment.pypot import PypotEnvironment\n",
      "from explauto.environment import environments\n",
      "\n",
      "pypot_env_configs = {}"
     ],
     "language": "python",
     "metadata": {},
     "outputs": []
    },
    {
     "cell_type": "heading",
     "level": 3,
     "metadata": {},
     "source": [
      "Register the configurations"
     ]
    },
    {
     "cell_type": "markdown",
     "metadata": {},
     "source": [
      "We first define the left arm configuration:"
     ]
    },
    {
     "cell_type": "code",
     "collapsed": false,
     "input": [
      "from numpy import deg2rad, array\n",
      "\n",
      "m_mins = deg2rad(array([-75, 0, -30, -90]))\n",
      "m_maxs = deg2rad(array([15, 80, 0, 0]))\n",
      "\n",
      "s_mins = array([-0.6, -0.2,  1.5]) # Here the sensor bounds are hardcoded\n",
      "s_maxs = array([-0.1,  0.2,  2.0])\n",
      "\n",
      "env_cls = PypotEnvironment\n",
      "\n",
      "conf = {'pypot_robot': poppy,\n",
      "        'motors': poppy.l_arm,\n",
      "        'move_duration': 1.0,\n",
      "        'tracker': tracker,\n",
      "        'tracked_obj': 'l_hand',\n",
      "        'm_mins': m_mins,\n",
      "        'm_maxs': m_maxs,\n",
      "        's_mins': s_mins,\n",
      "        's_maxs': s_maxs}\n",
      "\n",
      "pypot_env_configs['l_arm'] = conf"
     ],
     "language": "python",
     "metadata": {},
     "outputs": []
    },
    {
     "cell_type": "markdown",
     "metadata": {},
     "source": [
      "Then, the right arm configuration:"
     ]
    },
    {
     "cell_type": "code",
     "collapsed": false,
     "input": [
      "m_mins = deg2rad(array([-75, -80, -30, -90]))\n",
      "m_maxs = deg2rad(array([15, 0, 0, 0]))\n",
      "\n",
      "s_mins = array([-0.1, -0.1, 1.7])\n",
      "s_maxs = array([ 0.3,  0.2, 2.1])\n",
      "\n",
      "conf = {'pypot_robot': poppy,\n",
      "        'motors': poppy.r_arm,\n",
      "        'move_duration': 1.0,\n",
      "        'tracker': tracker,\n",
      "        'tracked_obj': 'r_hand',\n",
      "        'm_mins': m_mins,\n",
      "        'm_maxs': m_maxs,\n",
      "        's_mins': s_mins,\n",
      "        's_maxs': s_maxs}\n",
      "\n",
      "pypot_env_configs['r_arm'] = conf"
     ],
     "language": "python",
     "metadata": {},
     "outputs": []
    },
    {
     "cell_type": "markdown",
     "metadata": {},
     "source": [
      "And finally we register them both:"
     ]
    },
    {
     "cell_type": "code",
     "collapsed": false,
     "input": [
      "environments['poppy'] = (PypotEnvironment, pypot_env_configs)"
     ],
     "language": "python",
     "metadata": {},
     "outputs": []
    },
    {
     "cell_type": "heading",
     "level": 3,
     "metadata": {},
     "source": [
      "Define the two experiment settings"
     ]
    },
    {
     "cell_type": "code",
     "collapsed": false,
     "input": [
      "from explauto.experiment import ExperimentPool, make_settings"
     ],
     "language": "python",
     "metadata": {},
     "outputs": []
    },
    {
     "cell_type": "code",
     "collapsed": false,
     "input": [
      "l_xp = make_settings(environment='poppy', \n",
      "                     babbling_mode='motor', \n",
      "                     interest_model='random',\n",
      "                     sensorimotor_model='nearest_neighbor',\n",
      "                     environment_config='l_arm')\n",
      "\n",
      "r_xp = make_settings(environment='poppy', \n",
      "                     babbling_mode='goal', \n",
      "                     interest_model='random',\n",
      "                     sensorimotor_model='nearest_neighbor',\n",
      "                     environment_config='r_arm')"
     ],
     "language": "python",
     "metadata": {},
     "outputs": []
    },
    {
     "cell_type": "markdown",
     "metadata": {},
     "source": [
      "As the sensory spaces are disjoint we will not use the same testcases for both experiments."
     ]
    },
    {
     "cell_type": "code",
     "collapsed": false,
     "input": [
      "xps = ExperimentPool([l_xp, r_xp], evaluate_at=[1, 10, 20, 50])"
     ],
     "language": "python",
     "metadata": {},
     "outputs": []
    },
    {
     "cell_type": "heading",
     "level": 2,
     "metadata": {},
     "source": [
      "Run the experiment"
     ]
    },
    {
     "cell_type": "code",
     "collapsed": false,
     "input": [
      "xps.run()"
     ],
     "language": "python",
     "metadata": {},
     "outputs": []
    },
    {
     "cell_type": "heading",
     "level": 3,
     "metadata": {},
     "source": [
      "Plot the results"
     ]
    },
    {
     "cell_type": "code",
     "collapsed": false,
     "input": [
      "%pylab inline\n",
      "\n",
      "ax = axes()\n",
      "\n",
      "for log in xps.logs:\n",
      "    log.plot_learning_curve(ax)\n",
      "    \n",
      "legend([s.babbling_mode for s in xpx.settings])"
     ],
     "language": "python",
     "metadata": {},
     "outputs": []
    },
    {
     "cell_type": "code",
     "collapsed": false,
     "input": [
      "colors = ('r', 'g', 'b')\n",
      "\n",
      "for i, (config, log) in enumerate(zip(xps.configurations, xps.logs)):    \n",
      "    plot_index = 120 + i + 1\n",
      "    ax_motor = subplot(plot_index)\n",
      "    ax_motor.axis([0, 1, -1, 1])\n",
      "    log.scatter_plot(ax_motor, (('sensori', [0, 1]), ), color=colors[i])\n",
      "    \n",
      "    legend([config.babbling_mode])"
     ],
     "language": "python",
     "metadata": {},
     "outputs": []
    },
    {
     "cell_type": "heading",
     "level": 1,
     "metadata": {},
     "source": [
      "Vid\u00e9o"
     ]
    },
    {
     "cell_type": "code",
     "collapsed": false,
     "input": [
      "from IPython.display import VimeoVideo\n",
      "\n",
      "VimeoVideo(95405850)"
     ],
     "language": "python",
     "metadata": {},
     "outputs": [
      {
       "html": [
        "\n",
        "        <iframe\n",
        "            width=\"400\"\n",
        "            height=300\"\n",
        "            src=\"https://player.vimeo.com/video/95405850\"\n",
        "            frameborder=\"0\"\n",
        "            allowfullscreen\n",
        "        ></iframe>\n",
        "        "
       ],
       "metadata": {},
       "output_type": "pyout",
       "prompt_number": 1,
       "text": [
        "<IPython.lib.display.VimeoVideo at 0x10a8b2610>"
       ]
      }
     ],
     "prompt_number": 1
    },
    {
     "cell_type": "code",
     "collapsed": false,
     "input": [],
     "language": "python",
     "metadata": {},
     "outputs": []
    }
   ],
   "metadata": {}
  }
 ]
}