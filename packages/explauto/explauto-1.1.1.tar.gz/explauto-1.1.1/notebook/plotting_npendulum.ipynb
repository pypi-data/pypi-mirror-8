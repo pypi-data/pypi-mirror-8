{
 "metadata": {
  "name": "",
  "signature": "sha256:e38cd0a315370b0af4811ed1769c8f87afc6e800284a2ff242f1b5991b516545"
 },
 "nbformat": 3,
 "nbformat_minor": 0,
 "worksheets": [
  {
   "cells": [
    {
     "cell_type": "heading",
     "level": 1,
     "metadata": {},
     "source": [
      "Plotting from NPendulum Environment"
     ]
    },
    {
     "cell_type": "markdown",
     "metadata": {},
     "source": [
      "In Explauto, an *environment* implements the physical properties of the interaction between the robot body and the environment in which it evolves. Explauto come with several sensorimotor systems available from the [environment package](http://flowersteam.github.io/explauto/explauto.environment.html). To learn how to set an environment, look at the notebook [Setting Environments](https://github.com/flowersteam/explauto/blob/master/notebook/setting_environments.ipynb)."
     ]
    },
    {
     "cell_type": "code",
     "collapsed": false,
     "input": [
      "from explauto.environment import environments\n",
      "print 'Available environments: {}'.format(environments.keys())"
     ],
     "language": "python",
     "metadata": {},
     "outputs": [
      {
       "output_type": "stream",
       "stream": "stdout",
       "text": [
        "Available environments: ['npendulum', 'pendulum', 'simple_arm']\n"
       ]
      }
     ],
     "prompt_number": 7
    },
    {
     "cell_type": "markdown",
     "metadata": {},
     "source": [
      "We will use the npendulum environment for this tutorial. It consists in the simulation of a multiple pendulum with $n+1$ nodes, aiming to model a string. The first node is the one which undergoes the input force.\n",
      "\n",
      "This environment comes with a predefined configuration, named *default*."
     ]
    },
    {
     "cell_type": "code",
     "collapsed": false,
     "input": [
      "env_cls, env_configs, _ = environments['npendulum']\n",
      "print 'Available configurations for the simple arm environment: {}'.format(env_configs.keys())"
     ],
     "language": "python",
     "metadata": {},
     "outputs": [
      {
       "output_type": "stream",
       "stream": "stdout",
       "text": [
        "Available configurations for the simple arm environment: ['default']\n"
       ]
      }
     ],
     "prompt_number": 8
    },
    {
     "cell_type": "markdown",
     "metadata": {},
     "source": [
      "In the case of the npendulum environment, a configuration must defines the following values:\n",
      "* nb_joints (number $n$ of the joints)\n",
      "* m_mins and m_maxs (bounds of the motor space)\n",
      "* s_mins ans s_maxs (bounds of the sensory space)\n",
      "* length_ratio (length ratio from one segment to the following one)\n",
      "* noise (gaussian noise added in the sensor space)\n",
      "\n",
      "For more advanced settings, please look at the [npendulum environment documentation](http://flowersteam.github.io/explauto/explauto.environment.html#explauto.environment.npendulum.npendulum.NPendulumEnvironment).\n",
      "\n",
      "Then we create the Environment instance."
     ]
    },
    {
     "cell_type": "code",
     "collapsed": false,
     "input": [
      "config = env_configs['default']\n",
      "\n",
      "print 'Default configuration for the npendulum:'\n",
      "for config_key, value in config.items():\n",
      "    print '\\t{}: {}'.format(config_key, value)\n",
      "\n",
      "environment = env_cls(**config)"
     ],
     "language": "python",
     "metadata": {},
     "outputs": [
      {
       "output_type": "stream",
       "stream": "stdout",
       "text": [
        "Default configuration for the npendulum:\n",
        "\ts_mins: [-450.   -1.]\n",
        "\tm_mins: [-0.1 -0.1 -0.1 -0.1 -0.1 -0.1 -0.1 -0.1 -0.1 -0.1]\n",
        "\tnoise: 0.02\n",
        "\ts_maxs: [ 450.    1.]\n",
        "\tm_maxs: [ 0.1  0.1  0.1  0.1  0.1  0.1  0.1  0.1  0.1  0.1]\n",
        "\tn: 5\n"
       ]
      }
     ],
     "prompt_number": 18
    },
    {
     "cell_type": "markdown",
     "metadata": {},
     "source": [
      "Each environment has an [update](http://flowersteam.github.io/explauto/explauto.environment.html#explauto.environment.environment.Environment.update) method, we take as argument a motor command vector $m$. It computes $m\\_bounds$, the command $m$ bounded according to the configuration used (m_mins, m_maxs values), then computes the corresponding sensory effect vector $s$ and returns the position and velocity of the last effector.\n",
      "\n",
      "$m$ is a list of ten elements that are the amplitude of each step function."
     ]
    },
    {
     "cell_type": "code",
     "collapsed": false,
     "input": [
      "from math import pi\n",
      "m = [0.01,0.06,-0.05,0.01,0.,0.,0.,0.,-0.1,0.01]\n",
      "print environment.update(m)"
     ],
     "language": "python",
     "metadata": {},
     "outputs": [
      {
       "output_type": "stream",
       "stream": "stdout",
       "text": [
        "[  1.00000000e-02   6.00000000e-02  -5.00000000e-02   1.00000000e-02\n",
        "   0.00000000e+00   0.00000000e+00   0.00000000e+00   0.00000000e+00\n",
        "  -1.00000000e-01   1.00000000e-02   8.15708828e+01  -6.32193953e-01]\n"
       ]
      }
     ],
     "prompt_number": 21
    },
    {
     "cell_type": "markdown",
     "metadata": {},
     "source": [
      "Then, we add the noise :"
     ]
    },
    {
     "cell_type": "code",
     "collapsed": false,
     "input": [
      "s = environment.compute_sensori_effect(m)\n",
      "print s"
     ],
     "language": "python",
     "metadata": {},
     "outputs": [],
     "prompt_number": 23
    },
    {
     "cell_type": "markdown",
     "metadata": {},
     "source": [
      "The simple arm environment also comes with few methods to visualize the arm shape for a given motor configuration."
     ]
    },
    {
     "cell_type": "markdown",
     "metadata": {},
     "source": [
      "The first one plot the position of the end effector at the end of the movement."
     ]
    },
    {
     "cell_type": "code",
     "collapsed": false,
     "input": [
      "%pylab inline\n",
      "\n",
      "ax = axes()\n",
      "environment.plot_s(ax, s)"
     ],
     "language": "python",
     "metadata": {},
     "outputs": [
      {
       "output_type": "stream",
       "stream": "stdout",
       "text": [
        "Populating the interactive namespace from numpy and matplotlib\n"
       ]
      },
      {
       "output_type": "stream",
       "stream": "stderr",
       "text": [
        "WARNING: pylab import has clobbered these variables: ['pi']\n",
        "`%matplotlib` prevents importing * from pylab and numpy\n"
       ]
      },
      {
       "metadata": {},
       "output_type": "display_data",
       "png": "[encoded data removed]",
       "text": [
        "<matplotlib.figure.Figure at 0x7fb4f7169990>"
       ]
      }
     ],
     "prompt_number": 13
    },
    {
     "cell_type": "markdown",
     "metadata": {},
     "source": [
      "The second one computes and plots the position of the end effector from $m$. In this example, we generate goals and plot them."
     ]
    },
    {
     "cell_type": "code",
     "collapsed": false,
     "input": [
      "%pylab inline\n",
      "\n",
      "motor_configurations = environment.random_motors(n=5)\n",
      "ax = axes()\n",
      "for m in motor_configurations:\n",
      "    environment.plot_and_compute(ax, m)"
     ],
     "language": "python",
     "metadata": {},
     "outputs": [
      {
       "output_type": "stream",
       "stream": "stdout",
       "text": [
        "Populating the interactive namespace from numpy and matplotlib\n"
       ]
      },
      {
       "metadata": {},
       "output_type": "display_data",
       "png": "[encoded data removed]",
       "text": [
        "<matplotlib.figure.Figure at 0x7fb4f715d050>"
       ]
      }
     ],
     "prompt_number": 14
    },
    {
     "cell_type": "markdown",
     "metadata": {},
     "source": [
      "The third one plots the whole npendulum. The squared point is the end effector."
     ]
    },
    {
     "cell_type": "code",
     "collapsed": false,
     "input": [
      "%pylab inline\n",
      "\n",
      "motor_configurations = environment.random_motors(n=1)\n",
      "ax = axes()\n",
      "for m in motor_configurations:\n",
      "    environment.plot_npendulum(ax, m)"
     ],
     "language": "python",
     "metadata": {},
     "outputs": [
      {
       "output_type": "stream",
       "stream": "stdout",
       "text": [
        "Populating the interactive namespace from numpy and matplotlib\n"
       ]
      },
      {
       "metadata": {},
       "output_type": "display_data",
       "png": "[encoded data removed]",
       "text": [
        "<matplotlib.figure.Figure at 0x7fb4f46da110>"
       ]
      }
     ],
     "prompt_number": 25
    },
    {
     "cell_type": "markdown",
     "metadata": {},
     "source": [
      "The last one generates .png files that contains the whole pendulum image, in order to create a video. The computation may take few minutes."
     ]
    },
    {
     "cell_type": "code",
     "collapsed": false,
     "input": [
      "%pylab inline\n",
      "m = [0.01,0.06,-0.05,0.01,0.,0.,0.,0.,-0.1,0.01]\n",
      "environment.animate_pendulum(m)"
     ],
     "language": "python",
     "metadata": {},
     "outputs": [
      {
       "output_type": "stream",
       "stream": "stdout",
       "text": [
        "Populating the interactive namespace from numpy and matplotlib\n"
       ]
      },
      {
       "metadata": {},
       "output_type": "display_data",
       "text": [
        "<matplotlib.figure.Figure at 0x7fb4f5fc7b50>"
       ]
      }
     ],
     "prompt_number": 16
    }
   ],
   "metadata": {}
  }
 ]
}