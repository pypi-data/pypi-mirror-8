{
 "metadata": {
  "name": "",
  "signature": "sha256:787811cbede7289fd72cdc3665c7ca3dda5ed3f22e1723938ea2fb1f8333b073"
 },
 "nbformat": 3,
 "nbformat_minor": 0,
 "worksheets": [
  {
   "cells": [
    {
     "cell_type": "code",
     "collapsed": false,
     "input": [],
     "language": "python",
     "metadata": {},
     "outputs": []
    }
   ],
   "metadata": {}
  }
 ]
}