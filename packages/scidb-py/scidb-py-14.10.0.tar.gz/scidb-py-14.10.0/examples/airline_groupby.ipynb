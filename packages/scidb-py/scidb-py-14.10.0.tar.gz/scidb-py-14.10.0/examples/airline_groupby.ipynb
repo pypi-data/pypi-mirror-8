{
 "metadata": {
  "name": "",
  "signature": "sha256:11577cacec328d42f812779445cd43f83044ddeb405cc6b299fa7aae7633df40"
 },
 "nbformat": 3,
 "nbformat_minor": 0,
 "worksheets": [
  {
   "cells": [
    {
     "cell_type": "heading",
     "level": 1,
     "metadata": {},
     "source": [
      "Airline Data Experiments"
     ]
    },
    {
     "cell_type": "code",
     "collapsed": false,
     "input": [
      "%matplotlib inline\n",
      "\n",
      "from scidbpy import connect\n",
      "import matplotlib.pyplot as plt\n",
      "plt.rcParams['figure.figsize'] = (20, 20)\n",
      "plt.rcParams['figure.dpi'] = 300\n",
      "plt.rcParams['font.size'] = 10\n",
      "\n",
      "sdb = connect()"
     ],
     "language": "python",
     "metadata": {},
     "outputs": [],
     "prompt_number": 1
    },
    {
     "cell_type": "markdown",
     "metadata": {},
     "source": [
      "This notebook follows [this analysis](https://github.com/Paradigm4/SciDBR/wiki/Airline-data-experiments-I:-Loading-and-aggregation) using the SciDBR package, to analyze flight delays in historical airline data.\n",
      "\n",
      "## Getting the data\n",
      "\n",
      "The raw data are available at http://stat-computing.org/dataexpo/2009/. The files for 1998 and 1999 were loaded\n",
      "into SciDB using the command:\n",
      "\n",
      "```bash\n",
      "\n",
      "schema=\"<Year:int64 null,Month:int64 null,DayofMonth:int64 null,DayOfWeek:int64 null,DepTime:int64 null,CRSDepTime:int64 null,ArrTime:int64 null,CRSArrTime:int64 null,UniqueCarrier:string null,FlightNum:int32 null,TailNum:string null,ActualElapsedTime:int32 null,CRSElapsedTime:int32 null,AirTime:int32 null,ArrDelay:int32 null,DepDelay:int32 null,Origin:string null,Dest:string null,Distance:int32 null,TaxiIn:int32 null,TaxiOut:int32 null,Cancelled:int32 null,CancellationCode:string null,Diverted:int32 null,CarrierDelay:int32 null,WeatherDelay:int32 null,NASDelay:int32 null,SecurityDelay:int32 null,LateAircraftDelay:int32 null>[row=0:*,1000000,0]\"\n",
      "\n",
      "types=$(echo $schema |sed -e \"s/ null//g\" | sed -e \"s/.*<//\" | sed -e \"s/>.*//\" | tr ',' '\\n' | sed -e \"s/.*://g\" | sed -e \"s/int64/N/\"  | sed -e \"s/int32/N/\" | sed -e \"s/bool/N/\" | sed -e \"s/string/s/\" | tr -d '\\n')\n",
      "\n",
      "iquery -aq \"remove(airline)\" >/dev/null 2>&1 &\n",
      "x=$(ls *.bz2)\n",
      "\n",
      "echo \"Load\"\n",
      "time bzcat $x | sed -e \"s/NA//g\" | loadcsv.py -n 1 -t $types -a \"airline\" -x -s \"$schema\" -e 1000 -w \"airline_shadow\"\n",
      "\n",
      "echo \"Total number of observations:\"\n",
      "iquery -aq \"aggregate(airline, count(*))\"\n",
      "```"
     ]
    },
    {
     "cell_type": "heading",
     "level": 2,
     "metadata": {},
     "source": [
      "Grouped aggregates"
     ]
    },
    {
     "cell_type": "code",
     "collapsed": false,
     "input": [
      "a = sdb.wrap_array('airline')\n",
      "a = a[a.att_names[0:8]]  # select the first 8 columns\n",
      "a.head()"
     ],
     "language": "python",
     "metadata": {},
     "outputs": [
      {
       "html": [
        "<div style=\"max-height:1000px;max-width:1500px;overflow:auto;\">\n",
        "<table border=\"1\" class=\"dataframe\">\n",
        "  <thead>\n",
        "    <tr style=\"text-align: right;\">\n",
        "      <th></th>\n",
        "      <th>Year</th>\n",
        "      <th>Month</th>\n",
        "      <th>DayofMonth</th>\n",
        "      <th>DayOfWeek</th>\n",
        "      <th>DepTime</th>\n",
        "      <th>CRSDepTime</th>\n",
        "      <th>ArrTime</th>\n",
        "      <th>CRSArrTime</th>\n",
        "    </tr>\n",
        "  </thead>\n",
        "  <tbody>\n",
        "    <tr>\n",
        "      <th>0</th>\n",
        "      <td> 1998</td>\n",
        "      <td> 1</td>\n",
        "      <td> 17</td>\n",
        "      <td> 6</td>\n",
        "      <td> 715</td>\n",
        "      <td> 715</td>\n",
        "      <td> 840</td>\n",
        "      <td> 840</td>\n",
        "    </tr>\n",
        "    <tr>\n",
        "      <th>1</th>\n",
        "      <td> 1998</td>\n",
        "      <td> 1</td>\n",
        "      <td> 18</td>\n",
        "      <td> 7</td>\n",
        "      <td> 715</td>\n",
        "      <td> 715</td>\n",
        "      <td> 830</td>\n",
        "      <td> 840</td>\n",
        "    </tr>\n",
        "    <tr>\n",
        "      <th>2</th>\n",
        "      <td> 1998</td>\n",
        "      <td> 1</td>\n",
        "      <td> 19</td>\n",
        "      <td> 1</td>\n",
        "      <td> 715</td>\n",
        "      <td> 715</td>\n",
        "      <td> 831</td>\n",
        "      <td> 840</td>\n",
        "    </tr>\n",
        "    <tr>\n",
        "      <th>3</th>\n",
        "      <td> 1998</td>\n",
        "      <td> 1</td>\n",
        "      <td> 20</td>\n",
        "      <td> 2</td>\n",
        "      <td> 715</td>\n",
        "      <td> 715</td>\n",
        "      <td> 836</td>\n",
        "      <td> 840</td>\n",
        "    </tr>\n",
        "    <tr>\n",
        "      <th>4</th>\n",
        "      <td> 1998</td>\n",
        "      <td> 1</td>\n",
        "      <td> 21</td>\n",
        "      <td> 3</td>\n",
        "      <td> 715</td>\n",
        "      <td> 715</td>\n",
        "      <td> 836</td>\n",
        "      <td> 840</td>\n",
        "    </tr>\n",
        "  </tbody>\n",
        "</table>\n",
        "</div>"
       ],
       "metadata": {},
       "output_type": "pyout",
       "prompt_number": 11,
       "text": [
        "   Year  Month  DayofMonth  DayOfWeek  DepTime  CRSDepTime  ArrTime  \\\n",
        "0  1998      1          17          6      715         715      840   \n",
        "1  1998      1          18          7      715         715      830   \n",
        "2  1998      1          19          1      715         715      831   \n",
        "3  1998      1          20          2      715         715      836   \n",
        "4  1998      1          21          3      715         715      836   \n",
        "\n",
        "   CRSArrTime  \n",
        "0         840  \n",
        "1         840  \n",
        "2         840  \n",
        "3         840  \n",
        "4         840  "
       ]
      }
     ],
     "prompt_number": 11
    },
    {
     "cell_type": "markdown",
     "metadata": {},
     "source": [
      "Now we compute a new attribute, an indicator variable **late**, that is 1 if a flight is delayed by more than 15 minutes. In SciDB-Py the syntax for defining new attributes is `array[new_attribute_name] = SciDB_expression_string`."
     ]
    },
    {
     "cell_type": "code",
     "collapsed": false,
     "input": [
      "a['late'] = (\"iif( (ArrTime/100.0)*60 + ArrTime - 100*(ArrTime/100.0) - \"\n",
      "                  \"((CRSArrTime/100.0)*60 + CRSArrTime - 100*(CRSArrTime/100.0)) > 15,1,0)\")"
     ],
     "language": "python",
     "metadata": {},
     "outputs": [],
     "prompt_number": 3
    },
    {
     "cell_type": "markdown",
     "metadata": {},
     "source": [
      "Let's look at how often flights are delayed throughout the year. The SciDB-Py groupby operator maps a subset of Pandas groupby syntax onto SciDB Queries"
     ]
    },
    {
     "cell_type": "code",
     "collapsed": false,
     "input": [
      "agg = a.groupby(['DayOfWeek', 'DayofMonth', 'Month', 'Year']).aggregate({'frac':'avg(late)'})"
     ],
     "language": "python",
     "metadata": {},
     "outputs": [],
     "prompt_number": 4
    },
    {
     "cell_type": "markdown",
     "metadata": {},
     "source": [
      "This line groups the array into bins with equal `(DayOfWeek, Month, Year)` values, computes the average value for the `late` attribute, and stores that as a new attribute called `frac`. Additional quantities can be computed by passing additional items into the `aggregate` dictionary. This call produces the following SciDB query:"
     ]
    },
    {
     "cell_type": "code",
     "collapsed": false,
     "input": [
      "print agg.query"
     ],
     "language": "python",
     "metadata": {},
     "outputs": [
      {
       "output_type": "stream",
       "stream": "stdout",
       "text": [
        "unpack(aggregate(redimension(apply(project(airline,Year,Month,DayofMonth,DayOfWeek,DepTime,CRSDepTime,ArrTime,CRSArrTime),late,iif( (ArrTime/100.0)*60 + ArrTime - 100*(ArrTime/100.0) - ((CRSArrTime/100.0)*60 + CRSArrTime - 100*(CRSArrTime/100.0)) > 15,1,0)),<late:int64 NULL DEFAULT null> [row=0:10999999,1000000,0,DayOfWeek=1:7,1000,0,Year=1998:1999,1000,0,Month=1:12,1000,0,DayofMonth=1:31,1000,0]),avg(late) as frac,DayOfWeek,DayofMonth,Month,Year),_idx)\n"
       ]
      }
     ],
     "prompt_number": 5
    },
    {
     "cell_type": "markdown",
     "metadata": {},
     "source": [
      "The aggregated array is small enough to download, and examine in Python"
     ]
    },
    {
     "cell_type": "code",
     "collapsed": false,
     "input": [
      "results = agg.todataframe()\n",
      "results.head()"
     ],
     "language": "python",
     "metadata": {},
     "outputs": [
      {
       "html": [
        "<div style=\"max-height:1000px;max-width:1500px;overflow:auto;\">\n",
        "<table border=\"1\" class=\"dataframe\">\n",
        "  <thead>\n",
        "    <tr style=\"text-align: right;\">\n",
        "      <th></th>\n",
        "      <th>DayOfWeek</th>\n",
        "      <th>DayofMonth</th>\n",
        "      <th>Month</th>\n",
        "      <th>Year</th>\n",
        "      <th>frac</th>\n",
        "    </tr>\n",
        "  </thead>\n",
        "  <tbody>\n",
        "    <tr>\n",
        "      <th>0</th>\n",
        "      <td> 1</td>\n",
        "      <td> 1</td>\n",
        "      <td>  2</td>\n",
        "      <td> 1999</td>\n",
        "      <td> 0.196205</td>\n",
        "    </tr>\n",
        "    <tr>\n",
        "      <th>1</th>\n",
        "      <td> 1</td>\n",
        "      <td> 1</td>\n",
        "      <td>  3</td>\n",
        "      <td> 1999</td>\n",
        "      <td> 0.323090</td>\n",
        "    </tr>\n",
        "    <tr>\n",
        "      <th>2</th>\n",
        "      <td> 1</td>\n",
        "      <td> 1</td>\n",
        "      <td>  6</td>\n",
        "      <td> 1998</td>\n",
        "      <td> 0.238424</td>\n",
        "    </tr>\n",
        "    <tr>\n",
        "      <th>3</th>\n",
        "      <td> 1</td>\n",
        "      <td> 1</td>\n",
        "      <td> 11</td>\n",
        "      <td> 1999</td>\n",
        "      <td> 0.255699</td>\n",
        "    </tr>\n",
        "    <tr>\n",
        "      <th>4</th>\n",
        "      <td> 1</td>\n",
        "      <td> 2</td>\n",
        "      <td>  2</td>\n",
        "      <td> 1998</td>\n",
        "      <td> 0.260074</td>\n",
        "    </tr>\n",
        "  </tbody>\n",
        "</table>\n",
        "</div>"
       ],
       "metadata": {},
       "output_type": "pyout",
       "prompt_number": 6,
       "text": [
        "   DayOfWeek  DayofMonth  Month  Year      frac\n",
        "0          1           1      2  1999  0.196205\n",
        "1          1           1      3  1999  0.323090\n",
        "2          1           1      6  1998  0.238424\n",
        "3          1           1     11  1999  0.255699\n",
        "4          1           2      2  1998  0.260074"
       ]
      }
     ],
     "prompt_number": 6
    },
    {
     "cell_type": "markdown",
     "metadata": {},
     "source": [
      "Here's a summary graph in matplotlib"
     ]
    },
    {
     "cell_type": "code",
     "collapsed": false,
     "input": [
      "results['Week'] = results.DayofMonth // 7 + 1\n",
      "\n",
      "arr = results.set_index(['Year', 'Month', 'Week', 'DayOfWeek']).unstack('DayOfWeek')['frac'].T\n",
      "plt.imshow(arr, cmap='RdYlGn_r', origin='upper', aspect=1.0)\n",
      "\n",
      "plt.colorbar(orientation='horizontal', shrink=0.4, pad=.05, label='Flight Delay Fraction')\n",
      "plt.yticks(range(7), 'Mon Tue Wed Thur Fri Sat Sun'.split())\n",
      "plt.xticks(range(len(arr.columns))[::15], arr.columns.values[::15])\n",
      "plt.show()"
     ],
     "language": "python",
     "metadata": {},
     "outputs": [
      {
       "metadata": {},
       "output_type": "display_data",
       "png": "[encoded data removed]",
       "text": [
        "<matplotlib.figure.Figure at 0x109685390>"
       ]
      }
     ],
     "prompt_number": 7
    }
   ],
   "metadata": {}
  }
 ]
}