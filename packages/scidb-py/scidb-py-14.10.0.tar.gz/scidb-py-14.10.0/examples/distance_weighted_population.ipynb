{
 "metadata": {
  "name": "",
  "signature": "sha256:7f8e41f2ee554cf72e44872c1512a1ee80a520d477df9e3410e3751fd1e671eb"
 },
 "nbformat": 3,
 "nbformat_minor": 0,
 "worksheets": [
  {
   "cells": [
    {
     "cell_type": "heading",
     "level": 1,
     "metadata": {},
     "source": [
      "Geographic Distance-Weighted Population by Zipcode"
     ]
    },
    {
     "cell_type": "markdown",
     "metadata": {},
     "source": [
      "This notebook computes a geographic distance-weighted population for each zipcode in Massachussetts, using Census data.\n",
      "\n",
      "The Geographic Distance-weighted population is defined as\n",
      "\n",
      "$\n",
      "D(j) = \\sum_{i} P_i \\times D_{ij}\n",
      "$\n",
      "\n",
      "where $P_i$ is the population of zipcode i, and $D_{ij}$ is the distance between\n",
      "two zipcodes"
     ]
    },
    {
     "cell_type": "heading",
     "level": 3,
     "metadata": {},
     "source": [
      "The Data"
     ]
    },
    {
     "cell_type": "markdown",
     "metadata": {},
     "source": [
      "2010 Census population by zipcode\n",
      "\n",
      "https://s3.amazonaws.com/SplitwiseBlogJB/2010+Census+Population+By+Zipcode+(ZCTA).csv\n",
      "\n",
      "Zipcode data\n",
      "http://www.populardata.com/downloads/zip_codes.zip"
     ]
    },
    {
     "cell_type": "heading",
     "level": 3,
     "metadata": {},
     "source": [
      "Load the data"
     ]
    },
    {
     "cell_type": "code",
     "collapsed": false,
     "input": [
      "import pandas as pd\n",
      "from scidbpy import connect\n",
      "\n",
      "sdb = connect()"
     ],
     "language": "python",
     "metadata": {},
     "outputs": [],
     "prompt_number": 1
    },
    {
     "cell_type": "code",
     "collapsed": false,
     "input": [
      "zipcodes = pd.read_csv('ZIP_CODES.txt', names = ['zip', 'lat', 'lon', 'city', 'state', 'county', 'standard'], \n",
      "                       index_col='zip')\n",
      "zipcodes = zipcodes.dropna()\n",
      "pops = pd.read_csv('2010+Census+Population+By+Zipcode+(ZCTA).csv', \n",
      "                   names=['zip', 'pop'], skiprows=1, index_col='zip')\n",
      "pops['pop'] = pops['pop'].astype('double')"
     ],
     "language": "python",
     "metadata": {},
     "outputs": [],
     "prompt_number": 2
    },
    {
     "cell_type": "code",
     "collapsed": false,
     "input": [
      "zipcodes.head()"
     ],
     "language": "python",
     "metadata": {},
     "outputs": [
      {
       "html": [
        "<div style=\"max-height:1000px;max-width:1500px;overflow:auto;\">\n",
        "<table border=\"1\" class=\"dataframe\">\n",
        "  <thead>\n",
        "    <tr style=\"text-align: right;\">\n",
        "      <th></th>\n",
        "      <th>lat</th>\n",
        "      <th>lon</th>\n",
        "      <th>city</th>\n",
        "      <th>state</th>\n",
        "      <th>county</th>\n",
        "      <th>standard</th>\n",
        "    </tr>\n",
        "    <tr>\n",
        "      <th>zip</th>\n",
        "      <th></th>\n",
        "      <th></th>\n",
        "      <th></th>\n",
        "      <th></th>\n",
        "      <th></th>\n",
        "      <th></th>\n",
        "    </tr>\n",
        "  </thead>\n",
        "  <tbody>\n",
        "    <tr>\n",
        "      <th>501</th>\n",
        "      <td> 40.922326</td>\n",
        "      <td>-72.637078</td>\n",
        "      <td> HOLTSVILLE</td>\n",
        "      <td> NY</td>\n",
        "      <td>   SUFFOLK</td>\n",
        "      <td>   UNIQUE</td>\n",
        "    </tr>\n",
        "    <tr>\n",
        "      <th>544</th>\n",
        "      <td> 40.922326</td>\n",
        "      <td>-72.637078</td>\n",
        "      <td> HOLTSVILLE</td>\n",
        "      <td> NY</td>\n",
        "      <td>   SUFFOLK</td>\n",
        "      <td>   UNIQUE</td>\n",
        "    </tr>\n",
        "    <tr>\n",
        "      <th>601</th>\n",
        "      <td> 18.165273</td>\n",
        "      <td>-66.722583</td>\n",
        "      <td>   ADJUNTAS</td>\n",
        "      <td> PR</td>\n",
        "      <td>  ADJUNTAS</td>\n",
        "      <td> STANDARD</td>\n",
        "    </tr>\n",
        "    <tr>\n",
        "      <th>602</th>\n",
        "      <td> 18.393103</td>\n",
        "      <td>-67.180953</td>\n",
        "      <td>     AGUADA</td>\n",
        "      <td> PR</td>\n",
        "      <td>    AGUADA</td>\n",
        "      <td> STANDARD</td>\n",
        "    </tr>\n",
        "    <tr>\n",
        "      <th>603</th>\n",
        "      <td> 18.455913</td>\n",
        "      <td>-67.145780</td>\n",
        "      <td>  AGUADILLA</td>\n",
        "      <td> PR</td>\n",
        "      <td> AGUADILLA</td>\n",
        "      <td> STANDARD</td>\n",
        "    </tr>\n",
        "  </tbody>\n",
        "</table>\n",
        "</div>"
       ],
       "metadata": {},
       "output_type": "pyout",
       "prompt_number": 3,
       "text": [
        "           lat        lon        city state     county  standard\n",
        "zip                                                             \n",
        "501  40.922326 -72.637078  HOLTSVILLE    NY    SUFFOLK    UNIQUE\n",
        "544  40.922326 -72.637078  HOLTSVILLE    NY    SUFFOLK    UNIQUE\n",
        "601  18.165273 -66.722583    ADJUNTAS    PR   ADJUNTAS  STANDARD\n",
        "602  18.393103 -67.180953      AGUADA    PR     AGUADA  STANDARD\n",
        "603  18.455913 -67.145780   AGUADILLA    PR  AGUADILLA  STANDARD"
       ]
      }
     ],
     "prompt_number": 3
    },
    {
     "cell_type": "code",
     "collapsed": false,
     "input": [
      "pops.head()"
     ],
     "language": "python",
     "metadata": {},
     "outputs": [
      {
       "html": [
        "<div style=\"max-height:1000px;max-width:1500px;overflow:auto;\">\n",
        "<table border=\"1\" class=\"dataframe\">\n",
        "  <thead>\n",
        "    <tr style=\"text-align: right;\">\n",
        "      <th></th>\n",
        "      <th>pop</th>\n",
        "    </tr>\n",
        "    <tr>\n",
        "      <th>zip</th>\n",
        "      <th></th>\n",
        "    </tr>\n",
        "  </thead>\n",
        "  <tbody>\n",
        "    <tr>\n",
        "      <th>1001</th>\n",
        "      <td> 16769</td>\n",
        "    </tr>\n",
        "    <tr>\n",
        "      <th>1002</th>\n",
        "      <td> 29049</td>\n",
        "    </tr>\n",
        "    <tr>\n",
        "      <th>1003</th>\n",
        "      <td> 10372</td>\n",
        "    </tr>\n",
        "    <tr>\n",
        "      <th>1005</th>\n",
        "      <td>  5079</td>\n",
        "    </tr>\n",
        "    <tr>\n",
        "      <th>1007</th>\n",
        "      <td> 14649</td>\n",
        "    </tr>\n",
        "  </tbody>\n",
        "</table>\n",
        "</div>"
       ],
       "metadata": {},
       "output_type": "pyout",
       "prompt_number": 4,
       "text": [
        "        pop\n",
        "zip        \n",
        "1001  16769\n",
        "1002  29049\n",
        "1003  10372\n",
        "1005   5079\n",
        "1007  14649"
       ]
      }
     ],
     "prompt_number": 4
    },
    {
     "cell_type": "code",
     "collapsed": false,
     "input": [
      "# for demo purposes, we truncate the datasets to zipcodes in beginning with 02XXX (ie MA zip codes)\n",
      "zipcodes = zipcodes[(zipcodes.index >= 2000) & (zipcodes.index < 3000)]\n",
      "pops = pops[(pops.index >= 2000) & (pops.index < 3000)]"
     ],
     "language": "python",
     "metadata": {},
     "outputs": [],
     "prompt_number": 5
    },
    {
     "cell_type": "heading",
     "level": 3,
     "metadata": {},
     "source": [
      "Upload to SciDB"
     ]
    },
    {
     "cell_type": "code",
     "collapsed": false,
     "input": [
      "zips = sdb.from_dataframe(zipcodes[['lat', 'lon']])\n",
      "pops = sdb.from_dataframe(pops)\n",
      "print zips\n",
      "print pops"
     ],
     "language": "python",
     "metadata": {},
     "outputs": [
      {
       "output_type": "stream",
       "stream": "stdout",
       "text": [
        "SciDBArray('py1101272890377_00002<lat:double,lon:double> [zip=2018:2940,1000,0]')\n",
        "SciDBArray('py1101272890377_00004<pop:double> [zip=2019:2921,1000,0]')\n"
       ]
      }
     ],
     "prompt_number": 6
    },
    {
     "cell_type": "code",
     "collapsed": false,
     "input": [
      "#verify the upload worked\n",
      "zips.head()"
     ],
     "language": "python",
     "metadata": {},
     "outputs": [
      {
       "html": [
        "<div style=\"max-height:1000px;max-width:1500px;overflow:auto;\">\n",
        "<table border=\"1\" class=\"dataframe\">\n",
        "  <thead>\n",
        "    <tr style=\"text-align: right;\">\n",
        "      <th></th>\n",
        "      <th>lat</th>\n",
        "      <th>lon</th>\n",
        "    </tr>\n",
        "    <tr>\n",
        "      <th>zip</th>\n",
        "      <th></th>\n",
        "      <th></th>\n",
        "    </tr>\n",
        "  </thead>\n",
        "  <tbody>\n",
        "    <tr>\n",
        "      <th>2018</th>\n",
        "      <td> 41.970474</td>\n",
        "      <td>-70.701357</td>\n",
        "    </tr>\n",
        "    <tr>\n",
        "      <th>2019</th>\n",
        "      <td> 42.076501</td>\n",
        "      <td>-71.470464</td>\n",
        "    </tr>\n",
        "    <tr>\n",
        "      <th>2020</th>\n",
        "      <td> 42.081825</td>\n",
        "      <td>-70.643868</td>\n",
        "    </tr>\n",
        "    <tr>\n",
        "      <th>2021</th>\n",
        "      <td> 42.179146</td>\n",
        "      <td>-71.121185</td>\n",
        "    </tr>\n",
        "  </tbody>\n",
        "</table>\n",
        "</div>"
       ],
       "metadata": {},
       "output_type": "pyout",
       "prompt_number": 7,
       "text": [
        "            lat        lon\n",
        "zip                       \n",
        "2018  41.970474 -70.701357\n",
        "2019  42.076501 -71.470464\n",
        "2020  42.081825 -70.643868\n",
        "2021  42.179146 -71.121185"
       ]
      }
     ],
     "prompt_number": 7
    },
    {
     "cell_type": "code",
     "collapsed": false,
     "input": [
      "pops.head()"
     ],
     "language": "python",
     "metadata": {},
     "outputs": [
      {
       "html": [
        "<div style=\"max-height:1000px;max-width:1500px;overflow:auto;\">\n",
        "<table border=\"1\" class=\"dataframe\">\n",
        "  <thead>\n",
        "    <tr style=\"text-align: right;\">\n",
        "      <th></th>\n",
        "      <th>pop</th>\n",
        "    </tr>\n",
        "    <tr>\n",
        "      <th>zip</th>\n",
        "      <th></th>\n",
        "    </tr>\n",
        "  </thead>\n",
        "  <tbody>\n",
        "    <tr>\n",
        "      <th>2019</th>\n",
        "      <td> 16332</td>\n",
        "    </tr>\n",
        "    <tr>\n",
        "      <th>2021</th>\n",
        "      <td> 21561</td>\n",
        "    </tr>\n",
        "  </tbody>\n",
        "</table>\n",
        "</div>"
       ],
       "metadata": {},
       "output_type": "pyout",
       "prompt_number": 8,
       "text": [
        "        pop\n",
        "zip        \n",
        "2019  16332\n",
        "2021  21561"
       ]
      }
     ],
     "prompt_number": 8
    },
    {
     "cell_type": "heading",
     "level": 3,
     "metadata": {},
     "source": [
      "Compute the distance between every pair of zipcodes"
     ]
    },
    {
     "cell_type": "code",
     "collapsed": false,
     "input": [
      "zipsquare = sdb.cross_join(zips, zips).eval()\n",
      "zipsquare['distance'] = 'sqrt(pow((lon - lon_2) * cos(lat / 57.29577), 2) + pow(lat - lat_2, 2))'\n",
      "zipsquare['weight'] = 'iif(distance > 1e-2, 1 / distance, 1 / 1e-2)'\n",
      "\n",
      "print zipsquare"
     ],
     "language": "python",
     "metadata": {},
     "outputs": [
      {
       "output_type": "stream",
       "stream": "stdout",
       "text": [
        "SciDBArray('py1101272890377_00014<lat:double,lon:double,lat_2:double,lon_2:double,distance:double,weight:double> [zip=2018:2940,1000,0,zip_2=2018:2940,1000,0]')\n"
       ]
      }
     ],
     "prompt_number": 9
    },
    {
     "cell_type": "heading",
     "level": 3,
     "metadata": {},
     "source": [
      "Multiply distance by population"
     ]
    },
    {
     "cell_type": "markdown",
     "metadata": {},
     "source": [
      "Note that both ``zipsquare`` and ``pops`` are dimensioned by zipcode. SciDB-Py aligns the matrices properly when multiplying them"
     ]
    },
    {
     "cell_type": "code",
     "collapsed": false,
     "input": [
      "dwp = sdb.dot(zipsquare['weight'], pops)\n",
      "dwp = dwp.todataframe()"
     ],
     "language": "python",
     "metadata": {},
     "outputs": [],
     "prompt_number": 10
    },
    {
     "cell_type": "markdown",
     "metadata": {},
     "source": [
      "### Look at the zipcodes with the largest values\n",
      "\n",
      "These are the most centrally-populated zipcodes in Massachussetts"
     ]
    },
    {
     "cell_type": "code",
     "collapsed": false,
     "input": [
      "dwp.sort(ascending=False, columns='gemm').head(10)"
     ],
     "language": "python",
     "metadata": {},
     "outputs": [
      {
       "html": [
        "<div style=\"max-height:1000px;max-width:1500px;overflow:auto;\">\n",
        "<table border=\"1\" class=\"dataframe\">\n",
        "  <thead>\n",
        "    <tr style=\"text-align: right;\">\n",
        "      <th></th>\n",
        "      <th>gemm</th>\n",
        "    </tr>\n",
        "    <tr>\n",
        "      <th>zip</th>\n",
        "      <th></th>\n",
        "    </tr>\n",
        "  </thead>\n",
        "  <tbody>\n",
        "    <tr>\n",
        "      <th>2108</th>\n",
        "      <td> 47819066.658327</td>\n",
        "    </tr>\n",
        "    <tr>\n",
        "      <th>2135</th>\n",
        "      <td> 47786138.193554</td>\n",
        "    </tr>\n",
        "    <tr>\n",
        "      <th>2115</th>\n",
        "      <td> 47740208.195647</td>\n",
        "    </tr>\n",
        "    <tr>\n",
        "      <th>2215</th>\n",
        "      <td> 47271280.018297</td>\n",
        "    </tr>\n",
        "    <tr>\n",
        "      <th>2134</th>\n",
        "      <td> 45559319.918779</td>\n",
        "    </tr>\n",
        "    <tr>\n",
        "      <th>2116</th>\n",
        "      <td> 45048975.673063</td>\n",
        "    </tr>\n",
        "    <tr>\n",
        "      <th>2120</th>\n",
        "      <td> 44257187.991759</td>\n",
        "    </tr>\n",
        "    <tr>\n",
        "      <th>2199</th>\n",
        "      <td> 43805474.426995</td>\n",
        "    </tr>\n",
        "    <tr>\n",
        "      <th>2139</th>\n",
        "      <td> 43709325.119552</td>\n",
        "    </tr>\n",
        "    <tr>\n",
        "      <th>2142</th>\n",
        "      <td> 41948307.317351</td>\n",
        "    </tr>\n",
        "  </tbody>\n",
        "</table>\n",
        "</div>"
       ],
       "metadata": {},
       "output_type": "pyout",
       "prompt_number": 11,
       "text": [
        "                 gemm\n",
        "zip                  \n",
        "2108  47819066.658327\n",
        "2135  47786138.193554\n",
        "2115  47740208.195647\n",
        "2215  47271280.018297\n",
        "2134  45559319.918779\n",
        "2116  45048975.673063\n",
        "2120  44257187.991759\n",
        "2199  43805474.426995\n",
        "2139  43709325.119552\n",
        "2142  41948307.317351"
       ]
      }
     ],
     "prompt_number": 11
    }
   ],
   "metadata": {}
  }
 ]
}