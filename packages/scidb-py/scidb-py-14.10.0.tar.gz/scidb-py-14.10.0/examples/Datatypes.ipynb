{
 "metadata": {
  "name": "",
  "signature": "sha256:e5760796763e722c8f4b29dbcff2ebc6612e5d22cbbb890024033a081e5ce6cf"
 },
 "nbformat": 3,
 "nbformat_minor": 0,
 "worksheets": [
  {
   "cells": [
    {
     "cell_type": "markdown",
     "metadata": {},
     "source": [
      "This notebook enumerates the various schema corner cases possible in SciDBPy"
     ]
    },
    {
     "cell_type": "code",
     "collapsed": false,
     "input": [
      "from scidbpy import connect\n",
      "sdb = connect()\n",
      "from scidbpy.parse import _fmt"
     ],
     "language": "python",
     "metadata": {},
     "outputs": [],
     "prompt_number": 1
    },
    {
     "cell_type": "markdown",
     "metadata": {},
     "source": [
      "# Single attribute, non-nullable arrays"
     ]
    },
    {
     "cell_type": "code",
     "collapsed": false,
     "input": [
      "singles = {}\n",
      "\n",
      "dtypes = 'int8 int16 int32 int64 uint8 uint16 uint32 uint64 float double datetime datetimetz bool string char'.split()\n",
      "vals = [-128, -2**15+2, -2**31+2, -2**63+2, 2**8-1, 2**16-1, 2**32-1, 2**63-1, 1.23, 1e100, \"'01/01/2001 12:23'\", \"'01/01/2001 12:23:01 +05:00'\", 'true', \"'test'\", \"'a'\"]\n",
      "\n",
      "def make(dtype, val):\n",
      "    return sdb.afl.build('<x:%s>[i=0:1,10,0]' % dtype, val).eval()\n",
      "\n",
      "def run(make):\n",
      "    for dtype, val in zip(dtypes, vals):\n",
      "        a = make(dtype, val)\n",
      "        print a\n",
      "        print 'Plaintext:', repr(sdb._scan_array(a.name))\n",
      "        print 'Binary   :', repr(sdb._scan_array(a.name, fmt=_fmt(a)))\n",
      "        print 'NumPy    :', a.toarray()\n",
      "        print '-----------'\n",
      "        a.reap()\n",
      "\n",
      "run(make)"
     ],
     "language": "python",
     "metadata": {},
     "outputs": [
      {
       "output_type": "stream",
       "stream": "stdout",
       "text": [
        "SciDBArray('py1102324986642_00186<x:int8> [i=0:1,10,0]')\n",
        "Plaintext: "
       ]
      },
      {
       "output_type": "stream",
       "stream": "stdout",
       "text": [
        "'[(-128),(-128)]\\n'\n",
        "Binary   : "
       ]
      },
      {
       "output_type": "stream",
       "stream": "stdout",
       "text": [
        "'\\x80\\x80'\n",
        "NumPy    : "
       ]
      },
      {
       "output_type": "stream",
       "stream": "stdout",
       "text": [
        "[-128 -128]\n",
        "-----------\n",
        "SciDBArray('py1102324986642_00189<x:int16> [i=0:1,10,0]')"
       ]
      },
      {
       "output_type": "stream",
       "stream": "stdout",
       "text": [
        "\n",
        "Plaintext: "
       ]
      },
      {
       "output_type": "stream",
       "stream": "stdout",
       "text": [
        "'[(-32766),(-32766)]\\n'\n",
        "Binary   : "
       ]
      },
      {
       "output_type": "stream",
       "stream": "stdout",
       "text": [
        "'\\x02\\x80\\x02\\x80'\n",
        "NumPy    : "
       ]
      },
      {
       "output_type": "stream",
       "stream": "stdout",
       "text": [
        "[-32766 -32766]\n",
        "-----------\n",
        "SciDBArray('py1102324986642_00192<x:int32> [i=0:1,10,0]')"
       ]
      },
      {
       "output_type": "stream",
       "stream": "stdout",
       "text": [
        "\n",
        "Plaintext: "
       ]
      },
      {
       "output_type": "stream",
       "stream": "stdout",
       "text": [
        "'[(-2147483646),(-2147483646)]\\n'\n",
        "Binary   : "
       ]
      },
      {
       "output_type": "stream",
       "stream": "stdout",
       "text": [
        "'\\x02\\x00\\x00\\x80\\x02\\x00\\x00\\x80'\n",
        "NumPy    : "
       ]
      },
      {
       "output_type": "stream",
       "stream": "stdout",
       "text": [
        "[-2147483646 -2147483646]\n",
        "-----------\n",
        "SciDBArray('py1102324986642_00195<x:int64> [i=0:1,10,0]')"
       ]
      },
      {
       "output_type": "stream",
       "stream": "stdout",
       "text": [
        "\n",
        "Plaintext: "
       ]
      },
      {
       "output_type": "stream",
       "stream": "stdout",
       "text": [
        "'[(-9223372036854775806),(-9223372036854775806)]\\n'\n",
        "Binary   : "
       ]
      },
      {
       "output_type": "stream",
       "stream": "stdout",
       "text": [
        "'\\x02\\x00\\x00\\x00\\x00\\x00\\x00\\x80\\x02\\x00\\x00\\x00\\x00\\x00\\x00\\x80'\n",
        "NumPy    : "
       ]
      },
      {
       "output_type": "stream",
       "stream": "stdout",
       "text": [
        "[-9223372036854775806 -9223372036854775806]\n",
        "-----------\n",
        "SciDBArray('py1102324986642_00198<x:uint8> [i=0:1,10,0]')"
       ]
      },
      {
       "output_type": "stream",
       "stream": "stdout",
       "text": [
        "\n",
        "Plaintext: "
       ]
      },
      {
       "output_type": "stream",
       "stream": "stdout",
       "text": [
        "'[(255),(255)]\\n'\n",
        "Binary   : "
       ]
      },
      {
       "output_type": "stream",
       "stream": "stdout",
       "text": [
        "'\\xff\\xff'\n",
        "NumPy    : "
       ]
      },
      {
       "output_type": "stream",
       "stream": "stdout",
       "text": [
        "[255 255]\n",
        "-----------\n",
        "SciDBArray('py1102324986642_00201<x:uint16> [i=0:1,10,0]')"
       ]
      },
      {
       "output_type": "stream",
       "stream": "stdout",
       "text": [
        "\n",
        "Plaintext: "
       ]
      },
      {
       "output_type": "stream",
       "stream": "stdout",
       "text": [
        "'[(65535),(65535)]\\n'\n",
        "Binary   : "
       ]
      },
      {
       "output_type": "stream",
       "stream": "stdout",
       "text": [
        "'\\xff\\xff\\xff\\xff'\n",
        "NumPy    : "
       ]
      },
      {
       "output_type": "stream",
       "stream": "stdout",
       "text": [
        "[65535 65535]\n",
        "-----------\n",
        "SciDBArray('py1102324986642_00204<x:uint32> [i=0:1,10,0]')"
       ]
      },
      {
       "output_type": "stream",
       "stream": "stdout",
       "text": [
        "\n",
        "Plaintext: "
       ]
      },
      {
       "output_type": "stream",
       "stream": "stdout",
       "text": [
        "'[(4294967295),(4294967295)]\\n'\n",
        "Binary   : "
       ]
      },
      {
       "output_type": "stream",
       "stream": "stdout",
       "text": [
        "'\\xff\\xff\\xff\\xff\\xff\\xff\\xff\\xff'\n",
        "NumPy    : "
       ]
      },
      {
       "output_type": "stream",
       "stream": "stdout",
       "text": [
        "[4294967295 4294967295]\n",
        "-----------\n",
        "SciDBArray('py1102324986642_00207<x:uint64> [i=0:1,10,0]')"
       ]
      },
      {
       "output_type": "stream",
       "stream": "stdout",
       "text": [
        "\n",
        "Plaintext: "
       ]
      },
      {
       "output_type": "stream",
       "stream": "stdout",
       "text": [
        "'[(9223372036854775807),(9223372036854775807)]\\n'\n",
        "Binary   : "
       ]
      },
      {
       "output_type": "stream",
       "stream": "stdout",
       "text": [
        "'\\xff\\xff\\xff\\xff\\xff\\xff\\xff\\x7f\\xff\\xff\\xff\\xff\\xff\\xff\\xff\\x7f'\n",
        "NumPy    : "
       ]
      },
      {
       "output_type": "stream",
       "stream": "stdout",
       "text": [
        "[9223372036854775807 9223372036854775807]\n",
        "-----------\n",
        "SciDBArray('py1102324986642_00210<x:float> [i=0:1,10,0]')"
       ]
      },
      {
       "output_type": "stream",
       "stream": "stdout",
       "text": [
        "\n",
        "Plaintext: "
       ]
      },
      {
       "output_type": "stream",
       "stream": "stdout",
       "text": [
        "'[(1.23),(1.23)]\\n'\n",
        "Binary   : "
       ]
      },
      {
       "output_type": "stream",
       "stream": "stdout",
       "text": [
        "'\\xa4p\\x9d?\\xa4p\\x9d?'\n",
        "NumPy    : "
       ]
      },
      {
       "output_type": "stream",
       "stream": "stdout",
       "text": [
        "[ 1.23000002  1.23000002]\n",
        "-----------\n",
        "SciDBArray('py1102324986642_00213<x:double> [i=0:1,10,0]')"
       ]
      },
      {
       "output_type": "stream",
       "stream": "stdout",
       "text": [
        "\n",
        "Plaintext: "
       ]
      },
      {
       "output_type": "stream",
       "stream": "stdout",
       "text": [
        "'[(1e+100),(1e+100)]\\n'\n",
        "Binary   : "
       ]
      },
      {
       "output_type": "stream",
       "stream": "stdout",
       "text": [
        "'}\\xc3\\x94%\\xadI\\xb2T}\\xc3\\x94%\\xadI\\xb2T'\n",
        "NumPy    : "
       ]
      },
      {
       "output_type": "stream",
       "stream": "stdout",
       "text": [
        "[  1.00000000e+100   1.00000000e+100]\n",
        "-----------\n",
        "SciDBArray('py1102324986642_00216<x:datetime> [i=0:1,10,0]')"
       ]
      },
      {
       "output_type": "stream",
       "stream": "stdout",
       "text": [
        "\n",
        "Plaintext: "
       ]
      },
      {
       "output_type": "stream",
       "stream": "stdout",
       "text": [
        "\"[('2001-01-01 12:23:00'),('2001-01-01 12:23:00')]\\n\"\n",
        "Binary   : "
       ]
      },
      {
       "output_type": "stream",
       "stream": "stdout",
       "text": [
        "'\\xa4vP:\\x00\\x00\\x00\\x00\\xa4vP:\\x00\\x00\\x00\\x00'\n",
        "NumPy    : "
       ]
      },
      {
       "output_type": "stream",
       "stream": "stdout",
       "text": [
        "['2001-01-01T07:23:00-0500' '2001-01-01T07:23:00-0500']\n",
        "-----------\n",
        "SciDBArray('py1102324986642_00219<x:datetimetz> [i=0:1,10,0]')"
       ]
      },
      {
       "output_type": "stream",
       "stream": "stdout",
       "text": [
        "\n",
        "Plaintext: "
       ]
      },
      {
       "output_type": "stream",
       "stream": "stdout",
       "text": [
        "\"[('2001-01-01 12:23:01 +05:00'),('2001-01-01 12:23:01 +05:00')]\\n\"\n",
        "Binary   : "
       ]
      },
      {
       "output_type": "stream",
       "stream": "stdout",
       "text": [
        "'\\xa5vP:\\x00\\x00\\x00\\x00PF\\x00\\x00\\x00\\x00\\x00\\x00\\xa5vP:\\x00\\x00\\x00\\x00PF\\x00\\x00\\x00\\x00\\x00\\x00'\n",
        "NumPy    : "
       ]
      },
      {
       "output_type": "stream",
       "stream": "stdout",
       "text": [
        "['2001-01-01T02:23:01-0500' '2001-01-01T02:23:01-0500']\n",
        "-----------\n",
        "SciDBArray('py1102324986642_00222<x:bool> [i=0:1,10,0]')"
       ]
      },
      {
       "output_type": "stream",
       "stream": "stdout",
       "text": [
        "\n",
        "Plaintext: "
       ]
      },
      {
       "output_type": "stream",
       "stream": "stdout",
       "text": [
        "'[(true),(true)]\\n'\n",
        "Binary   : "
       ]
      },
      {
       "output_type": "stream",
       "stream": "stdout",
       "text": [
        "'\\x01\\x01'\n",
        "NumPy    : "
       ]
      },
      {
       "output_type": "stream",
       "stream": "stdout",
       "text": [
        "[ True  True]\n",
        "-----------\n",
        "SciDBArray('py1102324986642_00225<x:string> [i=0:1,10,0]')"
       ]
      },
      {
       "output_type": "stream",
       "stream": "stdout",
       "text": [
        "\n",
        "Plaintext: "
       ]
      },
      {
       "output_type": "stream",
       "stream": "stdout",
       "text": [
        "\"[('test'),('test')]\\n\"\n",
        "Binary   : "
       ]
      },
      {
       "output_type": "stream",
       "stream": "stdout",
       "text": [
        "'\\x05\\x00\\x00\\x00test\\x00\\x05\\x00\\x00\\x00test\\x00'\n",
        "NumPy    : "
       ]
      },
      {
       "output_type": "stream",
       "stream": "stdout",
       "text": [
        "[u'test' u'test']\n",
        "-----------\n",
        "SciDBArray('py1102324986642_00229<x:char> [i=0:1,10,0]')"
       ]
      },
      {
       "output_type": "stream",
       "stream": "stdout",
       "text": [
        "\n",
        "Plaintext: "
       ]
      },
      {
       "output_type": "stream",
       "stream": "stdout",
       "text": [
        "\"[('a'),('a')]\\n\"\n",
        "Binary   : "
       ]
      },
      {
       "output_type": "stream",
       "stream": "stdout",
       "text": [
        "'aa'\n",
        "NumPy    : "
       ]
      },
      {
       "output_type": "stream",
       "stream": "stdout",
       "text": [
        "['a' 'a']\n",
        "-----------\n"
       ]
      }
     ],
     "prompt_number": 7
    },
    {
     "cell_type": "markdown",
     "metadata": {},
     "source": [
      "# Single attribute nullable arrays"
     ]
    },
    {
     "cell_type": "code",
     "collapsed": false,
     "input": [
      "def make(dtype, val):\n",
      "    return sdb.afl.build('<x:%s NULL>[i=0:1,10,0]' % dtype, 'iif(i > 0, %s, null)' % val).eval()\n",
      "\n",
      "run(make)"
     ],
     "language": "python",
     "metadata": {},
     "outputs": [
      {
       "output_type": "stream",
       "stream": "stdout",
       "text": [
        "SciDBArray('py1102324986642_00232<x:int8 NULL DEFAULT null> [i=0:1,10,0]')\n",
        "Plaintext: "
       ]
      },
      {
       "output_type": "stream",
       "stream": "stdout",
       "text": [
        "'[(null),(-128)]\\n'\n",
        "Binary   : "
       ]
      },
      {
       "output_type": "stream",
       "stream": "stdout",
       "text": [
        "'\\x00\\x00\\xff\\x80'\n",
        "NumPy    : "
       ]
      },
      {
       "output_type": "stream",
       "stream": "stdout",
       "text": [
        "[  nan -128.]\n",
        "-----------\n",
        "SciDBArray('py1102324986642_00235<x:int16 NULL DEFAULT null> [i=0:1,10,0]')"
       ]
      },
      {
       "output_type": "stream",
       "stream": "stdout",
       "text": [
        "\n",
        "Plaintext: "
       ]
      },
      {
       "output_type": "stream",
       "stream": "stdout",
       "text": [
        "'[(null),(-32766)]\\n'\n",
        "Binary   : "
       ]
      },
      {
       "output_type": "stream",
       "stream": "stdout",
       "text": [
        "'\\x00\\x00\\x00\\xff\\x02\\x80'\n",
        "NumPy    : "
       ]
      },
      {
       "output_type": "stream",
       "stream": "stdout",
       "text": [
        "[    nan -32766.]\n",
        "-----------\n",
        "SciDBArray('py1102324986642_00238<x:int32 NULL DEFAULT null> [i=0:1,10,0]')"
       ]
      },
      {
       "output_type": "stream",
       "stream": "stdout",
       "text": [
        "\n",
        "Plaintext: "
       ]
      },
      {
       "output_type": "stream",
       "stream": "stdout",
       "text": [
        "'[(null),(-2147483646)]\\n'\n",
        "Binary   : "
       ]
      },
      {
       "output_type": "stream",
       "stream": "stdout",
       "text": [
        "'\\x00\\x00\\x00\\x00\\x00\\xff\\x02\\x00\\x00\\x80'\n",
        "NumPy    : "
       ]
      },
      {
       "output_type": "stream",
       "stream": "stdout",
       "text": [
        "[             nan  -2.14748365e+09]\n",
        "-----------\n",
        "SciDBArray('py1102324986642_00241<x:int64 NULL DEFAULT null> [i=0:1,10,0]')"
       ]
      },
      {
       "output_type": "stream",
       "stream": "stdout",
       "text": [
        "\n",
        "Plaintext: "
       ]
      },
      {
       "output_type": "stream",
       "stream": "stdout",
       "text": [
        "'[(null),(-9223372036854775806)]\\n'\n",
        "Binary   : "
       ]
      },
      {
       "output_type": "stream",
       "stream": "stdout",
       "text": [
        "'\\x00\\x00\\x00\\x00\\x00\\x00\\x00\\x00\\x00\\xff\\x02\\x00\\x00\\x00\\x00\\x00\\x00\\x80'\n",
        "NumPy    : "
       ]
      },
      {
       "output_type": "stream",
       "stream": "stdout",
       "text": [
        "[             nan  -9.22337204e+18]\n",
        "-----------\n",
        "SciDBArray('py1102324986642_00244<x:uint8 NULL DEFAULT null> [i=0:1,10,0]')"
       ]
      },
      {
       "output_type": "stream",
       "stream": "stdout",
       "text": [
        "\n",
        "Plaintext: "
       ]
      },
      {
       "output_type": "stream",
       "stream": "stdout",
       "text": [
        "'[(null),(255)]\\n'\n",
        "Binary   : "
       ]
      },
      {
       "output_type": "stream",
       "stream": "stdout",
       "text": [
        "'\\x00\\x00\\xff\\xff'\n",
        "NumPy    : "
       ]
      },
      {
       "output_type": "stream",
       "stream": "stdout",
       "text": [
        "[  nan  255.]\n",
        "-----------\n",
        "SciDBArray('py1102324986642_00247<x:uint16 NULL DEFAULT null> [i=0:1,10,0]')"
       ]
      },
      {
       "output_type": "stream",
       "stream": "stdout",
       "text": [
        "\n",
        "Plaintext: "
       ]
      },
      {
       "output_type": "stream",
       "stream": "stdout",
       "text": [
        "'[(null),(65535)]\\n'\n",
        "Binary   : "
       ]
      },
      {
       "output_type": "stream",
       "stream": "stdout",
       "text": [
        "'\\x00\\x00\\x00\\xff\\xff\\xff'\n",
        "NumPy    : "
       ]
      },
      {
       "output_type": "stream",
       "stream": "stdout",
       "text": [
        "[    nan  65535.]\n",
        "-----------\n",
        "SciDBArray('py1102324986642_00250<x:uint32 NULL DEFAULT null> [i=0:1,10,0]')"
       ]
      },
      {
       "output_type": "stream",
       "stream": "stdout",
       "text": [
        "\n",
        "Plaintext: "
       ]
      },
      {
       "output_type": "stream",
       "stream": "stdout",
       "text": [
        "'[(null),(4294967295)]\\n'\n",
        "Binary   : "
       ]
      },
      {
       "output_type": "stream",
       "stream": "stdout",
       "text": [
        "'\\x00\\x00\\x00\\x00\\x00\\xff\\xff\\xff\\xff\\xff'\n",
        "NumPy    : "
       ]
      },
      {
       "output_type": "stream",
       "stream": "stdout",
       "text": [
        "[             nan   4.29496730e+09]\n",
        "-----------\n",
        "SciDBArray('py1102324986642_00253<x:uint64 NULL DEFAULT null> [i=0:1,10,0]')"
       ]
      },
      {
       "output_type": "stream",
       "stream": "stdout",
       "text": [
        "\n",
        "Plaintext: "
       ]
      },
      {
       "output_type": "stream",
       "stream": "stdout",
       "text": [
        "'[(null),(9223372036854775807)]\\n'\n",
        "Binary   : "
       ]
      },
      {
       "output_type": "stream",
       "stream": "stdout",
       "text": [
        "'\\x00\\x00\\x00\\x00\\x00\\x00\\x00\\x00\\x00\\xff\\xff\\xff\\xff\\xff\\xff\\xff\\xff\\x7f'\n",
        "NumPy    : "
       ]
      },
      {
       "output_type": "stream",
       "stream": "stdout",
       "text": [
        "[             nan   9.22337204e+18]\n",
        "-----------\n",
        "SciDBArray('py1102324986642_00256<x:float NULL DEFAULT null> [i=0:1,10,0]')"
       ]
      },
      {
       "output_type": "stream",
       "stream": "stdout",
       "text": [
        "\n",
        "Plaintext: "
       ]
      },
      {
       "output_type": "stream",
       "stream": "stdout",
       "text": [
        "'[(null),(1.23)]\\n'\n",
        "Binary   : "
       ]
      },
      {
       "output_type": "stream",
       "stream": "stdout",
       "text": [
        "'\\x00\\x00\\x00\\x00\\x00\\xff\\xa4p\\x9d?'\n",
        "NumPy    : "
       ]
      },
      {
       "output_type": "stream",
       "stream": "stdout",
       "text": [
        "[        nan  1.23000002]\n",
        "-----------\n",
        "SciDBArray('py1102324986642_00259<x:double NULL DEFAULT null> [i=0:1,10,0]')"
       ]
      },
      {
       "output_type": "stream",
       "stream": "stdout",
       "text": [
        "\n",
        "Plaintext: '[(null),(1e+100)]\\n'\n",
        "Binary   : "
       ]
      },
      {
       "output_type": "stream",
       "stream": "stdout",
       "text": [
        "'\\x00\\x00\\x00\\x00\\x00\\x00\\x00\\x00\\x00\\xff}\\xc3\\x94%\\xadI\\xb2T'\n",
        "NumPy    : "
       ]
      },
      {
       "output_type": "stream",
       "stream": "stdout",
       "text": [
        "[              nan   1.00000000e+100]\n",
        "-----------\n",
        "SciDBArray('py1102324986642_00262<x:datetime NULL DEFAULT null> [i=0:1,10,0]')"
       ]
      },
      {
       "output_type": "stream",
       "stream": "stdout",
       "text": [
        "\n",
        "Plaintext: "
       ]
      },
      {
       "output_type": "stream",
       "stream": "stdout",
       "text": [
        "\"[(null),('2001-01-01 12:23:00')]\\n\"\n",
        "Binary   : "
       ]
      },
      {
       "output_type": "stream",
       "stream": "stdout",
       "text": [
        "'\\x00\\x00\\x00\\x00\\x00\\x00\\x00\\x00\\x00\\xff\\xa4vP:\\x00\\x00\\x00\\x00'\n",
        "NumPy    : "
       ]
      },
      {
       "output_type": "stream",
       "stream": "stdout",
       "text": [
        "['NaT' '2001-01-01T07:23:00-0500']\n",
        "-----------\n",
        "SciDBArray('py1102324986642_00265<x:datetimetz NULL DEFAULT null> [i=0:1,10,0]')"
       ]
      },
      {
       "output_type": "stream",
       "stream": "stdout",
       "text": [
        "\n",
        "Plaintext: "
       ]
      },
      {
       "output_type": "stream",
       "stream": "stdout",
       "text": [
        "\"[(null),('2001-01-01 12:23:01 +05:00')]\\n\"\n",
        "Binary   : "
       ]
      },
      {
       "output_type": "stream",
       "stream": "stdout",
       "text": [
        "'\\x00\\x00\\x00\\x00\\x00\\x00\\x00\\x00\\x00\\x00\\x00\\x00\\x00\\x00\\x00\\x00\\x00\\xff\\xa5vP:\\x00\\x00\\x00\\x00PF\\x00\\x00\\x00\\x00\\x00\\x00'\n",
        "NumPy    : "
       ]
      },
      {
       "output_type": "stream",
       "stream": "stdout",
       "text": [
        "['NaT' '2001-01-01T02:23:01-0500']\n",
        "-----------\n",
        "SciDBArray('py1102324986642_00268<x:bool NULL DEFAULT null> [i=0:1,10,0]')"
       ]
      },
      {
       "output_type": "stream",
       "stream": "stdout",
       "text": [
        "\n",
        "Plaintext: "
       ]
      },
      {
       "output_type": "stream",
       "stream": "stdout",
       "text": [
        "'[(null),(true)]\\n'\n",
        "Binary   : "
       ]
      },
      {
       "output_type": "stream",
       "stream": "stdout",
       "text": [
        "'\\x00\\x00\\xff\\x01'\n",
        "NumPy    : "
       ]
      },
      {
       "output_type": "stream",
       "stream": "stdout",
       "text": [
        "[ nan   1.]\n",
        "-----------\n",
        "SciDBArray('py1102324986642_00271<x:string NULL DEFAULT null> [i=0:1,10,0]')"
       ]
      },
      {
       "output_type": "stream",
       "stream": "stdout",
       "text": [
        "\n",
        "Plaintext: "
       ]
      },
      {
       "output_type": "stream",
       "stream": "stdout",
       "text": [
        "\"[(null),('test')]\\n\"\n",
        "Binary   : "
       ]
      },
      {
       "output_type": "stream",
       "stream": "stdout",
       "text": [
        "'\\x00\\x00\\x00\\x00\\x00\\xff\\x05\\x00\\x00\\x00test\\x00'\n",
        "NumPy    : "
       ]
      },
      {
       "output_type": "stream",
       "stream": "stdout",
       "text": [
        "[None u'test']\n",
        "-----------\n",
        "SciDBArray('py1102324986642_00275<x:char NULL DEFAULT null> [i=0:1,10,0]')"
       ]
      },
      {
       "output_type": "stream",
       "stream": "stdout",
       "text": [
        "\n",
        "Plaintext: "
       ]
      },
      {
       "output_type": "stream",
       "stream": "stdout",
       "text": [
        "\"[(null),('a')]\\n\"\n",
        "Binary   : "
       ]
      },
      {
       "output_type": "stream",
       "stream": "stdout",
       "text": [
        "'\\x00\\x00\\xffa'\n",
        "NumPy    : "
       ]
      },
      {
       "output_type": "stream",
       "stream": "stdout",
       "text": [
        "['' 'a']\n",
        "-----------\n"
       ]
      }
     ],
     "prompt_number": 8
    },
    {
     "cell_type": "markdown",
     "metadata": {},
     "source": [
      "# Single attribute non-nullable arrays with empty cells"
     ]
    },
    {
     "cell_type": "code",
     "collapsed": false,
     "input": [
      "def make(dtype, val):\n",
      "    result = sdb.afl.build('<x:%s>[i=0:1,10,0]' % dtype, val).eval()\n",
      "    result = result.redimension('<x: %s> [i=0:2,10,0]' % dtype).eval()\n",
      "    return result\n",
      "\n",
      "run(make)"
     ],
     "language": "python",
     "metadata": {},
     "outputs": [
      {
       "output_type": "stream",
       "stream": "stdout",
       "text": [
        "SciDBArray('py1102324986642_00279<x:int8> [i=0:2,10,0]')\n",
        "Plaintext: "
       ]
      },
      {
       "output_type": "stream",
       "stream": "stdout",
       "text": [
        "'[(-128),(-128),()]\\n'\n",
        "Binary   : "
       ]
      },
      {
       "output_type": "stream",
       "stream": "stdout",
       "text": [
        "'\\x80\\x80'\n",
        "NumPy    : "
       ]
      },
      {
       "output_type": "stream",
       "stream": "stdout",
       "text": [
        "[-128 -128    0]\n",
        "-----------\n",
        "SciDBArray('py1102324986642_00283<x:int16> [i=0:2,10,0]')"
       ]
      },
      {
       "output_type": "stream",
       "stream": "stdout",
       "text": [
        "\n",
        "Plaintext: "
       ]
      },
      {
       "output_type": "stream",
       "stream": "stdout",
       "text": [
        "'[(-32766),(-32766),()]\\n'\n",
        "Binary   : "
       ]
      },
      {
       "output_type": "stream",
       "stream": "stdout",
       "text": [
        "'\\x02\\x80\\x02\\x80'\n",
        "NumPy    : "
       ]
      },
      {
       "output_type": "stream",
       "stream": "stdout",
       "text": [
        "[-32766 -32766      0]\n",
        "-----------\n",
        "SciDBArray('py1102324986642_00287<x:int32> [i=0:2,10,0]')"
       ]
      },
      {
       "output_type": "stream",
       "stream": "stdout",
       "text": [
        "\n",
        "Plaintext: "
       ]
      },
      {
       "output_type": "stream",
       "stream": "stdout",
       "text": [
        "'[(-2147483646),(-2147483646),()]\\n'\n",
        "Binary   : "
       ]
      },
      {
       "output_type": "stream",
       "stream": "stdout",
       "text": [
        "'\\x02\\x00\\x00\\x80\\x02\\x00\\x00\\x80'\n",
        "NumPy    : "
       ]
      },
      {
       "output_type": "stream",
       "stream": "stdout",
       "text": [
        "[-2147483646 -2147483646           0]\n",
        "-----------\n",
        "SciDBArray('py1102324986642_00291<x:int64> [i=0:2,10,0]')"
       ]
      },
      {
       "output_type": "stream",
       "stream": "stdout",
       "text": [
        "\n",
        "Plaintext: "
       ]
      },
      {
       "output_type": "stream",
       "stream": "stdout",
       "text": [
        "'[(-9223372036854775806),(-9223372036854775806),()]\\n'\n",
        "Binary   : "
       ]
      },
      {
       "output_type": "stream",
       "stream": "stdout",
       "text": [
        "'\\x02\\x00\\x00\\x00\\x00\\x00\\x00\\x80\\x02\\x00\\x00\\x00\\x00\\x00\\x00\\x80'\n",
        "NumPy    : "
       ]
      },
      {
       "output_type": "stream",
       "stream": "stdout",
       "text": [
        "[-9223372036854775806 -9223372036854775806                    0]\n",
        "-----------\n",
        "SciDBArray('py1102324986642_00295<x:uint8> [i=0:2,10,0]')"
       ]
      },
      {
       "output_type": "stream",
       "stream": "stdout",
       "text": [
        "\n",
        "Plaintext: "
       ]
      },
      {
       "output_type": "stream",
       "stream": "stdout",
       "text": [
        "'[(255),(255),()]\\n'\n",
        "Binary   : "
       ]
      },
      {
       "output_type": "stream",
       "stream": "stdout",
       "text": [
        "'\\xff\\xff'\n",
        "NumPy    : "
       ]
      },
      {
       "output_type": "stream",
       "stream": "stdout",
       "text": [
        "[255 255   0]\n",
        "-----------\n",
        "SciDBArray('py1102324986642_00299<x:uint16> [i=0:2,10,0]')"
       ]
      },
      {
       "output_type": "stream",
       "stream": "stdout",
       "text": [
        "\n",
        "Plaintext: "
       ]
      },
      {
       "output_type": "stream",
       "stream": "stdout",
       "text": [
        "'[(65535),(65535),()]\\n'\n",
        "Binary   : "
       ]
      },
      {
       "output_type": "stream",
       "stream": "stdout",
       "text": [
        "'\\xff\\xff\\xff\\xff'\n",
        "NumPy    : "
       ]
      },
      {
       "output_type": "stream",
       "stream": "stdout",
       "text": [
        "[65535 65535     0]\n",
        "-----------\n",
        "SciDBArray('py1102324986642_00303<x:uint32> [i=0:2,10,0]')"
       ]
      },
      {
       "output_type": "stream",
       "stream": "stdout",
       "text": [
        "\n",
        "Plaintext: "
       ]
      },
      {
       "output_type": "stream",
       "stream": "stdout",
       "text": [
        "'[(4294967295),(4294967295),()]\\n'\n",
        "Binary   : "
       ]
      },
      {
       "output_type": "stream",
       "stream": "stdout",
       "text": [
        "'\\xff\\xff\\xff\\xff\\xff\\xff\\xff\\xff'\n",
        "NumPy    : "
       ]
      },
      {
       "output_type": "stream",
       "stream": "stdout",
       "text": [
        "[4294967295 4294967295          0]\n",
        "-----------\n",
        "SciDBArray('py1102324986642_00307<x:uint64> [i=0:2,10,0]')"
       ]
      },
      {
       "output_type": "stream",
       "stream": "stdout",
       "text": [
        "\n",
        "Plaintext: "
       ]
      },
      {
       "output_type": "stream",
       "stream": "stdout",
       "text": [
        "'[(9223372036854775807),(9223372036854775807),()]\\n'\n",
        "Binary   : "
       ]
      },
      {
       "output_type": "stream",
       "stream": "stdout",
       "text": [
        "'\\xff\\xff\\xff\\xff\\xff\\xff\\xff\\x7f\\xff\\xff\\xff\\xff\\xff\\xff\\xff\\x7f'\n",
        "NumPy    : "
       ]
      },
      {
       "output_type": "stream",
       "stream": "stdout",
       "text": [
        "[9223372036854775807 9223372036854775807                   0]\n",
        "-----------\n",
        "SciDBArray('py1102324986642_00311<x:float> [i=0:2,10,0]')"
       ]
      },
      {
       "output_type": "stream",
       "stream": "stdout",
       "text": [
        "\n",
        "Plaintext: "
       ]
      },
      {
       "output_type": "stream",
       "stream": "stdout",
       "text": [
        "'[(1.23),(1.23),()]\\n'\n",
        "Binary   : "
       ]
      },
      {
       "output_type": "stream",
       "stream": "stdout",
       "text": [
        "'\\xa4p\\x9d?\\xa4p\\x9d?'\n",
        "NumPy    : "
       ]
      },
      {
       "output_type": "stream",
       "stream": "stdout",
       "text": [
        "[ 1.23000002  1.23000002  0.        ]\n",
        "-----------\n",
        "SciDBArray('py1102324986642_00315<x:double> [i=0:2,10,0]')"
       ]
      },
      {
       "output_type": "stream",
       "stream": "stdout",
       "text": [
        "\n",
        "Plaintext: "
       ]
      },
      {
       "output_type": "stream",
       "stream": "stdout",
       "text": [
        "'[(1e+100),(1e+100),()]\\n'\n",
        "Binary   : "
       ]
      },
      {
       "output_type": "stream",
       "stream": "stdout",
       "text": [
        "'}\\xc3\\x94%\\xadI\\xb2T}\\xc3\\x94%\\xadI\\xb2T'\n",
        "NumPy    : "
       ]
      },
      {
       "output_type": "stream",
       "stream": "stdout",
       "text": [
        "[  1.00000000e+100   1.00000000e+100   0.00000000e+000]\n",
        "-----------\n",
        "SciDBArray('py1102324986642_00319<x:datetime> [i=0:2,10,0]')"
       ]
      },
      {
       "output_type": "stream",
       "stream": "stdout",
       "text": [
        "\n",
        "Plaintext: "
       ]
      },
      {
       "output_type": "stream",
       "stream": "stdout",
       "text": [
        "\"[('2001-01-01 12:23:00'),('2001-01-01 12:23:00'),()]\\n\"\n",
        "Binary   : "
       ]
      },
      {
       "output_type": "stream",
       "stream": "stdout",
       "text": [
        "'\\xa4vP:\\x00\\x00\\x00\\x00\\xa4vP:\\x00\\x00\\x00\\x00'\n",
        "NumPy    : "
       ]
      },
      {
       "output_type": "stream",
       "stream": "stdout",
       "text": [
        "['2001-01-01T07:23:00-0500' '2001-01-01T07:23:00-0500'\n",
        " '1969-12-31T19:00:00-0500']\n",
        "-----------\n",
        "SciDBArray('py1102324986642_00323<x:datetimetz> [i=0:2,10,0]')"
       ]
      },
      {
       "output_type": "stream",
       "stream": "stdout",
       "text": [
        "\n",
        "Plaintext: "
       ]
      },
      {
       "output_type": "stream",
       "stream": "stdout",
       "text": [
        "\"[('2001-01-01 12:23:01 +05:00'),('2001-01-01 12:23:01 +05:00'),()]\\n\"\n",
        "Binary   : "
       ]
      },
      {
       "output_type": "stream",
       "stream": "stdout",
       "text": [
        "'\\xa5vP:\\x00\\x00\\x00\\x00PF\\x00\\x00\\x00\\x00\\x00\\x00\\xa5vP:\\x00\\x00\\x00\\x00PF\\x00\\x00\\x00\\x00\\x00\\x00'\n",
        "NumPy    : "
       ]
      },
      {
       "output_type": "stream",
       "stream": "stdout",
       "text": [
        "['2001-01-01T02:23:01-0500' '2001-01-01T02:23:01-0500'\n",
        " '1969-12-31T19:00:00-0500']\n",
        "-----------\n",
        "SciDBArray('py1102324986642_00327<x:bool> [i=0:2,10,0]')"
       ]
      },
      {
       "output_type": "stream",
       "stream": "stdout",
       "text": [
        "\n",
        "Plaintext: "
       ]
      },
      {
       "output_type": "stream",
       "stream": "stdout",
       "text": [
        "'[(true),(true),()]\\n'\n",
        "Binary   : "
       ]
      },
      {
       "output_type": "stream",
       "stream": "stdout",
       "text": [
        "'\\x01\\x01'\n",
        "NumPy    : "
       ]
      },
      {
       "output_type": "stream",
       "stream": "stdout",
       "text": [
        "[ True  True False]\n",
        "-----------\n",
        "SciDBArray('py1102324986642_00331<x:string> [i=0:2,10,0]')"
       ]
      },
      {
       "output_type": "stream",
       "stream": "stdout",
       "text": [
        "\n",
        "Plaintext: "
       ]
      },
      {
       "output_type": "stream",
       "stream": "stdout",
       "text": [
        "\"[('test'),('test'),()]\\n\"\n",
        "Binary   : "
       ]
      },
      {
       "output_type": "stream",
       "stream": "stdout",
       "text": [
        "'\\x05\\x00\\x00\\x00test\\x00\\x05\\x00\\x00\\x00test\\x00'\n",
        "NumPy    : "
       ]
      },
      {
       "output_type": "stream",
       "stream": "stdout",
       "text": [
        "[u'test' u'test' 0]\n",
        "-----------\n",
        "SciDBArray('py1102324986642_00336<x:char> [i=0:2,10,0]')"
       ]
      },
      {
       "output_type": "stream",
       "stream": "stdout",
       "text": [
        "\n",
        "Plaintext: "
       ]
      },
      {
       "output_type": "stream",
       "stream": "stdout",
       "text": [
        "\"[('a'),('a'),()]\\n\"\n",
        "Binary   : "
       ]
      },
      {
       "output_type": "stream",
       "stream": "stdout",
       "text": [
        "'aa'\n",
        "NumPy    : "
       ]
      },
      {
       "output_type": "stream",
       "stream": "stdout",
       "text": [
        "['a' 'a' '']\n",
        "-----------\n"
       ]
      }
     ],
     "prompt_number": 9
    },
    {
     "cell_type": "markdown",
     "metadata": {},
     "source": [
      "# Single attribute nullable arrays with empty cells"
     ]
    },
    {
     "cell_type": "code",
     "collapsed": false,
     "input": [
      "def make(dtype, val):\n",
      "    result = sdb.afl.build('<x:%s NULL>[i=0:1,10,0]' % dtype, 'iif(i > 0, %s, null)' % val).eval()\n",
      "    result = result.redimension('<x: %s NULL> [i=0:2,10,0]' % dtype).eval()\n",
      "    return result\n",
      "\n",
      "run(make)"
     ],
     "language": "python",
     "metadata": {},
     "outputs": [
      {
       "output_type": "stream",
       "stream": "stdout",
       "text": [
        "SciDBArray('py1102324986642_00340<x:int8 NULL DEFAULT null> [i=0:2,10,0]')\n",
        "Plaintext: "
       ]
      },
      {
       "output_type": "stream",
       "stream": "stdout",
       "text": [
        "'[(null),(-128),()]\\n'\n",
        "Binary   : "
       ]
      },
      {
       "output_type": "stream",
       "stream": "stdout",
       "text": [
        "'\\x00\\x00\\xff\\x80'\n",
        "NumPy    : "
       ]
      },
      {
       "output_type": "stream",
       "stream": "stdout",
       "text": [
        "[  nan -128.    0.]\n",
        "-----------\n",
        "SciDBArray('py1102324986642_00344<x:int16 NULL DEFAULT null> [i=0:2,10,0]')"
       ]
      },
      {
       "output_type": "stream",
       "stream": "stdout",
       "text": [
        "\n",
        "Plaintext: "
       ]
      },
      {
       "output_type": "stream",
       "stream": "stdout",
       "text": [
        "'[(null),(-32766),()]\\n'\n",
        "Binary   : "
       ]
      },
      {
       "output_type": "stream",
       "stream": "stdout",
       "text": [
        "'\\x00\\x00\\x00\\xff\\x02\\x80'\n",
        "NumPy    : "
       ]
      },
      {
       "output_type": "stream",
       "stream": "stdout",
       "text": [
        "[    nan -32766.      0.]\n",
        "-----------\n",
        "SciDBArray('py1102324986642_00348<x:int32 NULL DEFAULT null> [i=0:2,10,0]')"
       ]
      },
      {
       "output_type": "stream",
       "stream": "stdout",
       "text": [
        "\n",
        "Plaintext: "
       ]
      },
      {
       "output_type": "stream",
       "stream": "stdout",
       "text": [
        "'[(null),(-2147483646),()]\\n'\n",
        "Binary   : "
       ]
      },
      {
       "output_type": "stream",
       "stream": "stdout",
       "text": [
        "'\\x00\\x00\\x00\\x00\\x00\\xff\\x02\\x00\\x00\\x80'\n",
        "NumPy    : "
       ]
      },
      {
       "output_type": "stream",
       "stream": "stdout",
       "text": [
        "[             nan  -2.14748365e+09   0.00000000e+00]\n",
        "-----------\n",
        "SciDBArray('py1102324986642_00352<x:int64 NULL DEFAULT null> [i=0:2,10,0]')"
       ]
      },
      {
       "output_type": "stream",
       "stream": "stdout",
       "text": [
        "\n",
        "Plaintext: "
       ]
      },
      {
       "output_type": "stream",
       "stream": "stdout",
       "text": [
        "'[(null),(-9223372036854775806),()]\\n'\n",
        "Binary   : "
       ]
      },
      {
       "output_type": "stream",
       "stream": "stdout",
       "text": [
        "'\\x00\\x00\\x00\\x00\\x00\\x00\\x00\\x00\\x00\\xff\\x02\\x00\\x00\\x00\\x00\\x00\\x00\\x80'\n",
        "NumPy    : "
       ]
      },
      {
       "output_type": "stream",
       "stream": "stdout",
       "text": [
        "[             nan  -9.22337204e+18   0.00000000e+00]\n",
        "-----------\n",
        "SciDBArray('py1102324986642_00356<x:uint8 NULL DEFAULT null> [i=0:2,10,0]')"
       ]
      },
      {
       "output_type": "stream",
       "stream": "stdout",
       "text": [
        "\n",
        "Plaintext: "
       ]
      },
      {
       "output_type": "stream",
       "stream": "stdout",
       "text": [
        "'[(null),(255),()]\\n'\n",
        "Binary   : "
       ]
      },
      {
       "output_type": "stream",
       "stream": "stdout",
       "text": [
        "'\\x00\\x00\\xff\\xff'\n",
        "NumPy    : "
       ]
      },
      {
       "output_type": "stream",
       "stream": "stdout",
       "text": [
        "[  nan  255.    0.]\n",
        "-----------\n",
        "SciDBArray('py1102324986642_00360<x:uint16 NULL DEFAULT null> [i=0:2,10,0]')"
       ]
      },
      {
       "output_type": "stream",
       "stream": "stdout",
       "text": [
        "\n",
        "Plaintext: "
       ]
      },
      {
       "output_type": "stream",
       "stream": "stdout",
       "text": [
        "'[(null),(65535),()]\\n'\n",
        "Binary   : "
       ]
      },
      {
       "output_type": "stream",
       "stream": "stdout",
       "text": [
        "'\\x00\\x00\\x00\\xff\\xff\\xff'\n",
        "NumPy    : "
       ]
      },
      {
       "output_type": "stream",
       "stream": "stdout",
       "text": [
        "[    nan  65535.      0.]\n",
        "-----------\n",
        "SciDBArray('py1102324986642_00364<x:uint32 NULL DEFAULT null> [i=0:2,10,0]')"
       ]
      },
      {
       "output_type": "stream",
       "stream": "stdout",
       "text": [
        "\n",
        "Plaintext: "
       ]
      },
      {
       "output_type": "stream",
       "stream": "stdout",
       "text": [
        "'[(null),(4294967295),()]\\n'\n",
        "Binary   : "
       ]
      },
      {
       "output_type": "stream",
       "stream": "stdout",
       "text": [
        "'\\x00\\x00\\x00\\x00\\x00\\xff\\xff\\xff\\xff\\xff'\n",
        "NumPy    : "
       ]
      },
      {
       "output_type": "stream",
       "stream": "stdout",
       "text": [
        "[             nan   4.29496730e+09   0.00000000e+00]\n",
        "-----------\n",
        "SciDBArray('py1102324986642_00368<x:uint64 NULL DEFAULT null> [i=0:2,10,0]')"
       ]
      },
      {
       "output_type": "stream",
       "stream": "stdout",
       "text": [
        "\n",
        "Plaintext: "
       ]
      },
      {
       "output_type": "stream",
       "stream": "stdout",
       "text": [
        "'[(null),(9223372036854775807),()]\\n'\n",
        "Binary   : "
       ]
      },
      {
       "output_type": "stream",
       "stream": "stdout",
       "text": [
        "'\\x00\\x00\\x00\\x00\\x00\\x00\\x00\\x00\\x00\\xff\\xff\\xff\\xff\\xff\\xff\\xff\\xff\\x7f'\n",
        "NumPy    : "
       ]
      },
      {
       "output_type": "stream",
       "stream": "stdout",
       "text": [
        "[             nan   9.22337204e+18   0.00000000e+00]\n",
        "-----------\n",
        "SciDBArray('py1102324986642_00372<x:float NULL DEFAULT null> [i=0:2,10,0]')"
       ]
      },
      {
       "output_type": "stream",
       "stream": "stdout",
       "text": [
        "\n",
        "Plaintext: "
       ]
      },
      {
       "output_type": "stream",
       "stream": "stdout",
       "text": [
        "'[(null),(1.23),()]\\n'\n",
        "Binary   : "
       ]
      },
      {
       "output_type": "stream",
       "stream": "stdout",
       "text": [
        "'\\x00\\x00\\x00\\x00\\x00\\xff\\xa4p\\x9d?'\n",
        "NumPy    : "
       ]
      },
      {
       "output_type": "stream",
       "stream": "stdout",
       "text": [
        "[        nan  1.23000002  0.        ]\n",
        "-----------\n",
        "SciDBArray('py1102324986642_00376<x:double NULL DEFAULT null> [i=0:2,10,0]')"
       ]
      },
      {
       "output_type": "stream",
       "stream": "stdout",
       "text": [
        "\n",
        "Plaintext: "
       ]
      },
      {
       "output_type": "stream",
       "stream": "stdout",
       "text": [
        "'[(null),(1e+100),()]\\n'\n",
        "Binary   : "
       ]
      },
      {
       "output_type": "stream",
       "stream": "stdout",
       "text": [
        "'\\x00\\x00\\x00\\x00\\x00\\x00\\x00\\x00\\x00\\xff}\\xc3\\x94%\\xadI\\xb2T'\n",
        "NumPy    : "
       ]
      },
      {
       "output_type": "stream",
       "stream": "stdout",
       "text": [
        "[              nan   1.00000000e+100   0.00000000e+000]\n",
        "-----------\n",
        "SciDBArray('py1102324986642_00380<x:datetime NULL DEFAULT null> [i=0:2,10,0]')"
       ]
      },
      {
       "output_type": "stream",
       "stream": "stdout",
       "text": [
        "\n",
        "Plaintext: "
       ]
      },
      {
       "output_type": "stream",
       "stream": "stdout",
       "text": [
        "\"[(null),('2001-01-01 12:23:00'),()]\\n\"\n",
        "Binary   : "
       ]
      },
      {
       "output_type": "stream",
       "stream": "stdout",
       "text": [
        "'\\x00\\x00\\x00\\x00\\x00\\x00\\x00\\x00\\x00\\xff\\xa4vP:\\x00\\x00\\x00\\x00'\n",
        "NumPy    : "
       ]
      },
      {
       "output_type": "stream",
       "stream": "stdout",
       "text": [
        "['NaT' '2001-01-01T07:23:00-0500' '1969-12-31T19:00:00-0500']\n",
        "-----------\n",
        "SciDBArray('py1102324986642_00384<x:datetimetz NULL DEFAULT null> [i=0:2,10,0]')"
       ]
      },
      {
       "output_type": "stream",
       "stream": "stdout",
       "text": [
        "\n",
        "Plaintext: "
       ]
      },
      {
       "output_type": "stream",
       "stream": "stdout",
       "text": [
        "\"[(null),('2001-01-01 12:23:01 +05:00'),()]\\n\"\n",
        "Binary   : "
       ]
      },
      {
       "output_type": "stream",
       "stream": "stdout",
       "text": [
        "'\\x00\\x00\\x00\\x00\\x00\\x00\\x00\\x00\\x00\\x00\\x00\\x00\\x00\\x00\\x00\\x00\\x00\\xff\\xa5vP:\\x00\\x00\\x00\\x00PF\\x00\\x00\\x00\\x00\\x00\\x00'\n",
        "NumPy    : "
       ]
      },
      {
       "output_type": "stream",
       "stream": "stdout",
       "text": [
        "['NaT' '2001-01-01T02:23:01-0500' '1969-12-31T19:00:00-0500']\n",
        "-----------\n",
        "SciDBArray('py1102324986642_00388<x:bool NULL DEFAULT null> [i=0:2,10,0]')"
       ]
      },
      {
       "output_type": "stream",
       "stream": "stdout",
       "text": [
        "\n",
        "Plaintext: "
       ]
      },
      {
       "output_type": "stream",
       "stream": "stdout",
       "text": [
        "'[(null),(true),()]\\n'\n",
        "Binary   : "
       ]
      },
      {
       "output_type": "stream",
       "stream": "stdout",
       "text": [
        "'\\x00\\x00\\xff\\x01'\n",
        "NumPy    : "
       ]
      },
      {
       "output_type": "stream",
       "stream": "stdout",
       "text": [
        "[ nan   1.   0.]\n",
        "-----------\n",
        "SciDBArray('py1102324986642_00392<x:string NULL DEFAULT null> [i=0:2,10,0]')"
       ]
      },
      {
       "output_type": "stream",
       "stream": "stdout",
       "text": [
        "\n",
        "Plaintext: "
       ]
      },
      {
       "output_type": "stream",
       "stream": "stdout",
       "text": [
        "\"[(null),('test'),()]\\n\"\n",
        "Binary   : "
       ]
      },
      {
       "output_type": "stream",
       "stream": "stdout",
       "text": [
        "'\\x00\\x00\\x00\\x00\\x00\\xff\\x05\\x00\\x00\\x00test\\x00'\n",
        "NumPy    : "
       ]
      },
      {
       "output_type": "stream",
       "stream": "stdout",
       "text": [
        "[None u'test' 0]\n",
        "-----------\n",
        "SciDBArray('py1102324986642_00397<x:char NULL DEFAULT null> [i=0:2,10,0]')"
       ]
      },
      {
       "output_type": "stream",
       "stream": "stdout",
       "text": [
        "\n",
        "Plaintext: "
       ]
      },
      {
       "output_type": "stream",
       "stream": "stdout",
       "text": [
        "\"[(null),('a'),()]\\n\"\n",
        "Binary   : "
       ]
      },
      {
       "output_type": "stream",
       "stream": "stdout",
       "text": [
        "'\\x00\\x00\\xffa'\n",
        "NumPy    : "
       ]
      },
      {
       "output_type": "stream",
       "stream": "stdout",
       "text": [
        "['' 'a' '']\n",
        "-----------\n"
       ]
      }
     ],
     "prompt_number": 10
    },
    {
     "cell_type": "heading",
     "level": 1,
     "metadata": {},
     "source": [
      "Multi-attribute data, no empty cells"
     ]
    },
    {
     "cell_type": "code",
     "collapsed": true,
     "input": [
      "def make(dtype, val):\n",
      "    x = sdb.afl.build('<x:%s>[i=0:1,10,0]' % dtype, val).eval()\n",
      "    y = sdb.afl.build('<y:string>[i=0:1,10,0]', \"'a'\").eval()\n",
      "    return sdb.join(x, y).eval()\n",
      "\n",
      "run(make)"
     ],
     "language": "python",
     "metadata": {},
     "outputs": [
      {
       "output_type": "stream",
       "stream": "stdout",
       "text": [
        "SciDBArray('py1102324986642_00402<x:int8,y:string> [i=0:1,10,0]')\n",
        "Plaintext: "
       ]
      },
      {
       "output_type": "stream",
       "stream": "stdout",
       "text": [
        "\"[(-128,'a'),(-128,'a')]\\n\"\n",
        "Binary   : "
       ]
      },
      {
       "output_type": "stream",
       "stream": "stdout",
       "text": [
        "'\\x80\\x02\\x00\\x00\\x00a\\x00\\x80\\x02\\x00\\x00\\x00a\\x00'\n",
        "NumPy    : "
       ]
      },
      {
       "output_type": "stream",
       "stream": "stdout",
       "text": [
        "[(-128, u'a') (-128, u'a')]\n",
        "-----------\n",
        "SciDBArray('py1102324986642_00408<x:int16,y:string> [i=0:1,10,0]')"
       ]
      },
      {
       "output_type": "stream",
       "stream": "stdout",
       "text": [
        "\n",
        "Plaintext: \"[(-32766,'a'),(-32766,'a')]\\n\"\n",
        "Binary   : "
       ]
      },
      {
       "output_type": "stream",
       "stream": "stdout",
       "text": [
        "'\\x02\\x80\\x02\\x00\\x00\\x00a\\x00\\x02\\x80\\x02\\x00\\x00\\x00a\\x00'\n",
        "NumPy    : "
       ]
      },
      {
       "output_type": "stream",
       "stream": "stdout",
       "text": [
        "[(-32766, u'a') (-32766, u'a')]\n",
        "-----------\n",
        "SciDBArray('py1102324986642_00414<x:int32,y:string> [i=0:1,10,0]')"
       ]
      },
      {
       "output_type": "stream",
       "stream": "stdout",
       "text": [
        "\n",
        "Plaintext: \"[(-2147483646,'a'),(-2147483646,'a')]\\n\"\n",
        "Binary   : "
       ]
      },
      {
       "output_type": "stream",
       "stream": "stdout",
       "text": [
        "'\\x02\\x00\\x00\\x80\\x02\\x00\\x00\\x00a\\x00\\x02\\x00\\x00\\x80\\x02\\x00\\x00\\x00a\\x00'\n",
        "NumPy    : "
       ]
      },
      {
       "output_type": "stream",
       "stream": "stdout",
       "text": [
        "[(-2147483646, u'a') (-2147483646, u'a')]\n",
        "-----------\n",
        "SciDBArray('py1102324986642_00420<x:int64,y:string> [i=0:1,10,0]')"
       ]
      },
      {
       "output_type": "stream",
       "stream": "stdout",
       "text": [
        "\n",
        "Plaintext: \"[(-9223372036854775806,'a'),(-9223372036854775806,'a')]\\n\"\n",
        "Binary   : "
       ]
      },
      {
       "output_type": "stream",
       "stream": "stdout",
       "text": [
        "'\\x02\\x00\\x00\\x00\\x00\\x00\\x00\\x80\\x02\\x00\\x00\\x00a\\x00\\x02\\x00\\x00\\x00\\x00\\x00\\x00\\x80\\x02\\x00\\x00\\x00a\\x00'\n",
        "NumPy    : "
       ]
      },
      {
       "output_type": "stream",
       "stream": "stdout",
       "text": [
        "[(-9223372036854775806, u'a') (-9223372036854775806, u'a')]\n",
        "-----------\n",
        "SciDBArray('py1102324986642_00426<x:uint8,y:string> [i=0:1,10,0]')"
       ]
      },
      {
       "output_type": "stream",
       "stream": "stdout",
       "text": [
        "\n",
        "Plaintext: \"[(255,'a'),(255,'a')]\\n\"\n",
        "Binary   : "
       ]
      },
      {
       "output_type": "stream",
       "stream": "stdout",
       "text": [
        "'\\xff\\x02\\x00\\x00\\x00a\\x00\\xff\\x02\\x00\\x00\\x00a\\x00'\n",
        "NumPy    : "
       ]
      },
      {
       "output_type": "stream",
       "stream": "stdout",
       "text": [
        "[(255, u'a') (255, u'a')]\n",
        "-----------\n",
        "SciDBArray('py1102324986642_00432<x:uint16,y:string> [i=0:1,10,0]')"
       ]
      },
      {
       "output_type": "stream",
       "stream": "stdout",
       "text": [
        "\n",
        "Plaintext: \"[(65535,'a'),(65535,'a')]\\n\"\n",
        "Binary   : "
       ]
      },
      {
       "output_type": "stream",
       "stream": "stdout",
       "text": [
        "'\\xff\\xff\\x02\\x00\\x00\\x00a\\x00\\xff\\xff\\x02\\x00\\x00\\x00a\\x00'\n",
        "NumPy    : "
       ]
      },
      {
       "output_type": "stream",
       "stream": "stdout",
       "text": [
        "[(65535, u'a') (65535, u'a')]\n",
        "-----------\n",
        "SciDBArray('py1102324986642_00438<x:uint32,y:string> [i=0:1,10,0]')"
       ]
      },
      {
       "output_type": "stream",
       "stream": "stdout",
       "text": [
        "\n",
        "Plaintext: \"[(4294967295,'a'),(4294967295,'a')]\\n\"\n",
        "Binary   : "
       ]
      },
      {
       "output_type": "stream",
       "stream": "stdout",
       "text": [
        "'\\xff\\xff\\xff\\xff\\x02\\x00\\x00\\x00a\\x00\\xff\\xff\\xff\\xff\\x02\\x00\\x00\\x00a\\x00'\n",
        "NumPy    : "
       ]
      },
      {
       "output_type": "stream",
       "stream": "stdout",
       "text": [
        "[(4294967295L, u'a') (4294967295L, u'a')]\n",
        "-----------\n",
        "SciDBArray('py1102324986642_00444<x:uint64,y:string> [i=0:1,10,0]')"
       ]
      },
      {
       "output_type": "stream",
       "stream": "stdout",
       "text": [
        "\n",
        "Plaintext: \"[(9223372036854775807,'a'),(9223372036854775807,'a')]\\n\"\n",
        "Binary   : "
       ]
      },
      {
       "output_type": "stream",
       "stream": "stdout",
       "text": [
        "'\\xff\\xff\\xff\\xff\\xff\\xff\\xff\\x7f\\x02\\x00\\x00\\x00a\\x00\\xff\\xff\\xff\\xff\\xff\\xff\\xff\\x7f\\x02\\x00\\x00\\x00a\\x00'\n",
        "NumPy    : "
       ]
      },
      {
       "output_type": "stream",
       "stream": "stdout",
       "text": [
        "[(9223372036854775807L, u'a') (9223372036854775807L, u'a')]\n",
        "-----------\n",
        "SciDBArray('py1102324986642_00450<x:float,y:string> [i=0:1,10,0]')"
       ]
      },
      {
       "output_type": "stream",
       "stream": "stdout",
       "text": [
        "\n",
        "Plaintext: \"[(1.23,'a'),(1.23,'a')]\\n\"\n",
        "Binary   : "
       ]
      },
      {
       "output_type": "stream",
       "stream": "stdout",
       "text": [
        "'\\xa4p\\x9d?\\x02\\x00\\x00\\x00a\\x00\\xa4p\\x9d?\\x02\\x00\\x00\\x00a\\x00'\n",
        "NumPy    : "
       ]
      },
      {
       "output_type": "stream",
       "stream": "stdout",
       "text": [
        "[(1.2300000190734863, u'a') (1.2300000190734863, u'a')]\n",
        "-----------\n",
        "SciDBArray('py1102324986642_00456<x:double,y:string> [i=0:1,10,0]')"
       ]
      },
      {
       "output_type": "stream",
       "stream": "stdout",
       "text": [
        "\n",
        "Plaintext: \"[(1e+100,'a'),(1e+100,'a')]\\n\"\n",
        "Binary   : "
       ]
      },
      {
       "output_type": "stream",
       "stream": "stdout",
       "text": [
        "'}\\xc3\\x94%\\xadI\\xb2T\\x02\\x00\\x00\\x00a\\x00}\\xc3\\x94%\\xadI\\xb2T\\x02\\x00\\x00\\x00a\\x00'\n",
        "NumPy    : "
       ]
      },
      {
       "output_type": "stream",
       "stream": "stdout",
       "text": [
        "[(1e+100, u'a') (1e+100, u'a')]\n",
        "-----------\n",
        "SciDBArray('py1102324986642_00462<x:datetime,y:string> [i=0:1,10,0]')"
       ]
      },
      {
       "output_type": "stream",
       "stream": "stdout",
       "text": [
        "\n",
        "Plaintext: \"[('2001-01-01 12:23:00','a'),('2001-01-01 12:23:00','a')]\\n\"\n",
        "Binary   : "
       ]
      },
      {
       "output_type": "stream",
       "stream": "stdout",
       "text": [
        "'\\xa4vP:\\x00\\x00\\x00\\x00\\x02\\x00\\x00\\x00a\\x00\\xa4vP:\\x00\\x00\\x00\\x00\\x02\\x00\\x00\\x00a\\x00'\n",
        "NumPy    : "
       ]
      },
      {
       "output_type": "stream",
       "stream": "stdout",
       "text": [
        "[(datetime.datetime(2001, 1, 1, 12, 23), u'a')\n",
        " (datetime.datetime(2001, 1, 1, 12, 23), u'a')]\n",
        "-----------\n",
        "SciDBArray('py1102324986642_00468<x:datetimetz,y:string> [i=0:1,10,0]')"
       ]
      },
      {
       "output_type": "stream",
       "stream": "stdout",
       "text": [
        "\n",
        "Plaintext: \"[('2001-01-01 12:23:01 +05:00','a'),('2001-01-01 12:23:01 +05:00','a')]\\n\"\n",
        "Binary   : "
       ]
      },
      {
       "output_type": "stream",
       "stream": "stdout",
       "text": [
        "'\\xa5vP:\\x00\\x00\\x00\\x00PF\\x00\\x00\\x00\\x00\\x00\\x00\\x02\\x00\\x00\\x00a\\x00\\xa5vP:\\x00\\x00\\x00\\x00PF\\x00\\x00\\x00\\x00\\x00\\x00\\x02\\x00\\x00\\x00a\\x00'\n",
        "NumPy    : "
       ]
      },
      {
       "output_type": "stream",
       "stream": "stdout",
       "text": [
        "[(datetime.datetime(2001, 1, 1, 7, 23, 1), u'a')\n",
        " (datetime.datetime(2001, 1, 1, 7, 23, 1), u'a')]\n",
        "-----------\n",
        "SciDBArray('py1102324986642_00474<x:bool,y:string> [i=0:1,10,0]')"
       ]
      },
      {
       "output_type": "stream",
       "stream": "stdout",
       "text": [
        "\n",
        "Plaintext: \"[(true,'a'),(true,'a')]\\n\"\n",
        "Binary   :"
       ]
      },
      {
       "output_type": "stream",
       "stream": "stdout",
       "text": [
        " '\\x01\\x02\\x00\\x00\\x00a\\x00\\x01\\x02\\x00\\x00\\x00a\\x00'\n",
        "NumPy    : "
       ]
      },
      {
       "output_type": "stream",
       "stream": "stdout",
       "text": [
        "[(True, u'a') (True, u'a')]\n",
        "-----------\n",
        "SciDBArray('py1102324986642_00480<x:string,y:string> [i=0:1,10,0]')"
       ]
      },
      {
       "output_type": "stream",
       "stream": "stdout",
       "text": [
        "\n",
        "Plaintext: \"[('test','a'),('test','a')]\\n\"\n",
        "Binary   : "
       ]
      },
      {
       "output_type": "stream",
       "stream": "stdout",
       "text": [
        "'\\x05\\x00\\x00\\x00test\\x00\\x02\\x00\\x00\\x00a\\x00\\x05\\x00\\x00\\x00test\\x00\\x02\\x00\\x00\\x00a\\x00'\n",
        "NumPy    : "
       ]
      },
      {
       "output_type": "stream",
       "stream": "stdout",
       "text": [
        "[(u'test', u'a') (u'test', u'a')]\n",
        "-----------\n",
        "SciDBArray('py1102324986642_00486<x:char,y:string> [i=0:1,10,0]')"
       ]
      },
      {
       "output_type": "stream",
       "stream": "stdout",
       "text": [
        "\n",
        "Plaintext: \"[('a','a'),('a','a')]\\n\"\n",
        "Binary   : "
       ]
      },
      {
       "output_type": "stream",
       "stream": "stdout",
       "text": [
        "'a\\x02\\x00\\x00\\x00a\\x00a\\x02\\x00\\x00\\x00a\\x00'\n",
        "NumPy    : "
       ]
      },
      {
       "output_type": "stream",
       "stream": "stdout",
       "text": [
        "[('a', u'a') ('a', u'a')]\n",
        "-----------\n"
       ]
      }
     ],
     "prompt_number": 11
    },
    {
     "cell_type": "markdown",
     "metadata": {},
     "source": [
      "Notes:\n",
      "    \n",
      "    There is no such thing as a \"partially empty cell\"\n",
      "    When joining 2 arrays, if either cell is empty, resultant cell is empty"
     ]
    }
   ],
   "metadata": {}
  }
 ]
}