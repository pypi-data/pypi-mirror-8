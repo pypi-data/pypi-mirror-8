{
 "metadata": {
  "name": "",
  "signature": "sha256:4b62b78b2f15bd51de97f3da77095869d06c91fdae620e2029c1340917663d45"
 },
 "nbformat": 3,
 "nbformat_minor": 0,
 "worksheets": [
  {
   "cells": [
    {
     "cell_type": "markdown",
     "metadata": {},
     "source": [
      "S-timator : demonstration of ODE models solving (uses the dynamics.py module).\n",
      "------------------------------------------------------------------------------"
     ]
    },
    {
     "cell_type": "code",
     "collapsed": false,
     "input": [
      "%matplotlib inline\n",
      "import sys\n",
      "print sys.version\n",
      "\n",
      "from stimator import *\n",
      "from stimator import __version__\n",
      "print \"S-timator version\", __version__.fullversion, \"(%s)\" %__version__.date\n",
      "import matplotlib as mpl\n",
      "\n",
      "#To make sure we have always the same matplotlib settings\n",
      "#(the ones in comments are the ipython notebook settings)\n",
      "\n",
      "mpl.rcParams['figure.figsize']=(8.0,6.0)    #(6.0,4.0)\n",
      "mpl.rcParams['font.size']=12                #10 \n",
      "mpl.rcParams['savefig.dpi']=100             #72 "
     ],
     "language": "python",
     "metadata": {},
     "outputs": []
    },
    {
     "cell_type": "markdown",
     "metadata": {},
     "source": [
      "###Example 1\n",
      "Glyoxalase system **model**\n"
     ]
    },
    {
     "cell_type": "code",
     "collapsed": false,
     "input": [
      "mdl = examples.models.glyoxalases.text\n",
      "print mdl\n",
      "m1 = read_model(mdl)\n",
      "\n",
      "s = solve(m1, tf=4030.0)\n",
      "s.plot()\n",
      "\n",
      "print '==== Last time point ===='\n",
      "print 'At t =', s.t[-1]\n",
      "for x in s.last:\n",
      "    print \"%-8s= %f\" % (x, s.last[x])"
     ],
     "language": "python",
     "metadata": {},
     "outputs": []
    },
    {
     "cell_type": "markdown",
     "metadata": {},
     "source": [
      "###Example 2\n",
      "Branched pathway"
     ]
    },
    {
     "cell_type": "code",
     "collapsed": false,
     "input": [
      "from numpy import append, linspace\n",
      "mdl = examples.models.branched.text; print mdl\n",
      "m2 = read_model(mdl)\n",
      "\n",
      "times = append(linspace(0.0, 5.0, 500), linspace(5.0, 10.0, 500))\n",
      "\n",
      "solve(m2, tf=10.0, times=times).plot()"
     ],
     "language": "python",
     "metadata": {},
     "outputs": []
    },
    {
     "cell_type": "markdown",
     "metadata": {},
     "source": [
      "###Example 3\n",
      "Calcium spikes: CICR model"
     ]
    },
    {
     "cell_type": "code",
     "collapsed": false,
     "input": [
      "mdl = examples.models.ca.text; print mdl\n",
      "m3 = read_model(mdl)\n",
      "\n",
      "solve(m3, tf=8.0, npoints=2000).plot()"
     ],
     "language": "python",
     "metadata": {},
     "outputs": []
    },
    {
     "cell_type": "markdown",
     "metadata": {},
     "source": [
      "###Example 4\n",
      "Rossler chaotic system"
     ]
    },
    {
     "cell_type": "code",
     "collapsed": false,
     "input": [
      "mdl = examples.models.rossler.text; print mdl\n",
      "m4 = read_model(mdl)\n",
      "\n",
      "s = solve(m4, tf=100.0, npoints=2000, outputs=\"x1 x2 x3\")\n",
      "\n",
      "def transformation(vars, t):\n",
      "    if t > 40.0:\n",
      "        return (vars[0] - 5.0, vars[1], vars[2])\n",
      "    else:\n",
      "        return (-5.0, vars[1], vars[2])\n",
      "\n",
      "s.apply_transf(transformation)\n",
      "\n",
      "s.plot()"
     ],
     "language": "python",
     "metadata": {},
     "outputs": []
    },
    {
     "cell_type": "markdown",
     "metadata": {},
     "source": [
      "###Example 5\n",
      "Lorentz chaotic system: sensitivity to initial conditions"
     ]
    },
    {
     "cell_type": "code",
     "collapsed": false,
     "input": [
      "mdl = examples.models.lorentz.text\n",
      "print mdl\n",
      "m5 = read_model(mdl)\n",
      "\n",
      "s = Solutions(title=m5.metadata['title'])\n",
      "ms = ModelSolver(m5, tf=20.0,\n",
      "                     npoints=20000,\n",
      "                     outputs=\"x\",\n",
      "                     changing_pars=\"init.x\")\n",
      "\n",
      "for stimulus in 1.0, 1.01, 1.02:\n",
      "    s += ms.solve(title='x(0) = %g' % stimulus, par_values=[stimulus])\n",
      "s.plot(group='x')"
     ],
     "language": "python",
     "metadata": {},
     "outputs": []
    },
    {
     "cell_type": "markdown",
     "metadata": {},
     "source": [
      "###Example 6\n",
      "CICR model again: parameter scanning"
     ]
    },
    {
     "cell_type": "code",
     "collapsed": false,
     "input": [
      "m = read_model(\"\"\"\n",
      "title Calcium Spikes\n",
      "v0         = -> Ca, 1\n",
      "v1         = -> Ca, k1*B*step(t, 1.0)\n",
      "k1         = 7.3\n",
      "B          = 0.4\n",
      "export     = Ca ->  , 10 ..\n",
      "leak       = CaComp -> Ca, 1 ..\n",
      "!! Ca\n",
      "v2         = Ca -> CaComp, 65 * Ca**2 / (1+Ca**2)\n",
      "v3         = CaComp -> Ca, 500*CaComp**2/(CaComp**2+4) * Ca**4/(Ca**4 + 0.6561)\n",
      "init       : (Ca = 0.1, CaComp = 0.63655)\"\"\")\n",
      "\n",
      "mpl.rcParams['figure.subplot.hspace']=0.4   #.2\n",
      "s = Solutions()\n",
      "\n",
      "for Bstim in (0.0, 0.1, 0.2, 0.25, 0.28, 0.29, 0.3, 0.35, 0.4, 0.45, 0.5, 0.6, 0.75, 0.8, 0.9, 1.0):\n",
      "    m.parameters.B = Bstim\n",
      "    s+=solve(m, title='$\\\\beta$ = %g' % Bstim, tf=8.0, npoints=1000)\n",
      "\n",
      "s.plot(yrange=(0,1.5), legend=False, fig_size=(13.0,13.0), suptitlegend=\"Dynamics of cytosolic $Ca^{2+}$ as a function of stimulus\")"
     ],
     "language": "python",
     "metadata": {},
     "outputs": []
    },
    {
     "cell_type": "code",
     "collapsed": false,
     "input": [],
     "language": "python",
     "metadata": {},
     "outputs": []
    }
   ],
   "metadata": {}
  }
 ]
}