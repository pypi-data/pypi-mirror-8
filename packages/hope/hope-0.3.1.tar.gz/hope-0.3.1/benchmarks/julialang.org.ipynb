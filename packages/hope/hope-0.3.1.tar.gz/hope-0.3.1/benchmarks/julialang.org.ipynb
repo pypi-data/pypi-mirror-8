{
 "metadata": {
  "name": "",
  "signature": "sha256:c051bb38e42cf275eae33e70f167b93d597a0b19c275048e54ab10ac954d6efe"
 },
 "nbformat": 3,
 "nbformat_minor": 0,
 "worksheets": [
  {
   "cells": [
    {
     "cell_type": "code",
     "collapsed": false,
     "input": [
      "import hope\n",
      "hope.config.optimize = True\n",
      "hope.config.verbose = True\n",
      "hope.config.keeptemp = True\n",
      "import numba\n",
      "import numpy as np\n",
      "from util import perf_comp_data\n",
      "from native_util import load\n",
      "%load_ext cythonmagic\n",
      "%load_ext version_information\n",
      "%version_information numpy, Cython, numba, hope"
     ],
     "language": "python",
     "metadata": {},
     "outputs": [
      {
       "html": [
        "<table><tr><th>Software</th><th>Version</th></tr><tr><td>Python</td><td>2.7.8 (default, Jul 13 2014, 17:11:32) [GCC 4.2.1 Compatible Apple LLVM 5.1 (clang-503.0.40)]</td></tr><tr><td>IPython</td><td>1.1.0</td></tr><tr><td>OS</td><td>posix [darwin]</td></tr><tr><td>numpy</td><td>1.8.1</td></tr><tr><td>Cython</td><td>0.20.2</td></tr><tr><td>numba</td><td>0.13.3</td></tr><tr><td>hope</td><td>0.3.0</td></tr><tr><td colspan='2'>Thu Sep 04 14:19:33 2014 CEST</td></tr></table>"
       ],
       "json": [
        "{\"Software versions\": [{\"version\": \"2.7.8 (default, Jul 13 2014, 17:11:32) [GCC 4.2.1 Compatible Apple LLVM 5.1 (clang-503.0.40)]\", \"module\": \"Python\"}, {\"version\": \"1.1.0\", \"module\": \"IPython\"}, {\"version\": \"posix [darwin]\", \"module\": \"OS\"}, {\"version\": \"1.8.1\", \"module\": \"numpy\"}, {\"version\": \"0.20.2\", \"module\": \"Cython\"}, {\"version\": \"0.13.3\", \"module\": \"numba\"}, {\"version\": \"0.3.0\", \"module\": \"hope\"}]}"
       ],
       "latex": [
        "\\begin{tabular}{|l|l|}\\hline\n",
        "{\\bf Software} & {\\bf Version} \\\\ \\hline\\hline\n",
        "Python & 2.7.8 (default, Jul 13 2014, 17:11:32) [GCC 4.2.1 Compatible Apple LLVM 5.1 (clang-503.0.40)] \\\\ \\hline\n",
        "IPython & 1.1.0 \\\\ \\hline\n",
        "OS & posix [darwin] \\\\ \\hline\n",
        "numpy & 1.8.1 \\\\ \\hline\n",
        "Cython & 0.20.2 \\\\ \\hline\n",
        "numba & 0.13.3 \\\\ \\hline\n",
        "hope & 0.3.0 \\\\ \\hline\n",
        "\\hline \\multicolumn{2}{|l|}{Thu Sep 04 14:19:33 2014 CEST} \\\\ \\hline\n",
        "\\end{tabular}\n"
       ],
       "metadata": {},
       "output_type": "pyout",
       "prompt_number": 1,
       "text": [
        "Software versions\n",
        "Python 2.7.8 (default, Jul 13 2014, 17:11:32) [GCC 4.2.1 Compatible Apple LLVM 5.1 (clang-503.0.40)]\n",
        "IPython 1.1.0\n",
        "OS posix [darwin]\n",
        "numpy 1.8.1\n",
        "Cython 0.20.2\n",
        "numba 0.13.3\n",
        "hope 0.3.0\n",
        "<tr><td colspan='2'>Thu Sep 04 14:19:33 2014 CEST</td></tr>"
       ]
      }
     ],
     "prompt_number": 1
    },
    {
     "cell_type": "heading",
     "level": 1,
     "metadata": {},
     "source": [
      "fibonacci"
     ]
    },
    {
     "cell_type": "code",
     "collapsed": false,
     "input": [
      "def fib(n):\n",
      "    if n<2:\n",
      "        return n\n",
      "    return fib(n-1)+fib(n-2)\n",
      "hope_fib = hope.jit(fib)\n",
      "numba_fib = numba.jit(fib, nopython=False)\n",
      "\n",
      "native_fib_mod = load(\"fib\")\n",
      "native_fib = native_fib_mod.run \n",
      "\n",
      "n=20\n",
      "assert fib(20) == 6765\n",
      "assert hope_fib(20) == 6765\n",
      "assert numba_fib(20) == 6765\n",
      "assert native_fib(20) == 6765"
     ],
     "language": "python",
     "metadata": {},
     "outputs": [
      {
       "output_type": "stream",
       "stream": "stdout",
       "text": [
        "running build_ext\n",
        "building 'fib' extension\n",
        "C compiler: /usr/bin/clang -fno-strict-aliasing -fno-common -dynamic -pipe -Os -fwrapv -DNDEBUG -g -fwrapv -O3 -Wall -Wstrict-prototypes\n",
        "\n",
        "compile options: '-I/Users/jakeret/Library/Python/2.7/lib/python/site-packages/numpy/core/include -I/opt/local/Library/Frameworks/Python.framework/Versions/2.7/include/python2.7 -c'\n",
        "extra options: '-Wall -Wno-unused-variable -march=native -stdlib=libc++ -std=c++11'\n",
        "clang: ././src/fib.cpp\n",
        "/usr/bin/clang++ -bundle -undefined dynamic_lookup -L/opt/local/lib -Wl,-headerpad_max_install_names -L/opt/local/lib/db46 ./src/fib.o -o ./fib.so\n",
        "\n"
       ]
      }
     ],
     "prompt_number": 15
    },
    {
     "cell_type": "code",
     "collapsed": false,
     "input": [
      "%%cython\n",
      "\n",
      "cimport cython\n",
      "\n",
      "@cython.boundscheck(False)\n",
      "@cython.wraparound(False)\n",
      "def cython_fib(int n):\n",
      "    if n<2:\n",
      "        return n\n",
      "    return cython_fib(n-1)+cython_fib(n-2)\n",
      "\n",
      "assert cython_fib(20) == 6765\n"
     ],
     "language": "python",
     "metadata": {},
     "outputs": [],
     "prompt_number": 3
    },
    {
     "cell_type": "code",
     "collapsed": false,
     "input": [
      "%timeit fib(20)\n",
      "%timeit hope_fib(20)\n",
      "%timeit numba_fib(20)\n",
      "%timeit cython_fib(20)\n",
      "%timeit native_fib(20)"
     ],
     "language": "python",
     "metadata": {},
     "outputs": [
      {
       "output_type": "stream",
       "stream": "stdout",
       "text": [
        "100 loops, best of 3: 2.78 ms per loop\n",
        "10000 loops, best of 3: 40.7 \u00b5s per loop"
       ]
      },
      {
       "output_type": "stream",
       "stream": "stdout",
       "text": [
        "\n",
        "100 loops, best of 3: 2.58 ms per loop"
       ]
      },
      {
       "output_type": "stream",
       "stream": "stdout",
       "text": [
        "\n",
        "1000 loops, best of 3: 962 \u00b5s per loop"
       ]
      },
      {
       "output_type": "stream",
       "stream": "stdout",
       "text": [
        "\n",
        "10000 loops, best of 3: 40.9 \u00b5s per loop"
       ]
      },
      {
       "output_type": "stream",
       "stream": "stdout",
       "text": [
        "\n"
       ]
      }
     ],
     "prompt_number": 4
    },
    {
     "cell_type": "code",
     "collapsed": false,
     "input": [
      "perf_comp_data([\"fib\", \"hope_fib\", \"numba_fib\", \"cython_fib\", \"native_fib\"],\n",
      "               5*[\"n\"])"
     ],
     "language": "python",
     "metadata": {},
     "outputs": [
      {
       "output_type": "stream",
       "stream": "stdout",
       "text": [
        "function: hope_fib            , av. time sec:   0.00004005, min. time sec:   0.00003982, relative:       1.0\n",
        "function: native_fib          , av. time sec:   0.00004101, min. time sec:   0.00004005, relative:       1.0\n",
        "function: cython_fib          , av. time sec:   0.00094891, min. time sec:   0.00094414, relative:      23.7\n",
        "function: numba_fib           , av. time sec:   0.00253916, min. time sec:   0.00251102, relative:      63.4\n",
        "function: fib                 , av. time sec:   0.00259495, min. time sec:   0.00257206, relative:      64.8\n"
       ]
      }
     ],
     "prompt_number": 7
    },
    {
     "cell_type": "heading",
     "level": 1,
     "metadata": {},
     "source": [
      "quicksort"
     ]
    },
    {
     "cell_type": "code",
     "collapsed": false,
     "input": [
      "def qsort_kernel(a, lo, hi):\n",
      "    i = lo\n",
      "    j = hi\n",
      "    if False: return a\n",
      "    while i < hi:\n",
      "        pivot = a[(lo+hi) // 2]\n",
      "        while i <= j:\n",
      "            while a[i] < pivot:\n",
      "                i += 1\n",
      "            while a[j] > pivot:\n",
      "                j -= 1\n",
      "            if i <= j:\n",
      "                tmp = a[i]\n",
      "                a[i] = a[j]\n",
      "                a[j] = tmp\n",
      "                i += 1\n",
      "                j -= 1\n",
      "        if lo < j:\n",
      "            qsort_kernel(a, lo, j)\n",
      "        lo = i\n",
      "        j = hi\n",
      "    return a\n",
      "\n",
      "hope_qsort_kernel = hope.jit(qsort_kernel)\n",
      "numba_qsort_kernel = numba.jit(qsort_kernel)\n",
      "\n",
      "native_qsort_kernel_mod = load(\"qsort_kernel\")\n",
      "native_qsort_kernel = native_qsort_kernel_mod.run\n"
     ],
     "language": "python",
     "metadata": {},
     "outputs": [
      {
       "output_type": "stream",
       "stream": "stdout",
       "text": [
        "running build_ext\n",
        "building 'qsort_kernel' extension\n",
        "C compiler: /usr/bin/clang -fno-strict-aliasing -fno-common -dynamic -pipe -Os -fwrapv -DNDEBUG -g -fwrapv -O3 -Wall -Wstrict-prototypes\n",
        "\n",
        "compile options: '-I/Users/jakeret/Library/Python/2.7/lib/python/site-packages/numpy/core/include -I/opt/local/Library/Frameworks/Python.framework/Versions/2.7/include/python2.7 -c'\n",
        "extra options: '-Wall -Wno-unused-variable -march=native -stdlib=libc++ -std=c++11'\n",
        "clang: ././src/qsort_kernel.cpp\n",
        "/usr/bin/clang++ -bundle -undefined dynamic_lookup -L/opt/local/lib -Wl,-headerpad_max_install_names -L/opt/local/lib/db46 ./src/qsort_kernel.o -o ./qsort_kernel.so\n",
        "\n"
       ]
      }
     ],
     "prompt_number": 8
    },
    {
     "cell_type": "code",
     "collapsed": false,
     "input": [
      "def numpy_qsort_kernel(a, lo, hi):\n",
      "    np.sort(a)"
     ],
     "language": "python",
     "metadata": {},
     "outputs": [],
     "prompt_number": 16
    },
    {
     "cell_type": "code",
     "collapsed": false,
     "input": [
      "%%cython\n",
      "\n",
      "cimport cython\n",
      "import numpy as np\n",
      "cimport numpy as np\n",
      "\n",
      "@cython.boundscheck(False)\n",
      "@cython.wraparound(False)\n",
      "def cython_qsort_kernel(np.ndarray[np.double_t, ndim=1] a, int lo, int hi):\n",
      "    cdef int i = lo\n",
      "    cdef int j = hi\n",
      "    cdef double pivot = 0\n",
      "    cdef double tmp = 0.0\n",
      "    if False: return a\n",
      "    while i < hi:\n",
      "        pivot = a[(lo+hi) // 2]\n",
      "        while i <= j:\n",
      "            while a[i] < pivot:\n",
      "                i += 1\n",
      "            while a[j] > pivot:\n",
      "                j -= 1\n",
      "            if i <= j:\n",
      "                tmp = a[i]\n",
      "                a[i] = a[j]\n",
      "                a[j] = tmp\n",
      "                i += 1\n",
      "                j -= 1\n",
      "        if lo < j:\n",
      "            cython_qsort_kernel(a, lo, j)\n",
      "        lo = i\n",
      "        j = hi\n",
      "    return a\n",
      "\n"
     ],
     "language": "python",
     "metadata": {},
     "outputs": [],
     "prompt_number": 17
    },
    {
     "cell_type": "code",
     "collapsed": false,
     "input": [
      "lst = np.random.random(5000)\n"
     ],
     "language": "python",
     "metadata": {},
     "outputs": [],
     "prompt_number": 18
    },
    {
     "cell_type": "code",
     "collapsed": false,
     "input": [
      "psorted = qsort_kernel(lst.copy(), 0, len(lst)-1)\n",
      "hsorted = hope_qsort_kernel(lst.copy(), 0, len(lst)-1)\n",
      "#nsorted = numba_qsort_kernel(lst.copy(), 0, len(lst)-1)\n",
      "csorted = cython_qsort_kernel(lst.copy(), 0, len(lst)-1)\n",
      "nasorted = native_qsort_kernel(lst.copy(), 0, len(lst)-1)\n"
     ],
     "language": "python",
     "metadata": {},
     "outputs": [],
     "prompt_number": 19
    },
    {
     "cell_type": "code",
     "collapsed": false,
     "input": [
      "assert np.all(psorted[:-1] <= psorted[1:])\n",
      "#assert np.all(hope_qsort_kernel[:-1] <= hope_qsort_kernel[1:])\n",
      "#assert np.all(numba_qsort_kernel[:-1] <= numba_qsort_kernel[1:])\n",
      "#assert np.all(cython_qsort_kernel[:-1] <= cython_qsort_kernel[1:])\n",
      "\n",
      "%timeit qsort_kernel(lst.copy(), 0, len(lst)-1)\n",
      "%timeit hope_qsort_kernel(lst.copy(), 0, len(lst)-1)\n",
      "#%timeit numba_qsort_kernel(lst.copy(), 0, len(lst)-1)\n",
      "%timeit cython_qsort_kernel(lst.copy(), 0, len(lst)-1)\n",
      "%timeit native_qsort_kernel(lst.copy(), 0, len(lst)-1)\n",
      "%timeit np.sort(lst.copy())"
     ],
     "language": "python",
     "metadata": {},
     "outputs": [
      {
       "output_type": "stream",
       "stream": "stdout",
       "text": [
        "10 loops, best of 3: 22.4 ms per loop\n",
        "1000 loops, best of 3: 334 \u00b5s per loop"
       ]
      },
      {
       "output_type": "stream",
       "stream": "stdout",
       "text": [
        "\n",
        "1000 loops, best of 3: 1.4 ms per loop"
       ]
      },
      {
       "output_type": "stream",
       "stream": "stdout",
       "text": [
        "\n",
        "1000 loops, best of 3: 303 \u00b5s per loop"
       ]
      },
      {
       "output_type": "stream",
       "stream": "stdout",
       "text": [
        "\n",
        "1000 loops, best of 3: 248 \u00b5s per loop"
       ]
      },
      {
       "output_type": "stream",
       "stream": "stdout",
       "text": [
        "\n"
       ]
      }
     ],
     "prompt_number": 20
    },
    {
     "cell_type": "code",
     "collapsed": false,
     "input": [
      "a = lst.copy()\n",
      "\n",
      "lo = 0\n",
      "hi = len(lst)-1\n",
      "\n",
      "perf_comp_data([\"hope_qsort_kernel\", \n",
      "                \"qsort_kernel\", \n",
      "                #\"numpy_qsort_kernel\", \n",
      "                \"cython_qsort_kernel\", \n",
      "                \"native_qsort_kernel\"],\n",
      "               5*[\"a, lo, hi\"], rep=100, extra_setup=\"from __main__ import lst;a = lst.copy()\")"
     ],
     "language": "python",
     "metadata": {},
     "outputs": [
      {
       "output_type": "stream",
       "stream": "stdout",
       "text": [
        "function: native_qsort_kernel , av. time sec:   0.00029302, min. time sec:   0.00029182, relative:       1.0\n",
        "function: hope_qsort_kernel   , av. time sec:   0.00033617, min. time sec:   0.00033379, relative:       1.1\n",
        "function: cython_qsort_kernel , av. time sec:   0.00143504, min. time sec:   0.00140619, relative:       4.9\n",
        "function: qsort_kernel        , av. time sec:   0.02197444, min. time sec:   0.02172208, relative:      75.0\n"
       ]
      }
     ],
     "prompt_number": 21
    },
    {
     "cell_type": "heading",
     "level": 1,
     "metadata": {},
     "source": [
      "pi sum"
     ]
    },
    {
     "cell_type": "code",
     "collapsed": false,
     "input": [
      "def pisum():\n",
      "    for j in range(1, 501):\n",
      "        sum = 0.0\n",
      "        f = 0.0\n",
      "        for k in range(1, 10001):\n",
      "            sum += 1.0/(k*k)\n",
      "    return sum\n",
      "def pisum_opt():\n",
      "    for j in range(1, 501):\n",
      "        sum = 0.0\n",
      "        f = 0.0\n",
      "        for k in range(1, 10001):\n",
      "            f += 1.\n",
      "            sum += 1.0/(f*f)\n",
      "    return sum\n",
      "\n",
      "hope_pisum = hope.jit(pisum)\n",
      "hope_pisum_opt = hope.jit(pisum_opt)\n",
      "\n",
      "numba_pisum = numba.jit(pisum, nopython=True)\n",
      "numba_pisum_opt = numba.jit(pisum_opt, nopython=True)\n",
      "\n",
      "native_pisum_mod = load(\"pisum\")\n",
      "native_pisum = native_pisum_mod.run\n",
      "\n",
      "native_pisum_opt_mod = load(\"pisum_opt\")\n",
      "native_pisum_opt = native_pisum_opt_mod.run\n",
      "\n",
      "\n",
      "assert abs(pisum()-1.644834071848065) < 1e-6\n",
      "assert abs(hope_pisum()-1.644834071848065) < 1e-6\n",
      "assert abs(hope_pisum_opt()-1.644834071848065) < 1e-6\n",
      "assert abs(numba_pisum()-1.644834071848065) < 1e-6\n",
      "assert abs(native_pisum()-1.644834071848065) < 1e-6\n",
      "assert abs(native_pisum_opt()-1.644834071848065) < 1e-6\n"
     ],
     "language": "python",
     "metadata": {},
     "outputs": [
      {
       "output_type": "stream",
       "stream": "stdout",
       "text": [
        "running build_ext\n",
        "building 'pisum' extension\n",
        "C compiler: /usr/bin/clang -fno-strict-aliasing -fno-common -dynamic -pipe -Os -fwrapv -DNDEBUG -g -fwrapv -O3 -Wall -Wstrict-prototypes\n",
        "\n",
        "compile options: '-I/Users/jakeret/Library/Python/2.7/lib/python/site-packages/numpy/core/include -I/opt/local/Library/Frameworks/Python.framework/Versions/2.7/include/python2.7 -c'\n",
        "extra options: '-Wall -Wno-unused-variable -march=native -stdlib=libc++ -std=c++11'\n",
        "clang: ././src/pisum.cpp\n",
        "/usr/bin/clang++ -bundle -undefined dynamic_lookup -L/opt/local/lib -Wl,-headerpad_max_install_names -L/opt/local/lib/db46 ./src/pisum.o -o ./pisum.so\n",
        "\n"
       ]
      },
      {
       "output_type": "stream",
       "stream": "stdout",
       "text": [
        "running build_ext\n",
        "building 'pisum_opt' extension\n",
        "C compiler: /usr/bin/clang -fno-strict-aliasing -fno-common -dynamic -pipe -Os -fwrapv -DNDEBUG -g -fwrapv -O3 -Wall -Wstrict-prototypes\n",
        "\n",
        "compile options: '-I/Users/jakeret/Library/Python/2.7/lib/python/site-packages/numpy/core/include -I/opt/local/Library/Frameworks/Python.framework/Versions/2.7/include/python2.7 -c'\n",
        "extra options: '-Wall -Wno-unused-variable -march=native -stdlib=libc++ -std=c++11'\n",
        "clang: ././src/pisum_opt.cpp\n",
        "/usr/bin/clang++ -bundle -undefined dynamic_lookup -L/opt/local/lib -Wl,-headerpad_max_install_names -L/opt/local/lib/db46 ./src/pisum_opt.o -o ./pisum_opt.so\n",
        "\n"
       ]
      }
     ],
     "prompt_number": 23
    },
    {
     "cell_type": "code",
     "collapsed": false,
     "input": [
      "%load_ext cythonmagic\n"
     ],
     "language": "python",
     "metadata": {},
     "outputs": [
      {
       "output_type": "stream",
       "stream": "stdout",
       "text": [
        "The cythonmagic extension is already loaded. To reload it, use:\n",
        "  %reload_ext cythonmagic\n"
       ]
      }
     ],
     "prompt_number": 24
    },
    {
     "cell_type": "code",
     "collapsed": false,
     "input": [
      "%%cython\n",
      "\n",
      "cimport cython\n",
      "\n",
      "@cython.boundscheck(False)\n",
      "@cython.wraparound(False)\n",
      "@cython.locals(f=float)\n",
      "def cython_pisum():\n",
      "    cdef double sum = 0.0\n",
      "    for j in range(1, 501):\n",
      "        sum = 0.0\n",
      "        f = 0.0\n",
      "        for k in range(1, 10001):\n",
      "            sum += 1.0/(k*k)\n",
      "    return sum\n",
      "\n",
      "@cython.boundscheck(False)\n",
      "@cython.wraparound(False)\n",
      "@cython.locals(f=float)\n",
      "def cython_pisum_opt():\n",
      "    cdef double sum = 0.0\n",
      "    for j in range(1, 501):\n",
      "        sum = 0.0\n",
      "        f = 0.0\n",
      "        for k in range(1, 10001):\n",
      "            f += 1.\n",
      "            sum += 1.0/(f*f)\n",
      "    return sum\n",
      "\n",
      "\n",
      "assert abs(cython_pisum()-1.644834071848065) < 1e-6\n",
      "assert abs(cython_pisum_opt()-1.644834071848065) < 1e-6"
     ],
     "language": "python",
     "metadata": {},
     "outputs": [],
     "prompt_number": 25
    },
    {
     "cell_type": "code",
     "collapsed": false,
     "input": [
      "%timeit pisum()\n",
      "%timeit pisum_opt()\n",
      "%timeit hope_pisum()\n",
      "%timeit hope_pisum_opt()\n",
      "%timeit numba_pisum()\n",
      "%timeit numba_pisum_opt()\n",
      "%timeit cython_pisum()\n",
      "%timeit cython_pisum_opt()\n",
      "%timeit native_pisum()\n",
      "%timeit native_pisum_opt()"
     ],
     "language": "python",
     "metadata": {},
     "outputs": [
      {
       "output_type": "stream",
       "stream": "stdout",
       "text": [
        "1 loops, best of 3: 493 ms per loop\n",
        "1 loops, best of 3: 641 ms per loop"
       ]
      },
      {
       "output_type": "stream",
       "stream": "stdout",
       "text": [
        "\n",
        "10 loops, best of 3: 21.4 ms per loop"
       ]
      },
      {
       "output_type": "stream",
       "stream": "stdout",
       "text": [
        "\n",
        "10 loops, best of 3: 21.6 ms per loop"
       ]
      },
      {
       "output_type": "stream",
       "stream": "stdout",
       "text": [
        "\n",
        "10 loops, best of 3: 40.8 ms per loop"
       ]
      },
      {
       "output_type": "stream",
       "stream": "stdout",
       "text": [
        "\n",
        "10 loops, best of 3: 21.8 ms per loop"
       ]
      },
      {
       "output_type": "stream",
       "stream": "stdout",
       "text": [
        "\n",
        "1 loops, best of 3: 284 ms per loop"
       ]
      },
      {
       "output_type": "stream",
       "stream": "stdout",
       "text": [
        "\n",
        "10 loops, best of 3: 21.1 ms per loop"
       ]
      },
      {
       "output_type": "stream",
       "stream": "stdout",
       "text": [
        "\n",
        "10 loops, best of 3: 21.1 ms per loop"
       ]
      },
      {
       "output_type": "stream",
       "stream": "stdout",
       "text": [
        "\n",
        "10 loops, best of 3: 21.3 ms per loop"
       ]
      },
      {
       "output_type": "stream",
       "stream": "stdout",
       "text": [
        "\n"
       ]
      }
     ],
     "prompt_number": 26
    },
    {
     "cell_type": "code",
     "collapsed": false,
     "input": [
      "perf_comp_data([\"pisum\", \"pisum_opt\", \n",
      "                \"hope_pisum\", \"hope_pisum_opt\", \n",
      "                \"numba_pisum\", \"numba_pisum_opt\", \n",
      "                #\"cython_pisum\", \n",
      "                \"cython_pisum_opt\",\n",
      "                \"native_pisum\", \"native_pisum_opt\",], \n",
      "               None, rep=100)"
     ],
     "language": "python",
     "metadata": {},
     "outputs": [
      {
       "output_type": "stream",
       "stream": "stdout",
       "text": [
        "function: cython_pisum_opt    , av. time sec:   0.02122343, min. time sec:   0.02094698, relative:       1.0\n",
        "function: native_pisum_opt    , av. time sec:   0.02158451, min. time sec:   0.02108502, relative:       1.0\n",
        "function: native_pisum        , av. time sec:   0.02167845, min. time sec:   0.02090883, relative:       1.0\n",
        "function: numba_pisum_opt     , av. time sec:   0.02173293, min. time sec:   0.02095199, relative:       1.0\n",
        "function: hope_pisum_opt      , av. time sec:   0.02241504, min. time sec:   0.02135611, relative:       1.1\n",
        "function: hope_pisum          , av. time sec:   0.02270293, min. time sec:   0.02136111, relative:       1.1\n",
        "function: numba_pisum         , av. time sec:   0.04188490, min. time sec:   0.04017806, relative:       2.0\n",
        "function: pisum               , av. time sec:   0.49351048, min. time sec:   0.48015594, relative:      23.3\n",
        "function: pisum_opt           , av. time sec:   0.64186037, min. time sec:   0.61331892, relative:      30.2\n"
       ]
      }
     ],
     "prompt_number": 27
    },
    {
     "cell_type": "code",
     "collapsed": false,
     "input": [],
     "language": "python",
     "metadata": {},
     "outputs": [],
     "prompt_number": 17
    }
   ],
   "metadata": {}
  }
 ]
}