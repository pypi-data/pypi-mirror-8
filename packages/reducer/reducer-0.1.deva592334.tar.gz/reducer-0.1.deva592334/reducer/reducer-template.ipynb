{
 "metadata": {
  "name": "",
  "signature": "sha256:7db6c10a8e636bddec5a78dfc30f2774cc9c6a86db2709733a676a3f594266ca"
 },
 "nbformat": 3,
 "nbformat_minor": 0,
 "worksheets": [
  {
   "cells": [
    {
     "cell_type": "heading",
     "level": 2,
     "metadata": {},
     "source": [
      "Reducer: (Put your name here)"
     ]
    },
    {
     "cell_type": "heading",
     "level": 2,
     "metadata": {},
     "source": [
      "Reviewer: (Put your name here)"
     ]
    },
    {
     "cell_type": "heading",
     "level": 1,
     "metadata": {},
     "source": [
      "IPython notebook crash course"
     ]
    },
    {
     "cell_type": "markdown",
     "metadata": {},
     "source": [
      "Click on a code cell (has grey background) then press Shift-Enter (at the same time) to run a code cell. That will add the controls (buttons, etc) you use to do the reduction one-by-one; then use them for reduction."
     ]
    },
    {
     "cell_type": "markdown",
     "metadata": {},
     "source": [
      "# reducer crash course\n",
      "\n",
      "### Rule 0: Run the code cells in order\n",
      "\n",
      "The world won't end if you break this rule, but you are more likely to end up with nonsensical results or errors. Incidentally, welcome to python indexing, which starts numbering at zero.\n",
      "\n",
      "### Rule 1: Do not run this notebook in the directory containing your unreduced data\n",
      "\n",
      "`reducer` will not overwrite anything but the idea is that you will keep a copy of this notebook with your reduced data.\n",
      "\n",
      "### Rule 2: Keep the cells you need, delete the ones you don't\n",
      "\n",
      "IPython notebooks are essentially customizable apps. If you don't shoot dark frames, for example, delete the stuff related to darks.\n",
      "\n",
      "### Rule 3: If you find bugs, please report them\n",
      "\n",
      "You can report bugs, make feature requests or (best of all) submit pull requests from [reducer's home on github](https:github.com/mwcraig/reducer)\n",
      "\n",
      "### Bonus Pro Tip: Feel free to ignore the code in the code cells\n",
      "\n",
      "Code is there so that people who know python can see what is going on, but if you don't know python you should still be able to use the notebook. Just remember to Shift-Enter on each code cell to run it, then fill in the form(s) that appear in the notebook.\n"
     ]
    },
    {
     "cell_type": "code",
     "collapsed": false,
     "input": [
      "from __future__ import division\n",
      "\n",
      "%matplotlib inline\n",
      "\n",
      "from IPython.html import widgets\n",
      "from IPython.display import display\n",
      "\n",
      "import numpy as np\n",
      "\n",
      "import reducer.gui\n",
      "import reducer.controller\n",
      "import msumastro\n",
      "\n",
      "from reducer import __version__\n",
      "print __version__"
     ],
     "language": "python",
     "metadata": {},
     "outputs": []
    },
    {
     "cell_type": "markdown",
     "metadata": {},
     "source": [
      "# Enter name of directory that contains your data in the cell below, or...\n",
      "\n",
      "### ...leave it unchanged to try out reducer with low-resolution dataset\n",
      "\n",
      "That low-resolution dataset will expand to about 300MB when uncompressed\n"
     ]
    },
    {
     "cell_type": "code",
     "collapsed": false,
     "input": [
      "data_dir = reducer.notebook_dir.get_data_path()\n",
      "destination_dir = '.'"
     ],
     "language": "python",
     "metadata": {},
     "outputs": []
    },
    {
     "cell_type": "markdown",
     "metadata": {},
     "source": [
      "## Type any comments about this dataset here\n",
      "\n",
      "Double-click on the cell to start editing it."
     ]
    },
    {
     "cell_type": "heading",
     "level": 1,
     "metadata": {},
     "source": [
      "Load your data set"
     ]
    },
    {
     "cell_type": "code",
     "collapsed": false,
     "input": [
      "load_container = reducer.gui.LoadContainer()\n",
      "load_container.button.description = 'Load image info'\n",
      "\n",
      "# The function definition below ties the button click to the \n",
      "# variable that contains the image metadata.\n",
      "def on_click(b):\n",
      "    load_container.start_progress()\n",
      "    if data_dir:\n",
      "        load_container.images = msumastro.ImageFileCollection(location=data_dir, keywords='*')\n",
      "    elif image_meta:\n",
      "        load_container.images = msumastro.ImageFileCollection(info_file=image_meta)\n",
      "    load_container.end_progress()\n",
      "\n",
      "load_container.button.on_click(on_click)\n",
      "load_container.display()"
     ],
     "language": "python",
     "metadata": {},
     "outputs": []
    },
    {
     "cell_type": "code",
     "collapsed": false,
     "input": [
      "images = load_container.images\n",
      "tt = msumastro.TableTree(images.summary_info, ['imagetyp', 'exposure'], 'file')"
     ],
     "language": "python",
     "metadata": {},
     "outputs": []
    },
    {
     "cell_type": "markdown",
     "metadata": {},
     "source": [
      "# Image Summary\n",
      "\n",
      "## Includes browser and image/metadata viewer\n",
      "\n",
      "This is not, strictly speaking, part of reduction, but is a handy way to take a quick look at your files."
     ]
    },
    {
     "cell_type": "code",
     "collapsed": false,
     "input": [
      "fits_browser = reducer.gui.ImageBrowserWidget(tt, demo=False, directory=data_dir)\n",
      "fits_browser.display()\n",
      "fits_browser.set_css('padding', '10px')"
     ],
     "language": "python",
     "metadata": {},
     "outputs": []
    },
    {
     "cell_type": "markdown",
     "metadata": {},
     "source": [
      "### You can reconfigure the image browser if you want (or not)\n",
      "\n",
      "By passing different keys into the tree constructor you can generate a navigable tree based on any keys you want."
     ]
    },
    {
     "cell_type": "code",
     "collapsed": false,
     "input": [
      "tt2 = msumastro.TableTree(images.summary_info, ['filter', 'imagetyp', 'exposure'], 'file')\n",
      "im_a_tree_too = reducer.gui.ImageBrowserWidget(tt2, demo=False, directory=data_dir)\n",
      "im_a_tree_too.display()"
     ],
     "language": "python",
     "metadata": {},
     "outputs": []
    },
    {
     "cell_type": "heading",
     "level": 1,
     "metadata": {},
     "source": [
      "Make a master bias image"
     ]
    },
    {
     "cell_type": "heading",
     "level": 2,
     "metadata": {},
     "source": [
      "Reduce the bias images"
     ]
    },
    {
     "cell_type": "code",
     "collapsed": false,
     "input": [
      "bias_reduction = reducer.controller.ReductionWidget(description='Reduce bias frames',\n",
      "                                                    toggle_type='button',\n",
      "                                                    allow_bias=False,\n",
      "                                                    allow_dark=False,\n",
      "                                                    allow_flat=False,\n",
      "                                                    input_image_collection=images,\n",
      "                                                    apply_to={'imagetyp': 'bias'},\n",
      "                                                    destination=destination_dir)\n",
      "bias_reduction.display()"
     ],
     "language": "python",
     "metadata": {},
     "outputs": []
    },
    {
     "cell_type": "markdown",
     "metadata": {},
     "source": [
      "## Combine bias images to make master bias"
     ]
    },
    {
     "cell_type": "code",
     "collapsed": false,
     "input": [
      "reduced_collection = msumastro.ImageFileCollection(location=destination_dir, keywords='*')\n",
      "bias_settings = reducer.controller.CombinerWidget(description=\"Master Bias Settings\",\n",
      "                                                  toggle_type='button',\n",
      "                                                  file_name_base='master_bias',\n",
      "                                                  image_source=reduced_collection,\n",
      "                                                  apply_to={'imagetyp': 'bias'},\n",
      "                                                  destination=destination_dir)\n",
      "bias_settings.display()"
     ],
     "language": "python",
     "metadata": {},
     "outputs": []
    },
    {
     "cell_type": "heading",
     "level": 1,
     "metadata": {},
     "source": [
      "Make a master dark"
     ]
    },
    {
     "cell_type": "markdown",
     "metadata": {},
     "source": [
      "## Reduce dark images"
     ]
    },
    {
     "cell_type": "code",
     "collapsed": false,
     "input": [
      "reduced_collection = msumastro.ImageFileCollection(location=destination_dir, keywords='*')\n",
      "dark_reduction = reducer.controller.ReductionWidget(description='Reduce dark frames',\n",
      "                                                      toggle_type='button',\n",
      "                                                      allow_bias=True,\n",
      "                                                      master_source=reduced_collection,\n",
      "                                                      allow_dark=False,\n",
      "                                                      allow_flat=False,\n",
      "                                                      input_image_collection=images,\n",
      "                                                      destination=destination_dir,\n",
      "                                                      apply_to={'imagetyp': 'dark'})\n",
      "\n",
      "dark_reduction.display()"
     ],
     "language": "python",
     "metadata": {},
     "outputs": []
    },
    {
     "cell_type": "markdown",
     "metadata": {},
     "source": [
      "## Combine reduced darks to make master(s)\n",
      "\n",
      "Note the ``Group by`` option in the controls that appear after you execute the cell below. `reducer` will make a master for each value of the FITS keyword listed in ``Group by``. By default this keyword is named ``exposure`` for darks, so if you have darks with exposure times of 10 sec, 15 sec and 120 sec you will get three master darks, one for each exposure time."
     ]
    },
    {
     "cell_type": "code",
     "collapsed": false,
     "input": [
      "reduced_collection = msumastro.ImageFileCollection(location=destination_dir, keywords='*')\n",
      "\n",
      "dark = reducer.controller.CombinerWidget(description=\"Make Master Dark\",\n",
      "                                         toggle_type='button',\n",
      "                                         file_name_base='master_dark',\n",
      "                                         group_by='exposure',\n",
      "                                        image_source=reduced_collection,\n",
      "                                        apply_to={'imagetyp': 'dark'},\n",
      "                                        destination=destination_dir)\n",
      "dark.display()"
     ],
     "language": "python",
     "metadata": {},
     "outputs": []
    },
    {
     "cell_type": "heading",
     "level": 1,
     "metadata": {},
     "source": [
      "Make master flats"
     ]
    },
    {
     "cell_type": "heading",
     "level": 2,
     "metadata": {},
     "source": [
      "Reduce flat images"
     ]
    },
    {
     "cell_type": "code",
     "collapsed": false,
     "input": [
      "reduced_collection = msumastro.ImageFileCollection(location=destination_dir, keywords='*')\n",
      "flat_reduction = reducer.controller.ReductionWidget(description='Reduce flat frames',\n",
      "                                                      toggle_type='button',\n",
      "                                                      allow_bias=True,\n",
      "                                                      master_source=reduced_collection,\n",
      "                                                      allow_dark=True,\n",
      "                                                      allow_flat=False,\n",
      "                                                      input_image_collection=images,\n",
      "                                                      destination=destination_dir,\n",
      "                                                      apply_to={'imagetyp': 'flat'})\n",
      "\n",
      "flat_reduction.display()"
     ],
     "language": "python",
     "metadata": {},
     "outputs": []
    },
    {
     "cell_type": "markdown",
     "metadata": {},
     "source": [
      "## Build masters by combining\n",
      "\n",
      "Again, note the presence of ``Group by``. If you typically use twilight flats you will almost certainly want to group by filter, not by filter and exposure."
     ]
    },
    {
     "cell_type": "code",
     "collapsed": false,
     "input": [
      "reduced_collection = msumastro.ImageFileCollection(location=destination_dir, keywords='*')\n",
      "\n",
      "flat = reducer.controller.CombinerWidget(description=\"Make Master Flat\",\n",
      "                                         toggle_type='button',\n",
      "                                         file_name_base='master_flat',\n",
      "                                         group_by='exposure, filter',\n",
      "                                        image_source=reduced_collection,\n",
      "                                        apply_to={'imagetyp': 'flat'},\n",
      "                                        destination=destination_dir)\n",
      "flat.display()"
     ],
     "language": "python",
     "metadata": {},
     "outputs": []
    },
    {
     "cell_type": "markdown",
     "metadata": {},
     "source": [
      "# Reduce the science images\n",
      "\n",
      "There is some autmatic matching going on here:\n",
      "\n",
      "+ If darks are subtracted a dark of the same edxposure time will be used, if available. If not, and dark scaling is enabled, the dark with the closest exposure time will be scaled to match the science image.\n",
      "+ If the dark you want to scale appears not to be bias-subtracted an error will be raised.\n",
      "+ Flats are matched by filter."
     ]
    },
    {
     "cell_type": "code",
     "collapsed": false,
     "input": [
      "reduced_collection = msumastro.ImageFileCollection(location=destination_dir, keywords='*')\n",
      "light_reduction = reducer.controller.ReductionWidget(description='Reduce light frames',\n",
      "                                                      toggle_type='button',\n",
      "                                                      allow_bias=True,\n",
      "                                                      master_source=reduced_collection,\n",
      "                                                      allow_dark=True,\n",
      "                                                      allow_flat=True,\n",
      "                                                      input_image_collection=images,\n",
      "                                                      destination=destination_dir,\n",
      "                                                      apply_to={'imagetyp': 'light'})\n",
      "\n",
      "light_reduction.display()"
     ],
     "language": "python",
     "metadata": {},
     "outputs": []
    },
    {
     "cell_type": "markdown",
     "metadata": {},
     "source": [
      "## Wonder what the reduced images look like? Make another image browser..."
     ]
    },
    {
     "cell_type": "code",
     "collapsed": false,
     "input": [
      "reduced_collection = msumastro.ImageFileCollection(location=destination_dir, keywords='*')"
     ],
     "language": "python",
     "metadata": {},
     "outputs": []
    },
    {
     "cell_type": "code",
     "collapsed": false,
     "input": [
      "tt3 = msumastro.TableTree(reduced_collection.summary_info, ['imagetyp', 'exposure'], 'file')\n",
      "fits_browser = reducer.gui.ImageBrowserWidget(tt3, demo=False, directory=reduced_collection.location)\n",
      "fits_browser.display()"
     ],
     "language": "python",
     "metadata": {},
     "outputs": []
    }
   ],
   "metadata": {}
  }
 ]
}