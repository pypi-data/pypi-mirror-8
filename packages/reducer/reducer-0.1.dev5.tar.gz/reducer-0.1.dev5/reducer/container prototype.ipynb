{
 "metadata": {
  "name": "",
  "signature": "sha256:ae54addcd1ee9eaf2f832a952670ebe80d0c91f2539f6db017e19ace4b0bb5ea"
 },
 "nbformat": 3,
 "nbformat_minor": 0,
 "worksheets": [
  {
   "cells": [
    {
     "cell_type": "code",
     "collapsed": false,
     "input": [
      "from IPython.html import widgets\n",
      "from IPython.display import display"
     ],
     "language": "python",
     "metadata": {},
     "outputs": [],
     "prompt_number": 17
    },
    {
     "cell_type": "code",
     "collapsed": false,
     "input": [
      "top = widgets.ContainerWidget(description=\"Combiner container\")"
     ],
     "language": "python",
     "metadata": {},
     "outputs": [],
     "prompt_number": 18
    },
    {
     "cell_type": "code",
     "collapsed": false,
     "input": [
      "clipping = widgets.ContainerWidget(description=\"Clipping control\")\n",
      "combining = widgets.ContainerWidget(description=\"Combining settings\")"
     ],
     "language": "python",
     "metadata": {},
     "outputs": [],
     "prompt_number": 19
    },
    {
     "cell_type": "code",
     "collapsed": false,
     "input": [
      "control_clipping = widgets.CheckboxWidget(value=False, description=\"Clip images?\")\n",
      "clipping_settings = widgets.ContainerWidget(description=\"Clipping settings\", visible=False)\n",
      "clipping.children = [control_clipping, clipping_settings]\n",
      "placeholder = widgets.LatexWidget(value=\"Hello\")\n",
      "clipping_settings.children = [placeholder]\n",
      "\n",
      "def on_clipping_toggle(name, value):\n",
      "    clipping_settings.visible = value\n",
      "    \n",
      "control_clipping.on_trait_change(on_clipping_toggle, 'value')"
     ],
     "language": "python",
     "metadata": {},
     "outputs": [],
     "prompt_number": 20
    },
    {
     "cell_type": "code",
     "collapsed": false,
     "input": [
      "top.children = [clipping, combining]"
     ],
     "language": "python",
     "metadata": {},
     "outputs": [],
     "prompt_number": 21
    },
    {
     "cell_type": "code",
     "collapsed": false,
     "input": [
      "display(top)"
     ],
     "language": "python",
     "metadata": {},
     "outputs": [],
     "prompt_number": 22
    },
    {
     "cell_type": "code",
     "collapsed": false,
     "input": [
      "class ToggleContainerWidget(widgets.ContainerWidget):\n",
      "    \"\"\"\n",
      "    A widget whose state controls the visibility of its chilren.\n",
      "    \"\"\"\n",
      "    def __init__(self, *args, **kwd):\n",
      "        super(ToggleContainerWidget, self).__init__(*args, **kwd)\n",
      "        self._checkbox = widgets.CheckboxWidget(description=self.description)\n",
      "        self._container = widgets.ContainerWidget(description=\"Toggle-able conatiner\")\n",
      "        self.children = [self._checkbox, self._container]\n",
      "        self._container.on_trait_change(self._link_children, '_children')\n",
      "\n",
      "    @property\n",
      "    def container(self):\n",
      "        return self._container\n",
      "\n",
      "    def _link_children(self):\n",
      "        from IPython.utils.traitlets import link\n",
      "        child_tuples = [(child, 'visible') for child in self._container.children]\n",
      "        if child_tuples:\n",
      "            child_tuples.insert(0, (self._checkbox, 'value'))\n",
      "            link(*child_tuples)\n",
      "\n",
      "    \n",
      "    "
     ],
     "language": "python",
     "metadata": {},
     "outputs": [],
     "prompt_number": 23
    },
    {
     "cell_type": "code",
     "collapsed": false,
     "input": [
      "a = [1,2,3]"
     ],
     "language": "python",
     "metadata": {},
     "outputs": [],
     "prompt_number": 24
    },
    {
     "cell_type": "code",
     "collapsed": false,
     "input": [
      "a.insert(0, 4)"
     ],
     "language": "python",
     "metadata": {},
     "outputs": [],
     "prompt_number": 25
    },
    {
     "cell_type": "code",
     "collapsed": false,
     "input": [
      "a"
     ],
     "language": "python",
     "metadata": {},
     "outputs": [
      {
       "metadata": {},
       "output_type": "pyout",
       "prompt_number": 26,
       "text": [
        "[4, 1, 2, 3]"
       ]
      }
     ],
     "prompt_number": 26
    },
    {
     "cell_type": "code",
     "collapsed": false,
     "input": [
      "control_clipping.keys"
     ],
     "language": "python",
     "metadata": {},
     "outputs": [
      {
       "metadata": {},
       "output_type": "pyout",
       "prompt_number": 27,
       "text": [
        "['_view_name',\n",
        " 'description',\n",
        " 'msg_throttle',\n",
        " '_css',\n",
        " 'value',\n",
        " 'disabled',\n",
        " 'visible']"
       ]
      }
     ],
     "prompt_number": 27
    },
    {
     "cell_type": "code",
     "collapsed": false,
     "input": [
      "foob = ToggleContainerWidget(description=\"I am tricky\")"
     ],
     "language": "python",
     "metadata": {},
     "outputs": [],
     "prompt_number": 28
    },
    {
     "cell_type": "code",
     "collapsed": false,
     "input": [
      "display(foob)"
     ],
     "language": "python",
     "metadata": {},
     "outputs": [],
     "prompt_number": 29
    },
    {
     "cell_type": "code",
     "collapsed": false,
     "input": [
      "top.keys"
     ],
     "language": "python",
     "metadata": {},
     "outputs": [
      {
       "metadata": {},
       "output_type": "pyout",
       "prompt_number": 30,
       "text": [
        "['_view_name', 'visible', '_css', 'msg_throttle', '_children']"
       ]
      }
     ],
     "prompt_number": 30
    },
    {
     "cell_type": "code",
     "collapsed": false,
     "input": [
      "foob.container.children = [placeholder, top]"
     ],
     "language": "python",
     "metadata": {},
     "outputs": [],
     "prompt_number": 31
    },
    {
     "cell_type": "code",
     "collapsed": false,
     "input": [
      "gop = [child for child in foob.container.children]\n",
      "gop"
     ],
     "language": "python",
     "metadata": {},
     "outputs": [
      {
       "metadata": {},
       "output_type": "pyout",
       "prompt_number": 32,
       "text": [
        "[<IPython.html.widgets.widget_string.LatexWidget at 0x106548d90>,\n",
        " <IPython.html.widgets.widget_container.ContainerWidget at 0x106548a90>]"
       ]
      }
     ],
     "prompt_number": 32
    },
    {
     "cell_type": "code",
     "collapsed": false,
     "input": [
      "foob.keys"
     ],
     "language": "python",
     "metadata": {},
     "outputs": [
      {
       "metadata": {},
       "output_type": "pyout",
       "prompt_number": 33,
       "text": [
        "['_view_name', 'visible', '_css', 'msg_throttle', '_children']"
       ]
      }
     ],
     "prompt_number": 33
    },
    {
     "cell_type": "code",
     "collapsed": false,
     "input": [],
     "language": "python",
     "metadata": {},
     "outputs": []
    }
   ],
   "metadata": {}
  }
 ]
}