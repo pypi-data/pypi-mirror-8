{
 "metadata": {
  "name": "",
  "signature": "sha256:21e7e39fd68bc62698e004a03e790d0e62fd006c1fd9ee2f597bb377f9c71e24"
 },
 "nbformat": 3,
 "nbformat_minor": 0,
 "worksheets": [
  {
   "cells": [
    {
     "cell_type": "code",
     "collapsed": false,
     "input": [
      "from __future__ import division\n",
      "\n",
      "%matplotlib inline\n",
      "\n",
      "from IPython.html import widgets\n",
      "from IPython.display import display\n",
      "from IPython.utils.traitlets import link\n",
      "\n",
      "import numpy as np\n",
      "\n",
      "import reducer.gui"
     ],
     "language": "python",
     "metadata": {},
     "outputs": [],
     "prompt_number": 12
    },
    {
     "cell_type": "code",
     "collapsed": false,
     "input": [
      "class ToggleListenerWidget(reducer.gui.ToggleContainerWidget):\n",
      "    def __init__(self, *args, **kwd):\n",
      "        super(ToggleListenerWidget, self).__init__(*args, **kwd)\n",
      "        self._state_monitor = widgets.CheckboxWidget(visible=False)\n",
      "        current_kids = list(self.children)\n",
      "        current_kids.append(self._state_monitor)\n",
      "        # Go button won't go into ToggleContainer\n",
      "        self._go_button = widgets.ButtonWidget(disabled=True, \n",
      "                                               description=\"Go\")\n",
      "        current_kids.append(self._go_button)\n",
      "        self.children = current_kids\n",
      "\n",
      "        link((self._go_button, 'disabled'), (self._state_monitor, 'value'))\n",
      "        self.add_child(widgets.CheckboxWidget(description=\"Moo\"))\n",
      "        self.add_child(widgets.CheckboxWidget(description=\"Cow\"))\n",
      "        self._child_notify_parent_on_change(self.toggle)\n",
      "        \n",
      "    def add_child(self, child):\n",
      "        super(ToggleListenerWidget, self).add_child(child)\n",
      "        self._child_notify_parent_on_change(child)\n",
      "\n",
      "    #DROP METHOD BELOW\n",
      "    def _set_parent(self):\n",
      "        for child in self.container.children:\n",
      "            child.parent = self\n",
      "    \n",
      "    def _child_notify_parent_on_change(self, child):\n",
      "        child.on_trait_change(self._ping_handler(), 'value')\n",
      "        #self.toggle.on_trait_change(self._ping_handler(), 'value')\n",
      "\n",
      "    def _ping_handler(self):\n",
      "        def flip_state():\n",
      "            print \"Moo\"\n",
      "            self._state_monitor.value = not self._state_monitor.value\n",
      "        return flip_state\n",
      "\n",
      "\n",
      "    "
     ],
     "language": "python",
     "metadata": {},
     "outputs": [],
     "prompt_number": 13
    },
    {
     "cell_type": "code",
     "collapsed": false,
     "input": [
      "foo = ToggleListenerWidget(description=\"yep\")\n",
      "display(foo)"
     ],
     "language": "python",
     "metadata": {},
     "outputs": [],
     "prompt_number": 14
    },
    {
     "cell_type": "code",
     "collapsed": false,
     "input": [],
     "language": "python",
     "metadata": {},
     "outputs": [],
     "prompt_number": 14
    },
    {
     "cell_type": "code",
     "collapsed": false,
     "input": [
      "foo.disabled = False"
     ],
     "language": "python",
     "metadata": {},
     "outputs": [],
     "prompt_number": 15
    },
    {
     "cell_type": "code",
     "collapsed": false,
     "input": [
      "foo.toggle.value = False"
     ],
     "language": "python",
     "metadata": {},
     "outputs": [],
     "prompt_number": 16
    },
    {
     "cell_type": "code",
     "collapsed": false,
     "input": [
      "foo.toggle.disabled"
     ],
     "language": "python",
     "metadata": {},
     "outputs": [
      {
       "metadata": {},
       "output_type": "pyout",
       "prompt_number": 17,
       "text": [
        "False"
       ]
      }
     ],
     "prompt_number": 17
    },
    {
     "cell_type": "code",
     "collapsed": false,
     "input": [
      "gobmok = widgets.ContainerWidget()"
     ],
     "language": "python",
     "metadata": {},
     "outputs": [],
     "prompt_number": 18
    },
    {
     "cell_type": "code",
     "collapsed": false,
     "input": [
      "gobmok.visible"
     ],
     "language": "python",
     "metadata": {},
     "outputs": [
      {
       "metadata": {},
       "output_type": "pyout",
       "prompt_number": 19,
       "text": [
        "True"
       ]
      }
     ],
     "prompt_number": 19
    },
    {
     "cell_type": "code",
     "collapsed": false,
     "input": [
      "    @property\n",
      "    def disabled(self):\n",
      "        return self._state_monitor.disabled\n",
      "    \n",
      "    @disabled.setter\n",
      "    def disabled(self, value):\n",
      "        # someday test for boolean in here....\n",
      "        self._state_monitor.disabled = value\n",
      "        self.toggle.disabled = value\n",
      "        for child in self.container.children:\n",
      "            child.disabled = value"
     ],
     "language": "python",
     "metadata": {},
     "outputs": [],
     "prompt_number": 20
    }
   ],
   "metadata": {}
  }
 ]
}