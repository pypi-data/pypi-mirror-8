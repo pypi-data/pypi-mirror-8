{
 "metadata": {
  "name": "",
  "signature": "sha256:ef71f9d534bee82416f181d3cd3ace56955966dc09b33a74e34366dfe740c716"
 },
 "nbformat": 3,
 "nbformat_minor": 0,
 "worksheets": [
  {
   "cells": [
    {
     "cell_type": "heading",
     "level": 1,
     "metadata": {
      "internals": {
       "slide_type": "subslide"
      },
      "slideshow": {
       "slide_type": "slide"
      }
     },
     "source": [
      "IPython notebook crash course"
     ]
    },
    {
     "cell_type": "markdown",
     "metadata": {
      "internals": {},
      "slideshow": {
       "slide_type": "-"
      }
     },
     "source": [
      "Two options, take your pick (**option 2 is better for prototyping**):\n",
      "\n",
      "1. Click on a code cell (has grey backgroun) then press Shift-Enter (at the same time) to run a code cell. That will add the controls (buttons, etc) you use to do the reduction one-by-one; then use them for reduction.\n",
      "2. Choose ``Cell -> Run All`` from the menu above to run all of the code, then use the controls (buttons, etc) to do your reduction."
     ]
    },
    {
     "cell_type": "code",
     "collapsed": false,
     "input": [
      "from __future__ import division\n",
      "\n",
      "%matplotlib inline\n",
      "\n",
      "from IPython.html import widgets\n",
      "from IPython.display import display\n",
      "\n",
      "import numpy as np\n",
      "\n",
      "import reducer.gui\n",
      "# import ccdproc\n",
      "# import photutils\n",
      "# from astropy import units as u\n",
      "import msumastro"
     ],
     "language": "python",
     "metadata": {
      "internals": {
       "slide_helper": "subslide_end"
      },
      "slide_helper": "slide_end",
      "slideshow": {
       "slide_type": "-"
      }
     },
     "outputs": [],
     "prompt_number": 1
    },
    {
     "cell_type": "markdown",
     "metadata": {
      "internals": {
       "slide_type": "subslide"
      },
      "slideshow": {
       "slide_type": "slide"
      }
     },
     "source": [
      "# Enter name of directory that contains your data:\n",
      "\n",
      "## Note: this is currently ignored"
     ]
    },
    {
     "cell_type": "code",
     "collapsed": false,
     "input": [
      "data_dir = 'put/your/data/directory/here'  # note -- this is ignored for now!"
     ],
     "language": "python",
     "metadata": {
      "internals": {},
      "slideshow": {
       "slide_type": "-"
      }
     },
     "outputs": [],
     "prompt_number": 2
    },
    {
     "cell_type": "markdown",
     "metadata": {
      "internals": {},
      "slideshow": {
       "slide_type": "-"
      }
     },
     "source": [
      "## Type any comments about this dataset here\n",
      "\n",
      "Double-click on the cell to start editing it."
     ]
    },
    {
     "cell_type": "heading",
     "level": 4,
     "metadata": {
      "internals": {},
      "slideshow": {
       "slide_type": "-"
      }
     },
     "source": [
      "Cell below would normally contain the code to generate a summary of the image metadata. For now it points to a table summarizing the metadata of an example directory."
     ]
    },
    {
     "cell_type": "code",
     "collapsed": false,
     "input": [
      "import os\n",
      "image_meta = os.path.join(reducer.notebook_dir.get_data_path(), 'image_metadata.csv')\n",
      "images = msumastro.ImageFileCollection(info_file=image_meta)\n",
      "tt = msumastro.TableTree(images.summary_info, ['imagetyp', 'exposure'], 'file')\n"
     ],
     "language": "python",
     "metadata": {
      "internals": {
       "slide_helper": "subslide_end"
      },
      "slide_helper": "slide_end",
      "slideshow": {
       "slide_type": "-"
      }
     },
     "outputs": [],
     "prompt_number": 3
    },
    {
     "cell_type": "code",
     "collapsed": false,
     "input": [],
     "language": "python",
     "metadata": {},
     "outputs": []
    },
    {
     "cell_type": "markdown",
     "metadata": {},
     "source": []
    },
    {
     "cell_type": "heading",
     "level": 1,
     "metadata": {
      "internals": {
       "slide_type": "subslide"
      },
      "slideshow": {
       "slide_type": "slide"
      }
     },
     "source": [
      "Load your data set"
     ]
    },
    {
     "cell_type": "code",
     "collapsed": false,
     "input": [
      "load_container = reducer.gui.LoadContainer()\n",
      "display(load_container.load_container)"
     ],
     "language": "python",
     "metadata": {
      "internals": {},
      "slideshow": {
       "slide_type": "-"
      }
     },
     "outputs": [],
     "prompt_number": 4
    },
    {
     "cell_type": "markdown",
     "metadata": {
      "internals": {},
      "slideshow": {
       "slide_type": "-"
      }
     },
     "source": [
      "# Several options for summarizing image information are below...\n",
      "\n",
      "...please take a look and [let me know](https://github.com/mwcraig/reducer/issues) which you like best."
     ]
    },
    {
     "cell_type": "markdown",
     "metadata": {
      "internals": {},
      "slideshow": {
       "slide_type": "-"
      }
     },
     "source": [
      "# Image summary -- option 1"
     ]
    },
    {
     "cell_type": "code",
     "collapsed": true,
     "input": [
      "image_summary = reducer.gui.ImageSummary1()\n",
      "display(image_summary.image_summary)\n",
      "image_summary.set_tab_names()"
     ],
     "language": "python",
     "metadata": {
      "internals": {},
      "slideshow": {
       "slide_type": "-"
      }
     },
     "outputs": [],
     "prompt_number": 5
    },
    {
     "cell_type": "markdown",
     "metadata": {
      "internals": {},
      "slideshow": {
       "slide_type": "-"
      }
     },
     "source": [
      "# Image Summary -- option 2"
     ]
    },
    {
     "cell_type": "code",
     "collapsed": false,
     "input": [
      "top_accordian = widgets.AccordionWidget(description='top-level container')\n",
      "top_accordian.children = []\n",
      "id_string = lambda s: '/'.join([str(i) for i in s]) if s else '/'\n",
      "gui_ids = {}\n",
      "gui_objects = {}\n",
      "parent_id = top_accordian.model_id\n",
      "gui_ids[id_string('')] = top_accordian.model_id\n",
      "gui_objects[id_string('')] = top_accordian\n",
      "for parents, children, index in tt.walk():\n",
      "    if children and index:\n",
      "        raise RuntimeError(\"What the ???\")\n",
      "\n",
      "    parent_string = id_string(parents)\n",
      "    # Do I have a children? If so, add them as tabs\n",
      "    if children:\n",
      "        new_container = widgets.ContainerWidget()\n",
      "        new_tabs = widgets.TabWidget(description=parent_string)\n",
      "        tab_label = widgets.LatexWidget()\n",
      "        depth = len(parents)\n",
      "        tab_label.value = tt.tree_keys[depth]\n",
      "        new_container.children = [tab_label, new_tabs]\n",
      "        gui_objects[parent_string].children = [new_container]\n",
      "        gui_ids[parent_string] = new_tabs.model_id\n",
      "        gui_objects[parent_string] = new_tabs\n",
      "        child_objects = []\n",
      "        for child in children:\n",
      "            child_list = list(parents)\n",
      "            child_list.append(str(child))\n",
      "            child_string = id_string(child_list)\n",
      "            child_container = widgets.ContainerWidget(description=str(child))\n",
      "            gui_ids[child_string] = child_container.model_id\n",
      "            gui_objects[child_string] = child_container\n",
      "            child_objects.append(child_container)\n",
      "        new_tabs.children = child_objects\n",
      "\n",
      "    # Do I have only a list? Populate a select box with those...\n",
      "    if index:\n",
      "        new_text = widgets.SelectWidget(values=index)\n",
      "        gui_objects[parent_string].children = [new_text]\n",
      "        \n",
      "\n",
      "display(top_accordian)\n",
      "top_accordian.set_css({'width': '100%'})\n",
      "top_accordian.set_title(0, 'Show/Hide file list')\n",
      "for obj in gui_objects.itervalues():\n",
      "    if isinstance(obj, widgets.TabWidget):\n",
      "        for idx, child in enumerate(obj.children):\n",
      "            obj.set_title(idx, child.description)\n",
      "        obj.set_css({'width': '100%',})\n",
      "        obj.add_class('well')"
     ],
     "language": "python",
     "metadata": {
      "internals": {},
      "slideshow": {
       "slide_type": "-"
      }
     },
     "outputs": [],
     "prompt_number": 6
    },
    {
     "cell_type": "markdown",
     "metadata": {
      "internals": {},
      "slideshow": {
       "slide_type": "-"
      }
     },
     "source": [
      "# Image Summary -- option 3 (aka best for last)\n",
      "\n",
      "This will (soon) have an image displaying whatever image is selected in the right half of the display area below this cell."
     ]
    },
    {
     "cell_type": "code",
     "collapsed": false,
     "input": [
      "fits_browser = reducer.gui.ImageBrowserWidget(tt)\n",
      "fits_browser.display()\n",
      "fits_browser.set_css('padding', '10px')"
     ],
     "language": "python",
     "metadata": {
      "internals": {},
      "slideshow": {
       "slide_type": "-"
      }
     },
     "outputs": [],
     "prompt_number": 7
    },
    {
     "cell_type": "markdown",
     "metadata": {
      "internals": {},
      "slideshow": {
       "slide_type": "-"
      }
     },
     "source": [
      "# More fun with option 3\n",
      "\n",
      "By passing different keys into the tree constructor you can generate a navigable tree based on any keys you want."
     ]
    },
    {
     "cell_type": "code",
     "collapsed": false,
     "input": [
      "tt2 = msumastro.TableTree(images.summary_info, ['imagetyp', 'filter', 'exposure'], 'file')\n",
      "im_a_tree_too = reducer.gui.ImageBrowserWidget(tt2)\n",
      "im_a_tree_too.display()"
     ],
     "language": "python",
     "metadata": {
      "internals": {},
      "slideshow": {
       "slide_type": "-"
      }
     },
     "outputs": [],
     "prompt_number": 8
    },
    {
     "cell_type": "markdown",
     "metadata": {
      "internals": {},
      "slideshow": {
       "slide_type": "-"
      }
     },
     "source": [
      "## Some reduction settings\n",
      "\n",
      "These need to be *before* we start making calibration frames if, e.g., you want to do CR removal on those frames and/or set overscan/trim."
     ]
    },
    {
     "cell_type": "code",
     "collapsed": false,
     "input": [
      "reduction_settings = reducer.gui.ReductionSettings()\n",
      "display(reduction_settings)\n",
      "reduction_settings.format()"
     ],
     "language": "python",
     "metadata": {
      "internals": {},
      "slideshow": {
       "slide_type": "-"
      }
     },
     "outputs": [],
     "prompt_number": 9
    },
    {
     "cell_type": "markdown",
     "metadata": {
      "internals": {},
      "slideshow": {
       "slide_type": "-"
      }
     },
     "source": [
      "## Settings for creating calibration frames \n",
      "\n",
      "This first set of buttons allows you to choose your settings."
     ]
    },
    {
     "cell_type": "code",
     "collapsed": false,
     "input": [
      "settings_container = widgets.ContainerWidget()\n",
      "bias_settings = reducer.gui.CombinerWidget(description=\"Master Bias Settings\", toggle_type='button')\n",
      "bias_settings.display()\n",
      "\n",
      "dark_settings = reducer.gui.CombinerWidget(description=\"Master Dark Settings\", toggle_type='button')\n",
      "group_by = widgets.TextWidget(description='Group by:', value='exposure')\n",
      "dark_settings.add_child(group_by)\n",
      "dark_settings.display()\n",
      "\n",
      "frabulate_settings = reducer.gui.CombinerWidget(description=\"Master Frobulator Settings\", toggle_type='button')\n",
      "frabulate_settings.display()\n"
     ],
     "language": "python",
     "metadata": {
      "internals": {},
      "slideshow": {
       "slide_type": "-"
      }
     },
     "outputs": [],
     "prompt_number": 10
    },
    {
     "cell_type": "markdown",
     "metadata": {
      "internals": {},
      "slideshow": {
       "slide_type": "-"
      }
     },
     "source": [
      "## Make your calibration frames"
     ]
    },
    {
     "cell_type": "code",
     "collapsed": false,
     "input": [
      "mastery = reducer.gui.MakeMasterButtons(bias=bias_settings)\n",
      "mastery.display()\n"
     ],
     "language": "python",
     "metadata": {
      "internals": {},
      "slideshow": {
       "slide_type": "-"
      }
     },
     "outputs": [],
     "prompt_number": 11
    },
    {
     "cell_type": "markdown",
     "metadata": {
      "internals": {},
      "slideshow": {
       "slide_type": "-"
      }
     },
     "source": [
      "## Big ol' button here to start reducing"
     ]
    },
    {
     "cell_type": "code",
     "collapsed": false,
     "input": [
      "reduce_region = reducer.gui.ReduceContainer()\n",
      "reduce_region.display()"
     ],
     "language": "python",
     "metadata": {
      "internals": {},
      "slideshow": {
       "slide_type": "-"
      }
     },
     "outputs": [],
     "prompt_number": 12
    },
    {
     "cell_type": "markdown",
     "metadata": {
      "internals": {},
      "slideshow": {
       "slide_type": "-"
      }
     },
     "source": [
      "## Maybe a display of some images here? Or just the option to? Or make a movie?"
     ]
    },
    {
     "cell_type": "code",
     "collapsed": false,
     "input": [
      "fake_images = [np.random.random(size=(100, 100)) for i in range(10)]\n",
      "image_button = reducer.gui.ImageDisplayStuff(image_list=fake_images)\n",
      "image_button.display()"
     ],
     "language": "python",
     "metadata": {
      "internals": {},
      "slideshow": {
       "slide_type": "-"
      }
     },
     "outputs": [],
     "prompt_number": 13
    },
    {
     "cell_type": "markdown",
     "metadata": {
      "internals": {
       "slide_helper": "subslide_end"
      },
      "slide_helper": "slide_end",
      "slideshow": {
       "slide_type": "-"
      }
     },
     "source": [
      "# Photometry\n",
      "\n",
      "Not really developed at all -- should probably be a separate notebook??"
     ]
    }
   ],
   "metadata": {}
  }
 ]
}