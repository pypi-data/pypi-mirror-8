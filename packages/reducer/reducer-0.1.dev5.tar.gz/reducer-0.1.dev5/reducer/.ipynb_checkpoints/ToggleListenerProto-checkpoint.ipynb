{
 "metadata": {
  "name": "",
  "signature": "sha256:d2f32820b63f29454665efb1cb40d8e40d805020ce96c4ee4cb626a783e35133"
 },
 "nbformat": 3,
 "nbformat_minor": 0,
 "worksheets": [
  {
   "cells": [
    {
     "cell_type": "code",
     "collapsed": false,
     "input": [
      "from __future__ import division\n",
      "\n",
      "%matplotlib inline\n",
      "\n",
      "from IPython.html import widgets\n",
      "from IPython.display import display\n",
      "\n",
      "import numpy as np\n",
      "\n",
      "import reducer.gui"
     ],
     "language": "python",
     "metadata": {},
     "outputs": [],
     "prompt_number": 1
    },
    {
     "cell_type": "code",
     "collapsed": false,
     "input": [
      "class ToggleListenerWidget(reducer.gui.ToggleContainerWidget):\n",
      "    def __init__(self, *args, **kwd):\n",
      "        super(ToggleListenerWidget, self).__init__(*args, **kwd)\n",
      "        self._state_ping = widgets.CheckboxWidget(visible=False)\n",
      "        self.add_child(self._state_ping)\n",
      "    \n",
      "    def _set_parent(self):\n",
      "        for child in self.container.children:\n",
      "            child.parent = self\n",
      "    \n",
      "    def _child_notify_parent_on_change(self):\n",
      "        for child in self.container.children:\n",
      "            child.on_trait_change(self._ping_handler(), ''value)\n",
      "\n",
      "    def _ping_handler(self):\n",
      "        def flip_state():\n",
      "            self._state_ping.value = not self._state_ping.value\n",
      "        return flip_state\n",
      "\n",
      "    "
     ],
     "language": "python",
     "metadata": {},
     "outputs": []
    }
   ],
   "metadata": {}
  }
 ]
}