{
 "metadata": {
  "name": "",
  "signature": "sha256:f0e02d58aabfd72af0ac6923ee057911345943ffb94f1bf81308f4817bd4e538"
 },
 "nbformat": 3,
 "nbformat_minor": 0,
 "worksheets": [
  {
   "cells": [
    {
     "cell_type": "code",
     "collapsed": false,
     "input": [
      "from IPython.html import widgets\n",
      "from IPython.display import display"
     ],
     "language": "python",
     "metadata": {},
     "outputs": [],
     "prompt_number": 2
    },
    {
     "cell_type": "code",
     "collapsed": false,
     "input": [
      "top = widgets.ContainerWidget(description=\"Combiner container\")"
     ],
     "language": "python",
     "metadata": {},
     "outputs": [],
     "prompt_number": 3
    },
    {
     "cell_type": "code",
     "collapsed": false,
     "input": [
      "clipping = widgets.ContainerWidget(description=\"Clipping control\")\n",
      "combining = widgets.ContainerWidget(description=\"Combining settings\")"
     ],
     "language": "python",
     "metadata": {},
     "outputs": [],
     "prompt_number": 4
    },
    {
     "cell_type": "code",
     "collapsed": false,
     "input": [
      "control_clipping = widgets.CheckboxWidget(value=False, description=\"Clip images?\")\n",
      "clipping_settings = widgets.ContainerWidget(description=\"Clipping settings\", visible=False)\n",
      "clipping.children = [control_clipping, clipping_settings]\n",
      "placeholder = widgets.LatexWidget(value=\"Hello\")\n",
      "clipping_settings.children = [placeholder]\n",
      "\n",
      "def on_clipping_toggle(name, value):\n",
      "    clipping_settings.visible = value\n",
      "    \n",
      "control_clipping.on_trait_change(on_clipping_toggle, 'value')"
     ],
     "language": "python",
     "metadata": {},
     "outputs": [],
     "prompt_number": 5
    },
    {
     "cell_type": "code",
     "collapsed": false,
     "input": [
      "top.children = [clipping, combining]"
     ],
     "language": "python",
     "metadata": {},
     "outputs": [],
     "prompt_number": 6
    },
    {
     "cell_type": "code",
     "collapsed": false,
     "input": [
      "display(top)"
     ],
     "language": "python",
     "metadata": {},
     "outputs": [],
     "prompt_number": 7
    },
    {
     "cell_type": "code",
     "collapsed": false,
     "input": [
      "from IPython.utils.traitlets import link\n",
      "class ToggleContainerWidget(widgets.ContainerWidget):\n",
      "    \"\"\"\n",
      "    A widget whose state controls the visibility of its chilren.\n",
      "    \"\"\"\n",
      "    def __init__(self, *args, **kwd):\n",
      "        super(ToggleContainerWidget, self).__init__(*args, **kwd)\n",
      "        self._checkbox = widgets.CheckboxWidget(description=self.description)\n",
      "        self._container = widgets.ContainerWidget(description=\"Toggle-able conatiner\")\n",
      "        self.children = [self._checkbox, self._container]\n",
      "        self._container.on_trait_change(self._link_children, '_children')\n",
      "\n",
      "    def _link_children(self):\n",
      "        if self.children:\n",
      "            child_tuples = [(child, 'visible') for child in self.children]\n",
      "            child_tuples.insert(0, (self, 'value'))\n",
      "\n",
      "    \n",
      "    "
     ],
     "language": "python",
     "metadata": {},
     "outputs": [
      {
       "ename": "IndentationError",
       "evalue": "expected an indented block (<ipython-input-24-33a33ec63ff9>, line 15)",
       "output_type": "pyerr",
       "traceback": [
        "\u001b[0;36m  File \u001b[0;32m\"<ipython-input-24-33a33ec63ff9>\"\u001b[0;36m, line \u001b[0;32m15\u001b[0m\n\u001b[0;31m    if self.children:\u001b[0m\n\u001b[0m     ^\u001b[0m\n\u001b[0;31mIndentationError\u001b[0m\u001b[0;31m:\u001b[0m expected an indented block\n"
       ]
      }
     ],
     "prompt_number": 24
    },
    {
     "cell_type": "code",
     "collapsed": false,
     "input": [
      "a = [1,2,3]"
     ],
     "language": "python",
     "metadata": {},
     "outputs": [],
     "prompt_number": 17
    },
    {
     "cell_type": "code",
     "collapsed": false,
     "input": [
      "a.insert(0, 4)"
     ],
     "language": "python",
     "metadata": {},
     "outputs": [],
     "prompt_number": 18
    },
    {
     "cell_type": "code",
     "collapsed": false,
     "input": [
      "a"
     ],
     "language": "python",
     "metadata": {},
     "outputs": [
      {
       "metadata": {},
       "output_type": "pyout",
       "prompt_number": 19,
       "text": [
        "[4, 1, 2, 3]"
       ]
      }
     ],
     "prompt_number": 19
    },
    {
     "cell_type": "code",
     "collapsed": false,
     "input": [
      "control_clipping.keys"
     ],
     "language": "python",
     "metadata": {},
     "outputs": [
      {
       "metadata": {},
       "output_type": "pyout",
       "prompt_number": 20,
       "text": [
        "['_view_name',\n",
        " 'description',\n",
        " 'msg_throttle',\n",
        " '_css',\n",
        " 'value',\n",
        " 'disabled',\n",
        " 'visible']"
       ]
      }
     ],
     "prompt_number": 20
    },
    {
     "cell_type": "code",
     "collapsed": false,
     "input": [
      "foob = ToggleContainerWidget(description=\"I am tricky\")"
     ],
     "language": "python",
     "metadata": {},
     "outputs": [],
     "prompt_number": 21
    },
    {
     "cell_type": "code",
     "collapsed": false,
     "input": [
      "display(foob)"
     ],
     "language": "python",
     "metadata": {},
     "outputs": [],
     "prompt_number": 22
    },
    {
     "cell_type": "code",
     "collapsed": false,
     "input": [
      "top.keys"
     ],
     "language": "python",
     "metadata": {},
     "outputs": [
      {
       "metadata": {},
       "output_type": "pyout",
       "prompt_number": 23,
       "text": [
        "['_view_name', 'visible', '_css', 'msg_throttle', '_children']"
       ]
      }
     ],
     "prompt_number": 23
    },
    {
     "cell_type": "code",
     "collapsed": false,
     "input": [],
     "language": "python",
     "metadata": {},
     "outputs": []
    }
   ],
   "metadata": {}
  }
 ]
}