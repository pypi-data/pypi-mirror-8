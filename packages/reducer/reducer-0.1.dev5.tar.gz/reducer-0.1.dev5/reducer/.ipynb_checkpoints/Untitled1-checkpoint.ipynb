{
 "metadata": {
  "name": "",
  "signature": "sha256:d63f27abfa0f68436cd4fd463cd8cd8ee9843194a0d4b792684f4f2b5ceb14b5"
 },
 "nbformat": 3,
 "nbformat_minor": 0,
 "worksheets": []
}