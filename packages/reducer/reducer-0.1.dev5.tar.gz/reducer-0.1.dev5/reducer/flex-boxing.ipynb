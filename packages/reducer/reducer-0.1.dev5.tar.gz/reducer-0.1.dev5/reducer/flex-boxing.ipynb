{
 "metadata": {
  "name": "",
  "signature": "sha256:8b41518385071cfb8be47dc6319691f3a52a92c7da58b5cd8fe5cb364de6bab4"
 },
 "nbformat": 3,
 "nbformat_minor": 0,
 "worksheets": [
  {
   "cells": [
    {
     "cell_type": "code",
     "collapsed": false,
     "input": [
      "from IPython.html import widgets\n",
      "from IPython.display import display"
     ],
     "language": "python",
     "metadata": {},
     "outputs": [],
     "prompt_number": 3
    },
    {
     "cell_type": "code",
     "collapsed": false,
     "input": [
      "c = widgets.ContainerWidget()\n",
      "b1 = widgets.ButtonWidget(description=\"B1\")\n",
      "b2 = widgets.ButtonWidget(description=\"B2\")\n",
      "c.children = [b1, b2]\n",
      "display(c)\n",
      "c.set_css('width', '100%')\n",
      "c.remove_class(\"vbox\")\n",
      "c.add_class(\"hbox\")"
     ],
     "language": "python",
     "metadata": {},
     "outputs": [],
     "prompt_number": 10
    },
    {
     "cell_type": "code",
     "collapsed": false,
     "input": [
      "b1.add_class('box-flex2')\n",
      "b2.add_class('box-flex1')"
     ],
     "language": "python",
     "metadata": {},
     "outputs": [],
     "prompt_number": 11
    },
    {
     "cell_type": "code",
     "collapsed": false,
     "input": [],
     "language": "python",
     "metadata": {},
     "outputs": [],
     "prompt_number": 7
    },
    {
     "cell_type": "code",
     "collapsed": false,
     "input": [
      "c2 = widgets.ContainerWidget()\n",
      "a1 = widgets.AccordionWidget(description=\"B1\")\n",
      "a2 = widgets.HTMLWidget(value=\"FOOooOOOOOOOOOOOOOOOOOOOOOOOOOOOOOOOOOOOOOOOOOOOOOOOOOOOO\")\n",
      "a1.children = [a2]\n",
      "t1 = widgets.TabWidget(description=\"B2\")\n",
      "t1c = widgets.ContainerWidget()\n",
      "t2 = widgets.HTMLWidget(value=\"FOO\")\n",
      "t1c.children = [t2]\n",
      "t1.children = [t1c]\n",
      "c.children = [a1, t1]\n",
      "display(c)\n",
      "c.set_css('width', '100%')\n",
      "c.remove_class(\"vbox\")\n",
      "c.add_class(\"hbox\")\n",
      "a1.set_css('margin', '5px')\n",
      "t1.set_css('margin', '5px')\n",
      "t1.set_css('border', '1px dashed red')"
     ],
     "language": "python",
     "metadata": {},
     "outputs": [],
     "prompt_number": 35
    },
    {
     "cell_type": "code",
     "collapsed": false,
     "input": [
      "a1.add_class('box-flex1')\n",
      "t1.add_class('box-flex2')"
     ],
     "language": "python",
     "metadata": {},
     "outputs": [],
     "prompt_number": 36
    },
    {
     "cell_type": "code",
     "collapsed": false,
     "input": [
      "t2.set_css('padding', '10px')"
     ],
     "language": "python",
     "metadata": {},
     "outputs": [],
     "prompt_number": 37
    },
    {
     "cell_type": "code",
     "collapsed": false,
     "input": [],
     "language": "python",
     "metadata": {},
     "outputs": []
    }
   ],
   "metadata": {}
  }
 ]
}