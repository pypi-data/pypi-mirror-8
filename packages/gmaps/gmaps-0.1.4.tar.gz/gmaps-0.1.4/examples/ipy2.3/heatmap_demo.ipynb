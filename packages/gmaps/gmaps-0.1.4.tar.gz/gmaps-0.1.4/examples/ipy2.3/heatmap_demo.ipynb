{
 "metadata": {
  "name": "",
  "signature": "sha256:305b4b53d9fc28142ceef92d141b13aab556417674cc5ad21b64ed7222ace106"
 },
 "nbformat": 3,
 "nbformat_minor": 0,
 "worksheets": [
  {
   "cells": [
    {
     "cell_type": "code",
     "collapsed": false,
     "input": [
      "import gmaps"
     ],
     "language": "python",
     "metadata": {},
     "outputs": [],
     "prompt_number": ""
    },
    {
     "cell_type": "markdown",
     "metadata": {},
     "source": [
      "#Heatmap demonstration\n",
      "\n",
      "Let's start with a very basic demonstration of the heatmap functionality in ``gmaps``. We have three positions, expressed as pairs of (latitude, longitude) objects. All three positions are located in Geary Boulevard in San Francisco. Let's plot these on a Google map."
     ]
    },
    {
     "cell_type": "code",
     "collapsed": false,
     "input": [
      "data = [ [ 37.782551,-122.445368 ],\n",
      "         [ 37.782745,-122.444586 ],\n",
      "         [ 37.782842,-122.443858 ] ]\n",
      "\n",
      "gmaps.heatmap(data)"
     ],
     "language": "python",
     "metadata": {},
     "outputs": [],
     "prompt_number": ""
    },
    {
     "cell_type": "markdown",
     "metadata": {},
     "source": [
      "Let's try something a little more complicated. We have a data file, ``taxi_data.csv``, with 500 coordinates of locations where people took a taxi in San Francisco. The data is from the [Google maps API reference](https://developers.google.com/maps/documentation/javascript/heatmaplayer).\n",
      "\n",
      "We will import the data into a Pandas dataframe and overlay it on a map of San Francisco."
     ]
    },
    {
     "cell_type": "code",
     "collapsed": false,
     "input": [
      "from pandas.io.parsers import read_csv"
     ],
     "language": "python",
     "metadata": {},
     "outputs": [],
     "prompt_number": ""
    },
    {
     "cell_type": "code",
     "collapsed": false,
     "input": [
      "df = read_csv(\"taxi_data.csv\")\n",
      "df.head()"
     ],
     "language": "python",
     "metadata": {},
     "outputs": [],
     "prompt_number": ""
    },
    {
     "cell_type": "code",
     "collapsed": false,
     "input": [
      "gmaps.heatmap(df.values)"
     ],
     "language": "python",
     "metadata": {},
     "outputs": [],
     "prompt_number": ""
    },
    {
     "cell_type": "code",
     "collapsed": false,
     "input": [],
     "language": "python",
     "metadata": {},
     "outputs": []
    }
   ],
   "metadata": {}
  }
 ]
}
