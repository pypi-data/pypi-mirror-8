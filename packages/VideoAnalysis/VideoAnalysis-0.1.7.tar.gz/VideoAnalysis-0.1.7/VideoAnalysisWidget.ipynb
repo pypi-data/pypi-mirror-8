{
 "metadata": {
  "name": "",
  "signature": "sha256:bdeca22269632f896ea5c46baffa086abe6996fc87c33187154d608dc8aeb255"
 },
 "nbformat": 3,
 "nbformat_minor": 0,
 "worksheets": [
  {
   "cells": [
    {
     "cell_type": "code",
     "collapsed": false,
     "input": [
      "import os\n",
      "import PIL\n",
      "import yaml\n",
      "import numpy as np\n",
      "import matplotlib\n",
      "matplotlib.use('Agg')\n",
      "import matplotlib.pyplot as plt\n",
      "from IPython.display import display, Javascript\n",
      "from ROIWidgets import ROILineWidget, ROIMultiRectWidget\n",
      "from IPython.html.widgets import (TabWidget, ContainerWidget,\n",
      "                                  AccordionWidget, PopupWidget, TextWidget)\n",
      "from IPython.utils.traitlets import Float, Unicode, Instance\n",
      "from IPython.utils.traitlets import link\n",
      "from Avery.interaction.widgets import ClickSelectWidget, FileChoiceWidget\n",
      "from VideoAnalysis import HTMLImageWidget\n",
      "import VideoAnalysis.Helms\n",
      "from VideoAnalysis.Helms import (VideoFileChoiceWidget, VideoCalibrateWidget,\n",
      "                           RegionWidget, FoodRegionWidget, VideoParameterWidget)\n",
      "# %matplotlib inline\n",
      "# plt.ioff()"
     ],
     "language": "python",
     "metadata": {},
     "outputs": [],
     "prompt_number": 1
    },
    {
     "cell_type": "code",
     "collapsed": false,
     "input": [
      "js_init = Javascript(data='require([\"widgets/js/roi_init\"], function(){})')\n",
      "display(js_init)"
     ],
     "language": "python",
     "metadata": {},
     "outputs": [
      {
       "javascript": [
        "require([\"widgets/js/roi_init\"], function(){})"
       ],
       "metadata": {},
       "output_type": "display_data",
       "text": [
        "<IPython.core.display.Javascript at 0x7f9d04254ad0>"
       ]
      }
     ],
     "prompt_number": 2
    },
    {
     "cell_type": "code",
     "collapsed": false,
     "input": [
      "import wormtracker as wt\n",
      "from wormtracker.wormimageprocessor import WormImageProcessor"
     ],
     "language": "python",
     "metadata": {},
     "outputs": [],
     "prompt_number": 3
    },
    {
     "cell_type": "code",
     "collapsed": false,
     "input": [
      "videoDir = './sample'\n",
      "storeDir = './sample'"
     ],
     "language": "python",
     "metadata": {},
     "outputs": [],
     "prompt_number": 4
    },
    {
     "cell_type": "code",
     "collapsed": false,
     "input": [
      "profileDir = get_ipython().profile_dir.location\n",
      "profileDir"
     ],
     "language": "python",
     "metadata": {},
     "outputs": [
      {
       "metadata": {},
       "output_type": "pyout",
       "prompt_number": 5,
       "text": [
        "u'/store1/home/leon/.ipython/profile_default'"
       ]
      }
     ],
     "prompt_number": 5
    },
    {
     "cell_type": "code",
     "collapsed": false,
     "input": [
      "staticDir = get_ipython().profile_dir.static_dir\n",
      "staticDir"
     ],
     "language": "python",
     "metadata": {},
     "outputs": [
      {
       "metadata": {},
       "output_type": "pyout",
       "prompt_number": 6,
       "text": [
        "u'/store1/home/leon/.ipython/profile_default/static'"
       ]
      }
     ],
     "prompt_number": 6
    },
    {
     "cell_type": "code",
     "collapsed": false,
     "input": [
      "scratchDir = staticDir + u'/scratch'\n",
      "scratchDir"
     ],
     "language": "python",
     "metadata": {},
     "outputs": [
      {
       "metadata": {},
       "output_type": "pyout",
       "prompt_number": 7,
       "text": [
        "u'/store1/home/leon/.ipython/profile_default/static/scratch'"
       ]
      }
     ],
     "prompt_number": 7
    },
    {
     "cell_type": "code",
     "collapsed": false,
     "input": [
      "params = {}\n",
      "fcw1 = VideoFileChoiceWidget(\n",
      "    videoDir=videoDir, \n",
      "    resultsDir=storeDir,\n",
      "    configDir=storeDir\n",
      ")\n",
      "def onfcw1Submit(self):\n",
      "    params.update(self.value)\n",
      "    print self.value\n",
      "fcw1.on_submit(onfcw1Submit)\n",
      "display(fcw1)"
     ],
     "language": "python",
     "metadata": {},
     "outputs": [],
     "prompt_number": 8
    },
    {
     "cell_type": "code",
     "collapsed": false,
     "input": [
      "params"
     ],
     "language": "python",
     "metadata": {},
     "outputs": [
      {
       "metadata": {},
       "output_type": "pyout",
       "prompt_number": 9,
       "text": [
        "{}"
       ]
      }
     ],
     "prompt_number": 9
    },
    {
     "cell_type": "markdown",
     "metadata": {},
     "source": [
      "For further testing:"
     ]
    },
    {
     "cell_type": "code",
     "collapsed": false,
     "input": [
      "params = {'configFile': u'./sample/short_test_new.yml',\n",
      "          'storeFile': u'./sample/short_test.h5',\n",
      "          'videoFile': u'./sample/short_test.avi'}"
     ],
     "language": "python",
     "metadata": {},
     "outputs": [],
     "prompt_number": 10
    },
    {
     "cell_type": "code",
     "collapsed": false,
     "input": [
      "vcw1 = VideoCalibrateWidget(videoFile=params['videoFile'])\n",
      "def onvcw1Submit(self):\n",
      "    params.update(self.value)\n",
      "    print self.value\n",
      "vcw1.on_submit(onvcw1Submit)\n",
      "def reportCancel(self):\n",
      "    print \"Cancelled\"\n",
      "vcw1.on_cancel(reportCancel)\n",
      "display(vcw1)"
     ],
     "language": "python",
     "metadata": {},
     "outputs": [],
     "prompt_number": 11
    },
    {
     "cell_type": "code",
     "collapsed": false,
     "input": [
      "[ (k, type(v)) for k, v in vcw1.value.items() ]"
     ],
     "language": "python",
     "metadata": {},
     "outputs": [
      {
       "metadata": {},
       "output_type": "pyout",
       "prompt_number": 12,
       "text": [
        "[('pixelsPerMicron', float),\n",
        " ('pixelSize', float),\n",
        " ('frameRate', float),\n",
        " ('numberFrames', int),\n",
        " ('referenceDistance', int)]"
       ]
      }
     ],
     "prompt_number": 12
    },
    {
     "cell_type": "code",
     "collapsed": false,
     "input": [
      "params.update({\n",
      "'pixelsPerMicron': 0.05, \n",
      "'pixelSize': 20, \n",
      "'frameRate': 12.00000480000192, \n",
      "'numberFrames': 1201, \n",
      "'referenceDistance': 25000\n",
      "})\n",
      "params"
     ],
     "language": "python",
     "metadata": {},
     "outputs": [
      {
       "metadata": {},
       "output_type": "pyout",
       "prompt_number": 13,
       "text": [
        "{'configFile': u'./sample/short_test_new.yml',\n",
        " 'frameRate': 12.00000480000192,\n",
        " 'numberFrames': 1201,\n",
        " 'pixelSize': 20,\n",
        " 'pixelsPerMicron': 0.05,\n",
        " 'referenceDistance': 25000,\n",
        " 'storeFile': u'./sample/short_test.h5',\n",
        " 'videoFile': u'./sample/short_test.avi'}"
       ]
      }
     ],
     "prompt_number": 13
    },
    {
     "cell_type": "markdown",
     "metadata": {},
     "source": [
      "The AccordionWidget is broken. When first created, all children are collapsed. Setting selected_index to something other than 0 opens both panel 0 and the selected panel. If you then set it back to 0, the previously selected panel is collapsed and panel 0 remains open. However, this requires a delay between the two selected_index sets to work. Once it is in the correct state, it seems to work right from then on.\n",
      "\n",
      "This is a problem with the way bootstrap collapse is used, as described here: http://stackoverflow.com/questions/24013926/the-hide-method-of-bootstrap-collapse-will-show-the-collapse-element. Seems like it would be easy to fix in the JS, but I fiddled with it a little and didn't get it right. I believe this is fixed in the development version of ipython."
     ]
    },
    {
     "cell_type": "code",
     "collapsed": false,
     "input": [
      "from time import sleep\n",
      "\n",
      "aw1 = AccordionWidget()\n",
      "text1 = TextWidget(value='1', description='text widget 1')\n",
      "text2 = TextWidget(value='2', description='text widget 2')\n",
      "text3 = TextWidget(value='3', description='text widget 3')\n",
      "aw1.children = [text1, text2, text3]\n",
      "for i, w in enumerate(aw1.children):\n",
      "    aw1.set_title(i, w.description)\n",
      "aw1.selected_index = 0\n",
      "display(aw1)\n",
      "aw1.selected_index = 1\n",
      "sleep(0.5)\n",
      "aw1.selected_index = 0"
     ],
     "language": "python",
     "metadata": {},
     "outputs": [],
     "prompt_number": 14
    },
    {
     "cell_type": "markdown",
     "metadata": {},
     "source": [
      "TabWidget has a similar problem, but the delay isn't necessary. You just need to change the selected_index from something to something different to get the right display."
     ]
    },
    {
     "cell_type": "code",
     "collapsed": false,
     "input": [
      "tw1 = TabWidget()\n",
      "tw1.children = [text1, text2, text3]\n",
      "for i, w in enumerate(tw1.children):\n",
      "    tw1.set_title(i, w.description)\n",
      "tw1.selected_index = 1\n",
      "display(tw1)\n",
      "tw1.selected_index = 0"
     ],
     "language": "python",
     "metadata": {},
     "outputs": [],
     "prompt_number": 15
    },
    {
     "cell_type": "code",
     "collapsed": false,
     "input": [
      "rw1 = RegionWidget(image=vcw1.image)\n",
      "def onrw1Submit(self):\n",
      "    params.update(self.value)\n",
      "    print self.value\n",
      "rw1.on_submit(onrw1Submit)\n",
      "rw1.on_cancel(reportCancel)\n",
      "display(rw1)"
     ],
     "language": "python",
     "metadata": {},
     "outputs": [],
     "prompt_number": 16
    },
    {
     "cell_type": "code",
     "collapsed": false,
     "input": [
      "rw1.value"
     ],
     "language": "python",
     "metadata": {},
     "outputs": [
      {
       "metadata": {},
       "output_type": "pyout",
       "prompt_number": 17,
       "text": [
        "{'cropRegions': [], 'strainName': u'N2', 'wormNames': []}"
       ]
      }
     ],
     "prompt_number": 17
    },
    {
     "cell_type": "code",
     "collapsed": false,
     "input": [
      "params.update({\n",
      "'cropRegions': [[899.53126359, 131.72344565, 379.40625, 435.515625],\n",
      "                [1524.75001359, 155.77032065, 368.71875, 424.828125]],\n",
      " 'strainName': u'N2',\n",
      " 'wormNames': ['1', '2']\n",
      "})\n",
      "params"
     ],
     "language": "python",
     "metadata": {},
     "outputs": [
      {
       "metadata": {},
       "output_type": "pyout",
       "prompt_number": 18,
       "text": [
        "{'configFile': u'./sample/short_test_new.yml',\n",
        " 'cropRegions': [[899.53126359, 131.72344565, 379.40625, 435.515625],\n",
        "  [1524.75001359, 155.77032065, 368.71875, 424.828125]],\n",
        " 'frameRate': 12.00000480000192,\n",
        " 'numberFrames': 1201,\n",
        " 'pixelSize': 20,\n",
        " 'pixelsPerMicron': 0.05,\n",
        " 'referenceDistance': 25000,\n",
        " 'storeFile': u'./sample/short_test.h5',\n",
        " 'strainName': u'N2',\n",
        " 'videoFile': u'./sample/short_test.avi',\n",
        " 'wormNames': ['1', '2']}"
       ]
      }
     ],
     "prompt_number": 18
    },
    {
     "cell_type": "code",
     "collapsed": false,
     "input": [
      "nRegions = len(params['cropRegions'])\n",
      "regions = [\n",
      "    wt.WormVideoRegion(\n",
      "        videoFile=params['videoFile'],\n",
      "        imageProcessor=WormImageProcessor(),\n",
      "        resultsStoreFile=params['storeFile'],\n",
      "        cropRegion=params['cropRegions'][i],\n",
      "        pixelSize=params['pixelsPerMicron'],\n",
      "        strainName=params['strainName'],\n",
      "        wormName=params['wormNames'][i]\n",
      "    )\n",
      "    for i in range(nRegions)\n",
      "]\n",
      "regions"
     ],
     "language": "python",
     "metadata": {},
     "outputs": [
      {
       "metadata": {},
       "output_type": "pyout",
       "prompt_number": 19,
       "text": [
        "[<wormtracker.WormVideoRegion at 0x7f9cc67468d0>,\n",
        " <wormtracker.WormVideoRegion at 0x7f9cc6746990>]"
       ]
      }
     ],
     "prompt_number": 19
    },
    {
     "cell_type": "code",
     "collapsed": false,
     "input": [
      "frw1 = FoodRegionWidget(image=vcw1.image)\n",
      "def onfrw1Submit(self):\n",
      "    params.update(self.value)\n",
      "    print self.value\n",
      "frw1.on_submit(onfrw1Submit)\n",
      "frw1.on_cancel(reportCancel)\n",
      "display(frw1)"
     ],
     "language": "python",
     "metadata": {},
     "outputs": [],
     "prompt_number": 20
    },
    {
     "cell_type": "code",
     "collapsed": false,
     "input": [
      "frw1.value"
     ],
     "language": "python",
     "metadata": {},
     "outputs": [
      {
       "metadata": {},
       "output_type": "pyout",
       "prompt_number": 21,
       "text": [
        "{'foodCircles': []}"
       ]
      }
     ],
     "prompt_number": 21
    },
    {
     "cell_type": "code",
     "collapsed": false,
     "input": [
      "params.update({\n",
      "'foodCircles': [[1098.58595109, 359.18910599, 103.07517529],\n",
      "                [1690.40626359, 344.49379349, 91.67490867]]\n",
      "})\n",
      "params"
     ],
     "language": "python",
     "metadata": {},
     "outputs": [
      {
       "metadata": {},
       "output_type": "pyout",
       "prompt_number": 22,
       "text": [
        "{'configFile': u'./sample/short_test_new.yml',\n",
        " 'cropRegions': [[899.53126359, 131.72344565, 379.40625, 435.515625],\n",
        "  [1524.75001359, 155.77032065, 368.71875, 424.828125]],\n",
        " 'foodCircles': [[1098.58595109, 359.18910599, 103.07517529],\n",
        "  [1690.40626359, 344.49379349, 91.67490867]],\n",
        " 'frameRate': 12.00000480000192,\n",
        " 'numberFrames': 1201,\n",
        " 'pixelSize': 20,\n",
        " 'pixelsPerMicron': 0.05,\n",
        " 'referenceDistance': 25000,\n",
        " 'storeFile': u'./sample/short_test.h5',\n",
        " 'strainName': u'N2',\n",
        " 'videoFile': u'./sample/short_test.avi',\n",
        " 'wormNames': ['1', '2']}"
       ]
      }
     ],
     "prompt_number": 22
    },
    {
     "cell_type": "code",
     "collapsed": false,
     "input": [
      "vars(regions[0])"
     ],
     "language": "python",
     "metadata": {},
     "outputs": [
      {
       "metadata": {},
       "output_type": "pyout",
       "prompt_number": 23,
       "text": [
        "{'cropRegion': [899.53126359, 131.72344565, 379.40625, 435.515625],\n",
        " 'foodCircle': None,\n",
        " 'frameRate': 11.5,\n",
        " 'frameSize': (2736, 2192),\n",
        " 'imageProcessor': <wormtracker.wormimageprocessor.WormImageProcessor instance at 0x7f9cc67b0368>,\n",
        " 'outputPrefix': u'N2_1_',\n",
        " 'pixelSize': 0.05,\n",
        " 'resultsStoreFile': u'./sample/short_test.h5',\n",
        " 'resultsStorePath': '/worms',\n",
        " 'strainName': u'N2',\n",
        " 'videoFile': u'./sample/short_test.avi',\n",
        " 'wormName': '1'}"
       ]
      }
     ],
     "prompt_number": 23
    },
    {
     "cell_type": "code",
     "collapsed": false,
     "input": [
      "ff1 = VideoAnalysis.Helms.firstFrame(params['videoFile'])\n",
      "ff2 = PIL.Image.fromarray(ff1)\n",
      "ff3 = ff2.convert('L')\n",
      "ff4 = np.array(ff3)\n",
      "\n",
      "hiw1 = HTMLImageWidget(ff1)\n",
      "hiw1"
     ],
     "language": "python",
     "metadata": {},
     "outputs": [],
     "prompt_number": 24
    },
    {
     "cell_type": "code",
     "collapsed": false,
     "input": [
      "from VideoAnalysis.Helms import DefaultParameterSets, VideoParameterWidget\n",
      "\n",
      "vpw1 = VideoParameterWidget(\n",
      "    params=DefaultParameterSets.helmsParams(),\n",
      "    cropRegions=regions,\n",
      "    pixelsPerMicron=params['pixelsPerMicron'],\n",
      "    description=u'Parameters', \n",
      "    videoFile=params['videoFile'],\n",
      ")\n",
      "def onvpw1Submit(self):\n",
      "    params.update(self.value)\n",
      "    print self.value\n",
      "vpw1.on_submit(onfrw1Submit)\n",
      "vpw1.on_cancel(reportCancel)\n",
      "display(vpw1)"
     ],
     "language": "python",
     "metadata": {},
     "outputs": [],
     "prompt_number": 25
    },
    {
     "cell_type": "code",
     "collapsed": false,
     "input": [
      "from VideoAnalysis.Helms import VideoConfigWidget\n",
      "\n",
      "vaw1 = VideoConfigWidget(\n",
      "    videoDir=videoDir, \n",
      "    resultsDir=storeDir,\n",
      "    configDir=storeDir\n",
      ")\n",
      "def reportCancel(self):\n",
      "    print \"Cancelled\"\n",
      "vaw1.on_cancel(reportCancel)\n",
      "display(vaw1)"
     ],
     "language": "python",
     "metadata": {},
     "outputs": [],
     "prompt_number": 26
    },
    {
     "cell_type": "code",
     "collapsed": false,
     "input": [
      "vaw1.value"
     ],
     "language": "python",
     "metadata": {},
     "outputs": [
      {
       "metadata": {},
       "output_type": "pyout",
       "prompt_number": 27,
       "text": [
        "{'configFile': './sample/short_test_new.yml',\n",
        " 'cropRegions': [<wormtracker.WormVideoRegion at 0x7f9cc21a0a50>,\n",
        "  <wormtracker.WormVideoRegion at 0x7f9cc21a0b10>,\n",
        "  <wormtracker.WormVideoRegion at 0x7f9cc21a0bd0>,\n",
        "  <wormtracker.WormVideoRegion at 0x7f9cc21a0c10>],\n",
        " 'frameRate': 11.5,\n",
        " 'nFrames': 1201,\n",
        " 'numberFrames': 'undefined',\n",
        " 'pixelSize': 21.30924707394279,\n",
        " 'pixelsPerMicron': 0.04692798373072563,\n",
        " 'referenceDistance': 25000,\n",
        " 'resultsStorePath': '/worms',\n",
        " 'storeFile': './sample/short_test.h5',\n",
        " 'videoFile': './sample/short_test.avi',\n",
        " 'videoInfoStorePath': '/video',\n",
        " 'wormImageProcessor': <wormtracker.wormimageprocessor.WormImageProcessor instance at 0x7f9cc3f60b00>}"
       ]
      }
     ],
     "prompt_number": 27
    },
    {
     "cell_type": "code",
     "collapsed": false,
     "input": [
      "print yaml.dump(vaw1.value)"
     ],
     "language": "python",
     "metadata": {},
     "outputs": [
      {
       "output_type": "stream",
       "stream": "stdout",
       "text": [
        "configFile: ./sample/short_test_new.yml\n",
        "cropRegions:\n",
        "- !!python/object:wormtracker.WormVideoRegion\n",
        "  cropRegion: [403.898451089859, 129.5859375, 390.09375, 432.84375]\n",
        "  foodCircle: [578.906263589859, 312.609375, 102.0397423006794]\n",
        "  frameRate: 11.5\n",
        "  frameSize: &id001 !!python/tuple [2736, 2192]\n",
        "  imageProcessor: &id002 !!python/object:wormtracker.wormimageprocessor.WormImageProcessor\n",
        "    backgroundDiskRadius: 5\n",
        "    compactnessThreshold: 10\n",
        "    expectedWormLength: 1000\n",
        "    expectedWormWidth: 50\n",
        "    frameRate: 11.5\n",
        "    holeAreaThreshold: 10\n",
        "    numberOfPosturePoints: -1\n",
        "    pixelSize: 0.04692798373072563\n",
        "    threshold: 0.9\n",
        "    wormAreaThresholdRange: &id003 [0.5, 1.5]\n",
        "    wormDiskRadius: 2\n",
        "  outputPrefix: !!python/unicode 'N2_1_'\n",
        "  pixelSize: 0.04692798373072563\n",
        "  resultsStoreFile: ./sample/short_test.h5\n",
        "  resultsStorePath: /worms\n",
        "  strainName: !!python/unicode 'N2'\n",
        "  videoFile: ./sample/short_test.avi\n",
        "  wormName: '1'\n",
        "- !!python/object:wormtracker.WormVideoRegion\n",
        "  cropRegion: [900.867201089859, 129.5859375, 387.421875, 440.859375]\n",
        "  foodCircle: [1098.585951089859, 356.6953125, 102.02225027307156]\n",
        "  frameRate: 11.5\n",
        "  frameSize: *id001\n",
        "  imageProcessor: *id002\n",
        "  outputPrefix: !!python/unicode 'N2_2_'\n",
        "  pixelSize: 0.04692798373072563\n",
        "  resultsStoreFile: ./sample/short_test.h5\n",
        "  resultsStorePath: /worms\n",
        "  strainName: !!python/unicode 'N2'\n",
        "  videoFile: ./sample/short_test.avi\n",
        "  wormName: '2'\n",
        "- !!python/object:wormtracker.WormVideoRegion\n",
        "  cropRegion: [1512.726576089859, 142.9453125, 387.421875, 448.875]\n",
        "  foodCircle: [1690.406263589859, 342.0, 92.57574561815753]\n",
        "  frameRate: 11.5\n",
        "  frameSize: *id001\n",
        "  imageProcessor: *id002\n",
        "  outputPrefix: !!python/unicode 'N2_3_'\n",
        "  pixelSize: 0.04692798373072563\n",
        "  resultsStoreFile: ./sample/short_test.h5\n",
        "  resultsStorePath: /worms\n",
        "  strainName: !!python/unicode 'N2'\n",
        "  videoFile: ./sample/short_test.avi\n",
        "  wormName: '3'\n",
        "- !!python/object:wormtracker.WormVideoRegion\n",
        "  cropRegion: [2015.039076089859, 158.9765625, 371.390625, 427.5]\n",
        "  foodCircle: [2194.054701089859, 362.0390625, 94.54058838172365]\n",
        "  frameRate: 11.5\n",
        "  frameSize: *id001\n",
        "  imageProcessor: *id002\n",
        "  outputPrefix: !!python/unicode 'N2_4_'\n",
        "  pixelSize: 0.04692798373072563\n",
        "  resultsStoreFile: ./sample/short_test.h5\n",
        "  resultsStorePath: /worms\n",
        "  strainName: !!python/unicode 'N2'\n",
        "  videoFile: ./sample/short_test.avi\n",
        "  wormName: '4'\n",
        "frameRate: 11.5\n",
        "nFrames: 1201\n",
        "numberFrames: undefined\n",
        "pixelSize: 21.30924707394279\n",
        "pixelsPerMicron: 0.04692798373072563\n",
        "referenceDistance: 25000\n",
        "resultsStorePath: /worms\n",
        "storeFile: ./sample/short_test.h5\n",
        "videoFile: ./sample/short_test.avi\n",
        "videoInfoStorePath: /video\n",
        "wormImageProcessor: !!python/object:wormtracker.wormimageprocessor.WormImageProcessor\n",
        "  backgroundDiskRadius: 5\n",
        "  compactnessThreshold: 10\n",
        "  expectedWormLength: 1000\n",
        "  expectedWormWidth: 50\n",
        "  frameRate: 11.5\n",
        "  holeAreaThreshold: 10\n",
        "  numberOfPosturePoints: -1\n",
        "  pixelSize: 0.04692798373072563\n",
        "  threshold: 0.9\n",
        "  wormAreaThresholdRange: *id003\n",
        "  wormDiskRadius: 2\n",
        "\n"
       ]
      }
     ],
     "prompt_number": 28
    },
    {
     "cell_type": "code",
     "collapsed": false,
     "input": [
      "paramYAML = \"\"\"\n",
      "configFile: !!python/unicode './sample/short_test_new.yml'\n",
      "cropRegions:\n",
      "- !!python/object:wormtracker.WormVideoRegion\n",
      "  cropRegion: [402.562513589859, 129.6750190258026, 384.75, 424.828125]\n",
      "  foodCircle: [573.562513589859, 314.0343940258026, 100.15077134976607]\n",
      "  frameRate: 11.5\n",
      "  frameSize: &id001 !!python/tuple [2736, 2192]\n",
      "  imageProcessor: &id002 !!python/object:wormtracker.wormimageprocessor.WormImageProcessor\n",
      "    backgroundDiskRadius: 5\n",
      "    compactnessThreshold: 10\n",
      "    expectedWormLength: 1000\n",
      "    expectedWormWidth: 70\n",
      "    frameRate: 11.5\n",
      "    holeAreaThreshold: 10\n",
      "    numberOfPosturePoints: 30\n",
      "    pixelSize: 0.04531953691910917\n",
      "    resultsStorePath: !!python/unicode '/worms'\n",
      "    threshold: 0.9\n",
      "    videoInfoStorePath: !!python/unicode '/video'\n",
      "    wormAreaThresholdRange: [0.5, 1.5]\n",
      "    wormDiskRadius: 2\n",
      "  outputPrefix: !!python/unicode 'N2_1_'\n",
      "  pixelSize: 0.04531953691910917\n",
      "  resultsStoreFile: !!python/unicode './sample/short_test.h5'\n",
      "  resultsStorePath: /worms\n",
      "  strainName: !!python/unicode 'N2'\n",
      "  videoFile: !!python/unicode './sample/short_test.avi'\n",
      "  wormName: '1'\n",
      "- !!python/object:wormtracker.WormVideoRegion\n",
      "  cropRegion: [899.531263589859, 140.3625190258026, 392.765625, 419.484375]\n",
      "  foodCircle: [1095.914076089859, 358.1203315258026, 102.0397423006794]\n",
      "  frameRate: 11.5\n",
      "  frameSize: *id001\n",
      "  imageProcessor: *id002\n",
      "  outputPrefix: !!python/unicode 'N2_2_'\n",
      "  pixelSize: 0.04531953691910917\n",
      "  resultsStoreFile: !!python/unicode './sample/short_test.h5'\n",
      "  resultsStorePath: /worms\n",
      "  strainName: !!python/unicode 'N2'\n",
      "  videoFile: !!python/unicode './sample/short_test.avi'\n",
      "  wormName: '2'\n",
      "- !!python/object:wormtracker.WormVideoRegion\n",
      "  cropRegion: [1514.062513589859, 156.3937690258026, 382.078125, 422.15625]\n",
      "  foodCircle: [1690.406263589859, 338.0812690258026, 96.37286825828173]\n",
      "  frameRate: 11.5\n",
      "  frameSize: *id001\n",
      "  imageProcessor: *id002\n",
      "  outputPrefix: !!python/unicode 'N2_3_'\n",
      "  pixelSize: 0.04531953691910917\n",
      "  resultsStoreFile: !!python/unicode './sample/short_test.h5'\n",
      "  resultsStorePath: /worms\n",
      "  strainName: !!python/unicode 'N2'\n",
      "  videoFile: !!python/unicode './sample/short_test.avi'\n",
      "  wormName: '3'\n",
      "- !!python/object:wormtracker.WormVideoRegion\n",
      "  cropRegion: [2011.031263589859, 159.0656440258026, 376.734375, 424.828125]\n",
      "  foodCircle: [2187.375013589859, 354.1125190258026, 98.24364841110595]\n",
      "  frameRate: 11.5\n",
      "  frameSize: *id001\n",
      "  imageProcessor: *id002\n",
      "  outputPrefix: !!python/unicode 'N2_4_'\n",
      "  pixelSize: 0.04531953691910917\n",
      "  resultsStoreFile: !!python/unicode './sample/short_test.h5'\n",
      "  resultsStorePath: /worms\n",
      "  strainName: !!python/unicode 'N2'\n",
      "  videoFile: !!python/unicode './sample/short_test.avi'\n",
      "  wormName: '4'\n",
      "frameRate: 12.0\n",
      "nFrames: 1201\n",
      "numberFrames: undefined\n",
      "pixelSize: 22.065538793675223\n",
      "pixelsPerMicron: 0.04531953691910917\n",
      "referenceDistance: 25000\n",
      "resultsStorePath: /worms\n",
      "storeFile: !!python/unicode './sample/short_test.h5'\n",
      "videoFile: !!python/unicode './sample/short_test.avi'\n",
      "videoInfoStorePath: /video\n",
      "wormImageProcessor: !!python/object:wormtracker.wormimageprocessor.WormImageProcessor\n",
      "  backgroundDiskRadius: 5\n",
      "  compactnessThreshold: 10\n",
      "  expectedWormLength: 1000\n",
      "  expectedWormWidth: 50\n",
      "  frameRate: 11.5\n",
      "  holeAreaThreshold: 10\n",
      "  numberOfPosturePoints: -1\n",
      "  pixelSize: 0.04531953691910917\n",
      "  threshold: 0.9\n",
      "  wormAreaThresholdRange: [0.5, 1.5]\n",
      "  wormDiskRadius: 2\n",
      "\n",
      "\"\"\""
     ],
     "language": "python",
     "metadata": {},
     "outputs": [],
     "prompt_number": 30
    },
    {
     "cell_type": "code",
     "collapsed": false,
     "input": [
      "params = yaml.load(paramYAML)\n",
      "params"
     ],
     "language": "python",
     "metadata": {},
     "outputs": [
      {
       "metadata": {},
       "output_type": "pyout",
       "prompt_number": 31,
       "text": [
        "{'configFile': u'./sample/short_test_new.yml',\n",
        " 'cropRegions': [<wormtracker.WormVideoRegion at 0x7f9cc20b6b90>,\n",
        "  <wormtracker.WormVideoRegion at 0x7f9cc20b6bd0>,\n",
        "  <wormtracker.WormVideoRegion at 0x7f9cc20b6a10>,\n",
        "  <wormtracker.WormVideoRegion at 0x7f9cc20b6c10>],\n",
        " 'frameRate': 12.0,\n",
        " 'nFrames': 1201,\n",
        " 'numberFrames': 'undefined',\n",
        " 'pixelSize': 22.065538793675223,\n",
        " 'pixelsPerMicron': 0.04531953691910917,\n",
        " 'referenceDistance': 25000,\n",
        " 'resultsStorePath': '/worms',\n",
        " 'storeFile': u'./sample/short_test.h5',\n",
        " 'videoFile': u'./sample/short_test.avi',\n",
        " 'videoInfoStorePath': '/video',\n",
        " 'wormImageProcessor': <wormtracker.wormimageprocessor.WormImageProcessor instance at 0x7f9cc20bd098>}"
       ]
      }
     ],
     "prompt_number": 31
    },
    {
     "cell_type": "code",
     "collapsed": false,
     "input": [
      "vars(params['cropRegions'][0].imageProcessor)"
     ],
     "language": "python",
     "metadata": {},
     "outputs": [
      {
       "metadata": {},
       "output_type": "pyout",
       "prompt_number": 32,
       "text": [
        "{'backgroundDiskRadius': 5,\n",
        " 'compactnessThreshold': 10,\n",
        " 'expectedWormLength': 1000,\n",
        " 'expectedWormWidth': 70,\n",
        " 'frameRate': 11.5,\n",
        " 'holeAreaThreshold': 10,\n",
        " 'numberOfPosturePoints': 30,\n",
        " 'pixelSize': 0.04531953691910917,\n",
        " 'resultsStorePath': u'/worms',\n",
        " 'threshold': 0.9,\n",
        " 'videoInfoStorePath': u'/video',\n",
        " 'wormAreaThresholdRange': [0.5, 1.5],\n",
        " 'wormDiskRadius': 2}"
       ]
      }
     ],
     "prompt_number": 32
    }
   ],
   "metadata": {}
  }
 ]
}