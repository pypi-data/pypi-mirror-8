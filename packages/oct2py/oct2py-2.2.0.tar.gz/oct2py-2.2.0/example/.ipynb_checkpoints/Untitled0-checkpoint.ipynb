{
 "metadata": {
  "name": "",
  "signature": "sha256:f786e933637b4f3f6d9cecf51811e29355211608dde812b00897f3c741993e3e"
 },
 "nbformat": 3,
 "nbformat_minor": 0,
 "worksheets": []
}