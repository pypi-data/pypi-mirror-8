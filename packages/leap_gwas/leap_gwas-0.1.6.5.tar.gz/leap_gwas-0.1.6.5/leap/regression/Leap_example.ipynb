{
 "metadata": {
  "name": "",
  "signature": "sha256:b47f320f2052f603f7ebea9349053b8348fc46af0ff0893ddc407a572079d585"
 },
 "nbformat": 3,
 "nbformat_minor": 0,
 "worksheets": [
  {
   "cells": [
    {
     "cell_type": "heading",
     "level": 1,
     "metadata": {},
     "source": [
      "LEAP Manual"
     ]
    },
    {
     "cell_type": "heading",
     "level": 6,
     "metadata": {},
     "source": [
      "December 26, 2014"
     ]
    },
    {
     "cell_type": "markdown",
     "metadata": {},
     "source": [
      "LEAP is a framework for genome-wide association studies (GWAS) of ascertained case-control studies. LEAP works by estimating latent liability values for every individual, and then treating these values as continuous phenotypes. Please see the [LEAP Github page](https://github.com/omerwe/LEAP/) for installation instructions and for a full documentation of LEAP.\n",
      "\n",
      "LEAP uses the packages [pysnptools](https://github.com/MicrosoftGenomics/PySnpTools) and [FaSTLMM](https://github.com/MicrosoftGenomics/FaST-LMM) for data processing and GWAS analysis. Before reading this notebook, it is recommended to read the [FaSTLMM Ipython  notebook](http://nbviewer.ipython.org/github/MicrosoftGenomics/FaST-LMM/blob/master/doc/ipynb/FaST-LMM.ipynb), \n",
      "which demonstrates how one can perform GWAS of continuous phenotypes. This notebook explains how to adapt the analyses described there for ascertained case-control studies.\n",
      "\n",
      "The LEAP procedure is composed of five stages:\n",
      "1. Finding a set of individuals who are related to other individuals in the study. LEAP employs a greedy algorithm to find a small subset of such individuals, such that after their exclusion, there are no related individuals in the study. These individuals are excluded from the analysis in stages 3 and 4 below, but after fitting a model in stage 4, their liabilities are estimated along with other indviduals. All individuals are considered in the GWAS stage (stage 5).\n",
      "2. Computing an eigendecomposition for every excluded chromosome, consisting of all SNPs on all chromosomes except for the excluded one.\n",
      "3. Estimating the heritability explained by each set of chromosomes (with one chromosome excluded), using the method of [Golan et al.](http://www.pnas.org/content/111/49/E5272.abstract).\n",
      "4. Estimating the latent liability value of every individual via Probit regression.\n",
      "5. Testing SNPs on the excluded chromosome for association with the estimated liabilities.\n",
      "\n",
      "The following Python code demonstrates the LEAP procedure in detail on a small synthetic data set.\n",
      "The dataset was simulated with 50% heritability and  0.1% prevalence. It included 500 cases, 500 controls, 499 causal SNPs and 10000 SNPs differentiated with FST=0.01. Causal SNPs are called csnp[i].\n",
      "The original liabilities for this file are available in the file dataset1.phe.liab (but this file is not used by LEAP).\n",
      "The code should be run from the \"regression\" directory in the LEAP package.\n",
      "\n",
      "We note that it is also possible to run LEAP via executable Python scripts. Please see the [LEAP Github page](https://github.com/omerwe/LEAP/) for detailed instructions, and the file \"leap_pipeline.sh\" in the \"regression\" directory of the LEAP package for a usage example.\n"
     ]
    },
    {
     "cell_type": "heading",
     "level": 4,
     "metadata": {},
     "source": [
      "Code and Data preparation"
     ]
    },
    {
     "cell_type": "markdown",
     "metadata": {},
     "source": [
      "We start by importing all the required packages, setting notebook parameters and pointing to the data."
     ]
    },
    {
     "cell_type": "code",
     "collapsed": false,
     "input": [
      "#import packages\n",
      "import pandas as pd\n",
      "import numpy as np\n",
      "import leap.leapUtils as leapUtils\n",
      "import leap.leapMain as leapMain\n",
      "from pysnptools.snpreader.bed import Bed\n",
      "from fastlmm.util.stats import plotp\n",
      "import fastlmm.association as association\n",
      "import pylab\n",
      "import logging\n"
     ],
     "language": "python",
     "metadata": {},
     "outputs": [
      {
       "output_type": "stream",
       "stream": "stderr",
       "text": [
        "D:\\Anaconda\\Lib\\site-packages\\matplotlib\\__init__.py:1256: UserWarning:  This call to matplotlib.use() has no effect\n",
        "because the backend has already been chosen;\n",
        "matplotlib.use() must be called *before* pylab, matplotlib.pyplot,\n",
        "or matplotlib.backends is imported for the first time.\n",
        "\n",
        "  warnings.warn(_use_error_msg)\n"
       ]
      }
     ],
     "prompt_number": 1
    },
    {
     "cell_type": "code",
     "collapsed": false,
     "input": [
      "# set some ipython notebook properties\n",
      "%matplotlib inline\n",
      "\n",
      "# set degree of verbosity (adapt to INFO for more verbose output)\n",
      "logging.basicConfig(level=logging.WARNING)\n",
      "\n",
      "# set figure sizes\n",
      "pylab.rcParams['figure.figsize'] = (10.0, 8.0)\n",
      "\n",
      "# set display width for pandas data frames\n",
      "pd.set_option('display.width', 1000)"
     ],
     "language": "python",
     "metadata": {},
     "outputs": [],
     "prompt_number": 2
    },
    {
     "cell_type": "code",
     "collapsed": false,
     "input": [
      "#Define analysis data\n",
      "bfile = 'dataset1/dataset1'\n",
      "phenoFile = bfile+'.phe'\n",
      "chromosomes = xrange(1,11)\n",
      "prevalence = 0.001\n",
      "bed = Bed(bfile).read().standardize()\n",
      "causalSNPs = [s for s in bed.sid if 'csnp' in s] #These are the names of the causal SNPs"
     ],
     "language": "python",
     "metadata": {},
     "outputs": [],
     "prompt_number": 3
    },
    {
     "cell_type": "heading",
     "level": 4,
     "metadata": {},
     "source": [
      "Simple Linear Regression Analysis"
     ]
    },
    {
     "cell_type": "markdown",
     "metadata": {},
     "source": [
      "We first attempt to perform association testing via a simple linear regression, by treating the case-control phenotype as if it were continuous. We note that it is more appropriate to use a generalized linear model (e.g. logistic regression). However, in this demonstration we use a linear regression model, because it is much faster, and often yields results very similar to logistic regression in balanced case-control studies."
     ]
    },
    {
     "cell_type": "code",
     "collapsed": false,
     "input": [
      "#Analyze the data with simple linear regression\n",
      "linreg_df = leapUtils.linreg(bfile, phenoFile)\n",
      "\n",
      "#print the top 10 ranking SNPs\n",
      "print linreg_df.head(n=10)"
     ],
     "language": "python",
     "metadata": {},
     "outputs": [
      {
       "output_type": "stream",
       "stream": "stdout",
       "text": [
        "       SNP  Chr  GenDist  ChrPos        PValue\n",
        "0   csnp48    3        0       0  4.894914e-10\n",
        "1  csnp191    3      140     140  4.405043e-08\n",
        "2  csnp253    4      330     330  1.435530e-06\n",
        "3  csnp309    7      310     310  1.936628e-06\n",
        "4  csnp366    6      300     300  2.103015e-06\n",
        "5   csnp81    7       90      90  2.255680e-06\n",
        "6  csnp345    8      340     340  2.482452e-06\n",
        "7  csnp389    3      390     390  5.301356e-06\n",
        "8  csnp244    7      230     230  6.157386e-06\n",
        "9  csnp250    5      280     280  6.977496e-06\n"
       ]
      }
     ],
     "prompt_number": 4
    },
    {
     "cell_type": "code",
     "collapsed": false,
     "input": [
      "# qq plot for non-causal SNPs only\n",
      "nocsnps_df = linreg_df[~(linreg_df['SNP'].str.contains(\"csnp\"))]\n",
      "plotp.qqplot(nocsnps_df[\"PValue\"].values, xlim=[0,5], ylim=[0,5], title=\"Simple Linear Regression, non-causal SNPs\")\n",
      "pylab.show()"
     ],
     "language": "python",
     "metadata": {},
     "outputs": [
      {
       "output_type": "stream",
       "stream": "stdout",
       "text": [
        "lambda=1.5553\n"
       ]
      },
      {
       "metadata": {},
       "output_type": "display_data",
       "png": "[encoded data removed]",
       "text": [
        "<matplotlib.figure.Figure at 0x174442e8>"
       ]
      }
     ],
     "prompt_number": 5
    },
    {
     "cell_type": "markdown",
     "metadata": {},
     "source": [
      "The Q-Q plot demonstrates that the linear regression model suffers from severe inflation, and cannot control for type I error. We therefore turn to use a linear mixed model (LMM) instead."
     ]
    },
    {
     "cell_type": "heading",
     "level": 4,
     "metadata": {},
     "source": [
      "Standard LMM Analysis"
     ]
    },
    {
     "cell_type": "markdown",
     "metadata": {},
     "source": [
      "We now perform an analysis using an LMM. LMMs are designed for continuous phenotype studies, but are often used to analyze confounded case-control studies as well, because they are highly robust to type I errors due to confounding.\n",
      "We perform a leave-one-chromosome-out (LOCO) analysis to prevent proximal contamination. Thus, in the analysis of each SNP, we control for confounding by conditioning on all SNPs, except for the ones on the tested chromosome."
     ]
    },
    {
     "cell_type": "code",
     "collapsed": false,
     "input": [
      "#Naively analyze the case-control data via an LMM as if it were continuous\n",
      "naiveLMM_df = association.single_snp_leave_out_one_chrom(bfile, phenoFile) \n",
      "\n",
      "#print 'Top 10 most associated SNPs:'\n",
      "print naiveLMM_df.head(n=10)"
     ],
     "language": "python",
     "metadata": {},
     "outputs": [
      {
       "output_type": "stream",
       "stream": "stdout",
       "text": [
        "       SNP  Chr  GenDist  ChrPos        PValue  SnpWeight  SnpWeightSE  NullLogDelta\n",
        "0   csnp48    3        0       0  1.779753e-08  -0.081166     0.014293            -5\n",
        "1  csnp191    3      140     140  3.109763e-07  -0.073400     0.014248            -5\n",
        "2  csnp132    5      150     150  1.152797e-05   0.063249     0.014347            -5\n",
        "3  snp1419    8     1330    1330  1.446491e-05   0.061527     0.014117            -5\n",
        "4  csnp253    4      330     330  1.574784e-05   0.061869     0.014258            -5\n",
        "5  csnp449    8      450     450  2.150155e-05  -0.060615     0.014198            -5\n",
        "6  snp3412    9     3210    3210  4.255551e-05   0.057628     0.014017            -5\n",
        "7  csnp389    3      390     390  5.295321e-05   0.059238     0.014591            -5\n",
        "8   csnp81    7       90      90  7.491180e-05  -0.057288     0.014406            -5\n",
        "9  csnp250    5      280     280  8.015306e-05   0.057014     0.014396            -5\n"
       ]
      }
     ],
     "prompt_number": 6
    },
    {
     "cell_type": "code",
     "collapsed": false,
     "input": [
      "# qq plot for non-causal SNPs only\n",
      "nocsnps_df = naiveLMM_df[~(naiveLMM_df['SNP'].str.contains(\"csnp\"))]\n",
      "plotp.qqplot(nocsnps_df[\"PValue\"].values, xlim=[0,5], ylim=[0,5], title=\"Standard LMM, non-causal SNPs\")\n",
      "pylab.show()"
     ],
     "language": "python",
     "metadata": {},
     "outputs": [
      {
       "output_type": "stream",
       "stream": "stdout",
       "text": [
        "lambda=1.0178\n"
       ]
      },
      {
       "metadata": {},
       "output_type": "display_data",
       "png": "[encoded data removed]",
       "text": [
        "<matplotlib.figure.Figure at 0x1f1560b8>"
       ]
      }
     ],
     "prompt_number": 7
    },
    {
     "cell_type": "code",
     "collapsed": false,
     "input": [
      "#Power plot for LMM analysis\n",
      "leapUtils.powerPlot(naiveLMM_df, causalSNPs, title='Standard LMM Power Curve')"
     ],
     "language": "python",
     "metadata": {},
     "outputs": [
      {
       "metadata": {},
       "output_type": "display_data",
       "png": "[encoded data removed]",
       "text": [
        "<matplotlib.figure.Figure at 0x1edebcc0>"
       ]
      }
     ],
     "prompt_number": 8
    },
    {
     "cell_type": "markdown",
     "metadata": {},
     "source": [
      "The LMM properly controls for type I errors. However, we may lose power by naively treating the case-control status as if were continuous. We now try to use LEAP, which computes continuous liability values for all individuals in the study, and then tests for association with these values via an LMM."
     ]
    },
    {
     "cell_type": "heading",
     "level": 3,
     "metadata": {},
     "source": [
      "LEAP"
     ]
    },
    {
     "cell_type": "markdown",
     "metadata": {},
     "source": [
      "We begin by performing a greedy algorithm to find and exclude related individuals (stage 1 of the 5 LEAP stages) from subsequent stages."
     ]
    },
    {
     "cell_type": "code",
     "collapsed": false,
     "input": [
      "#1. Find individuals to exclude to eliminate relatedness (kinship coeff > 0.05)\n",
      "indsToKeep = leapUtils.findRelated(bed, cutoff=0.05)"
     ],
     "language": "python",
     "metadata": {},
     "outputs": [
      {
       "output_type": "stream",
       "stream": "stdout",
       "text": [
        "Computing kinship matrix...\n",
        "Done in 1.34"
       ]
      },
      {
       "output_type": "stream",
       "stream": "stdout",
       "text": [
        " seconds\n",
        "Marking 54 individuals to be removed due to high relatedness\n"
       ]
      }
     ],
     "prompt_number": 9
    },
    {
     "cell_type": "markdown",
     "metadata": {},
     "source": [
      "We now run a loop over each chromosome. For each chromosome, we compute an eigendecomposition of the kinship matrix consisting of all SNPs on the other chromosomes (stage 2 of the LEAP procedure), estimate heritability and liabilities using all other chromosomes (stages 3-4 of the LEAP procedure) and then test for association with the estimated liabilities (stage 5 of the procedure)."
     ]
    },
    {
     "cell_type": "code",
     "collapsed": false,
     "input": [
      "#Iterate over each chromosome\n",
      "frame_list = []\n",
      "for chrom in chromosomes:\n",
      "    print\n",
      "    print 'Analyzing chromosome', chrom, '...'\n",
      "\n",
      "    #Create a bed object excluding SNPs from the current chromosome\n",
      "    bedExclude = leapUtils.getExcludedChromosome(bfile, chrom)\n",
      "\n",
      "    #Create a bed object including only SNPs from the current chromosome\n",
      "    bedTest = leapUtils.getChromosome(bfile, chrom)\t\n",
      "\n",
      "    #2. Compute eigendecomposition for the data\n",
      "    eigenFile = 'temp_eigen.npz'\n",
      "    eigen = leapMain.eigenDecompose(bedExclude, outFile=eigenFile)\t\n",
      "\n",
      "    #3. compute heritability explained by this data\n",
      "    h2 = leapMain.calcH2(phenoFile, prevalence, eigen, keepArr=indsToKeep, h2coeff=1.0)\n",
      "\n",
      "    #4. Compute liabilities explained by this data\n",
      "    liabs = leapMain.probit(bedExclude, phenoFile, h2, prevalence, eigen, keepArr=indsToKeep)\n",
      "\n",
      "    #5. perform GWAS, using the liabilities as the observed phenotypes\n",
      "    results_df = leapMain.leapGwas(bedExclude, bedTest, liabs, h2)\n",
      "    frame_list.append(results_df)"
     ],
     "language": "python",
     "metadata": {},
     "outputs": [
      {
       "output_type": "stream",
       "stream": "stdout",
       "text": [
        "\n",
        "Analyzing chromosome 1 ...\n",
        "Computing kinship matrix..."
       ]
      },
      {
       "output_type": "stream",
       "stream": "stdout",
       "text": [
        "\n",
        "Done in 1.25"
       ]
      },
      {
       "output_type": "stream",
       "stream": "stdout",
       "text": [
        " seconds\n",
        "Computing eigendecomposition...\n",
        "Done in 0.86"
       ]
      },
      {
       "output_type": "stream",
       "stream": "stdout",
       "text": [
        " seconds\n",
        "Removing the top"
       ]
      },
      {
       "output_type": "stream",
       "stream": "stdout",
       "text": [
        " 10 PCs from the kinship matrix\n",
        "Computing h2 for a binary phenotype\n",
        "h2: 0.457940"
       ]
      },
      {
       "output_type": "stream",
       "stream": "stdout",
       "text": [
        "\n",
        "Beginning Probit regression..."
       ]
      },
      {
       "output_type": "stream",
       "stream": "stdout",
       "text": [
        "\n",
        "Done in"
       ]
      },
      {
       "output_type": "stream",
       "stream": "stdout",
       "text": [
        " 0.11 seconds\n",
        "Performing LEAP GWAS...\n",
        "\n"
       ]
      },
      {
       "output_type": "stream",
       "stream": "stdout",
       "text": [
        "Analyzing chromosome 2 ...\n",
        "Computing kinship matrix..."
       ]
      },
      {
       "output_type": "stream",
       "stream": "stdout",
       "text": [
        "\n",
        "Done in 1.04"
       ]
      },
      {
       "output_type": "stream",
       "stream": "stdout",
       "text": [
        " seconds\n",
        "Computing eigendecomposition...\n",
        "Done in 1.02"
       ]
      },
      {
       "output_type": "stream",
       "stream": "stdout",
       "text": [
        " seconds\n",
        "Removing the top"
       ]
      },
      {
       "output_type": "stream",
       "stream": "stdout",
       "text": [
        " 10 PCs from the kinship matrix\n",
        "Computing h2 for a binary phenotype\n",
        "h2: 0.465129"
       ]
      },
      {
       "output_type": "stream",
       "stream": "stdout",
       "text": [
        "\n",
        "Beginning Probit regression..."
       ]
      },
      {
       "output_type": "stream",
       "stream": "stdout",
       "text": [
        "\n",
        "Done in"
       ]
      },
      {
       "output_type": "stream",
       "stream": "stdout",
       "text": [
        " 0.12 seconds\n",
        "Performing LEAP GWAS...\n",
        "\n"
       ]
      },
      {
       "output_type": "stream",
       "stream": "stdout",
       "text": [
        "Analyzing chromosome 3 ...\n",
        "Computing kinship matrix..."
       ]
      },
      {
       "output_type": "stream",
       "stream": "stdout",
       "text": [
        "\n",
        "Done in 1.05"
       ]
      },
      {
       "output_type": "stream",
       "stream": "stdout",
       "text": [
        " seconds\n",
        "Computing eigendecomposition...\n",
        "Done in 0.84"
       ]
      },
      {
       "output_type": "stream",
       "stream": "stdout",
       "text": [
        " seconds\n",
        "Removing the top"
       ]
      },
      {
       "output_type": "stream",
       "stream": "stdout",
       "text": [
        " 10 PCs from the kinship matrix\n",
        "Computing h2 for a binary phenotype\n",
        "h2: 0.460831"
       ]
      },
      {
       "output_type": "stream",
       "stream": "stdout",
       "text": [
        "\n",
        "Beginning Probit regression..."
       ]
      },
      {
       "output_type": "stream",
       "stream": "stdout",
       "text": [
        "\n",
        "Done in"
       ]
      },
      {
       "output_type": "stream",
       "stream": "stdout",
       "text": [
        " 0.12 seconds\n",
        "Performing LEAP GWAS...\n",
        "\n"
       ]
      },
      {
       "output_type": "stream",
       "stream": "stdout",
       "text": [
        "Analyzing chromosome 4 ...\n",
        "Computing kinship matrix..."
       ]
      },
      {
       "output_type": "stream",
       "stream": "stdout",
       "text": [
        "\n",
        "Done in 1.16"
       ]
      },
      {
       "output_type": "stream",
       "stream": "stdout",
       "text": [
        " seconds\n",
        "Computing eigendecomposition...\n",
        "Done in 0.88"
       ]
      },
      {
       "output_type": "stream",
       "stream": "stdout",
       "text": [
        " seconds\n",
        "Removing the top"
       ]
      },
      {
       "output_type": "stream",
       "stream": "stdout",
       "text": [
        " 10 PCs from the kinship matrix\n",
        "Computing h2 for a binary phenotype\n",
        "h2: 0.448058"
       ]
      },
      {
       "output_type": "stream",
       "stream": "stdout",
       "text": [
        "\n",
        "Beginning Probit regression..."
       ]
      },
      {
       "output_type": "stream",
       "stream": "stdout",
       "text": [
        "\n",
        "Done in"
       ]
      },
      {
       "output_type": "stream",
       "stream": "stdout",
       "text": [
        " 0.12 seconds\n",
        "Performing LEAP GWAS...\n",
        "\n"
       ]
      },
      {
       "output_type": "stream",
       "stream": "stdout",
       "text": [
        "Analyzing chromosome 5 ...\n",
        "Computing kinship matrix..."
       ]
      },
      {
       "output_type": "stream",
       "stream": "stdout",
       "text": [
        "\n",
        "Done in 1.39"
       ]
      },
      {
       "output_type": "stream",
       "stream": "stdout",
       "text": [
        " seconds\n",
        "Computing eigendecomposition...\n",
        "Done in 0.97"
       ]
      },
      {
       "output_type": "stream",
       "stream": "stdout",
       "text": [
        " seconds\n",
        "Removing the top"
       ]
      },
      {
       "output_type": "stream",
       "stream": "stdout",
       "text": [
        " 10 PCs from the kinship matrix\n",
        "Computing h2 for a binary phenotype"
       ]
      },
      {
       "output_type": "stream",
       "stream": "stdout",
       "text": [
        "\n",
        "h2: 0.433674"
       ]
      },
      {
       "output_type": "stream",
       "stream": "stdout",
       "text": [
        "\n",
        "Beginning Probit regression..."
       ]
      },
      {
       "output_type": "stream",
       "stream": "stdout",
       "text": [
        "\n",
        "Done in"
       ]
      },
      {
       "output_type": "stream",
       "stream": "stdout",
       "text": [
        " 0.11 seconds\n",
        "Performing LEAP GWAS...\n",
        "\n"
       ]
      },
      {
       "output_type": "stream",
       "stream": "stdout",
       "text": [
        "Analyzing chromosome 6 ...\n",
        "Computing kinship matrix..."
       ]
      },
      {
       "output_type": "stream",
       "stream": "stdout",
       "text": [
        "\n",
        "Done in 1.27"
       ]
      },
      {
       "output_type": "stream",
       "stream": "stdout",
       "text": [
        " seconds\n",
        "Computing eigendecomposition...\n",
        "Done in 1.43"
       ]
      },
      {
       "output_type": "stream",
       "stream": "stdout",
       "text": [
        " seconds\n",
        "Removing the top"
       ]
      },
      {
       "output_type": "stream",
       "stream": "stdout",
       "text": [
        " 10 PCs from the kinship matrix\n",
        "Computing h2 for a binary phenotype\n",
        "h2: 0.460130"
       ]
      },
      {
       "output_type": "stream",
       "stream": "stdout",
       "text": [
        "\n",
        "Beginning Probit regression..."
       ]
      },
      {
       "output_type": "stream",
       "stream": "stdout",
       "text": [
        "\n",
        "Done in"
       ]
      },
      {
       "output_type": "stream",
       "stream": "stdout",
       "text": [
        " 0.12 seconds\n",
        "Performing LEAP GWAS...\n",
        "\n"
       ]
      },
      {
       "output_type": "stream",
       "stream": "stdout",
       "text": [
        "Analyzing chromosome 7 ...\n",
        "Computing kinship matrix..."
       ]
      },
      {
       "output_type": "stream",
       "stream": "stdout",
       "text": [
        "\n",
        "Done in 1.23"
       ]
      },
      {
       "output_type": "stream",
       "stream": "stdout",
       "text": [
        " seconds\n",
        "Computing eigendecomposition...\n",
        "Done in 1.03"
       ]
      },
      {
       "output_type": "stream",
       "stream": "stdout",
       "text": [
        " seconds\n",
        "Removing the top"
       ]
      },
      {
       "output_type": "stream",
       "stream": "stdout",
       "text": [
        " 10 PCs from the kinship matrix\n",
        "Computing h2 for a binary phenotype\n",
        "h2: 0.460162"
       ]
      },
      {
       "output_type": "stream",
       "stream": "stdout",
       "text": [
        "\n",
        "Beginning Probit regression..."
       ]
      },
      {
       "output_type": "stream",
       "stream": "stdout",
       "text": [
        "\n",
        "Done in"
       ]
      },
      {
       "output_type": "stream",
       "stream": "stdout",
       "text": [
        " 0.13 seconds\n",
        "Performing LEAP GWAS...\n",
        "\n"
       ]
      },
      {
       "output_type": "stream",
       "stream": "stdout",
       "text": [
        "Analyzing chromosome 8 ...\n",
        "Computing kinship matrix..."
       ]
      },
      {
       "output_type": "stream",
       "stream": "stdout",
       "text": [
        "\n",
        "Done in 0.92"
       ]
      },
      {
       "output_type": "stream",
       "stream": "stdout",
       "text": [
        " seconds\n",
        "Computing eigendecomposition...\n",
        "Done in 0.79"
       ]
      },
      {
       "output_type": "stream",
       "stream": "stdout",
       "text": [
        " seconds\n",
        "Removing the top"
       ]
      },
      {
       "output_type": "stream",
       "stream": "stdout",
       "text": [
        " 10 PCs from the kinship matrix\n",
        "Computing h2 for a binary phenotype"
       ]
      },
      {
       "output_type": "stream",
       "stream": "stdout",
       "text": [
        "\n",
        "h2: 0.482879"
       ]
      },
      {
       "output_type": "stream",
       "stream": "stdout",
       "text": [
        "\n",
        "Beginning Probit regression..."
       ]
      },
      {
       "output_type": "stream",
       "stream": "stdout",
       "text": [
        "\n",
        "Done in"
       ]
      },
      {
       "output_type": "stream",
       "stream": "stdout",
       "text": [
        " 0.13 seconds\n",
        "Performing LEAP GWAS...\n",
        "\n"
       ]
      },
      {
       "output_type": "stream",
       "stream": "stdout",
       "text": [
        "Analyzing chromosome 9 ...\n",
        "Computing kinship matrix..."
       ]
      },
      {
       "output_type": "stream",
       "stream": "stdout",
       "text": [
        "\n",
        "Done in 1.15"
       ]
      },
      {
       "output_type": "stream",
       "stream": "stdout",
       "text": [
        " seconds\n",
        "Computing eigendecomposition...\n",
        "Done in 0.90"
       ]
      },
      {
       "output_type": "stream",
       "stream": "stdout",
       "text": [
        " seconds\n",
        "Removing the top"
       ]
      },
      {
       "output_type": "stream",
       "stream": "stdout",
       "text": [
        " 10 PCs from the kinship matrix\n",
        "Computing h2 for a binary phenotype\n",
        "h2: 0.470872"
       ]
      },
      {
       "output_type": "stream",
       "stream": "stdout",
       "text": [
        "\n",
        "Beginning Probit regression..."
       ]
      },
      {
       "output_type": "stream",
       "stream": "stdout",
       "text": [
        "\n",
        "Done in"
       ]
      },
      {
       "output_type": "stream",
       "stream": "stdout",
       "text": [
        " 0.15 seconds\n",
        "Performing LEAP GWAS...\n",
        "\n"
       ]
      },
      {
       "output_type": "stream",
       "stream": "stdout",
       "text": [
        "Analyzing chromosome 10 ...\n",
        "Computing kinship matrix..."
       ]
      },
      {
       "output_type": "stream",
       "stream": "stdout",
       "text": [
        "\n",
        "Done in 0.91"
       ]
      },
      {
       "output_type": "stream",
       "stream": "stdout",
       "text": [
        " seconds\n",
        "Computing eigendecomposition...\n",
        "Done in 0.84"
       ]
      },
      {
       "output_type": "stream",
       "stream": "stdout",
       "text": [
        " seconds\n",
        "Removing the top"
       ]
      },
      {
       "output_type": "stream",
       "stream": "stdout",
       "text": [
        " 10 PCs from the kinship matrix\n",
        "Computing h2 for a binary phenotype\n",
        "h2: 0.492799"
       ]
      },
      {
       "output_type": "stream",
       "stream": "stdout",
       "text": [
        "\n",
        "Beginning Probit regression..."
       ]
      },
      {
       "output_type": "stream",
       "stream": "stdout",
       "text": [
        "\n",
        "Done in"
       ]
      },
      {
       "output_type": "stream",
       "stream": "stdout",
       "text": [
        " 0.13 seconds\n",
        "Performing LEAP GWAS...\n"
       ]
      }
     ],
     "prompt_number": 10
    },
    {
     "cell_type": "markdown",
     "metadata": {},
     "source": [
      "We now join the results for all the chromosomes, and display the results."
     ]
    },
    {
     "cell_type": "code",
     "collapsed": false,
     "input": [
      "#Join together the results of all chromosomes, and print the top ranking SNPs\n",
      "leap_df = pd.concat(frame_list)\n",
      "leap_df.sort(\"PValue\", inplace=True)\n",
      "leap_df.index = np.arange(len(leap_df))\n",
      "print 'Top 10 most associated SNPs:'\n",
      "print leap_df.head(n=10)"
     ],
     "language": "python",
     "metadata": {},
     "outputs": [
      {
       "output_type": "stream",
       "stream": "stdout",
       "text": [
        "Top 10 most associated SNPs:\n",
        "       SNP  Chr  GenDist  ChrPos        PValue  SnpWeight  SnpWeightSE  NullLogDelta\n",
        "0   csnp48    3        0       0  7.548321e-09  -0.362539     0.062202      0.156998\n",
        "1  csnp191    3      140     140  8.086279e-09  -0.359522     0.061810      0.156998\n",
        "2  csnp253    4      330     330  1.819815e-06   0.296565     0.061771      0.208521\n",
        "3  csnp389    3      390     390  1.088394e-05   0.279377     0.063188      0.156998\n",
        "4  snp1419    8     1330    1330  1.357757e-05   0.274829     0.062855      0.068512\n",
        "5  csnp449    8      450     450  2.153346e-05  -0.269316     0.063090      0.068512\n",
        "6  csnp380    2      340     340  2.908695e-05   0.263239     0.062677      0.139710\n",
        "7  csnp250    5      280     280  3.058698e-05   0.258183     0.061643      0.266875\n",
        "8  snp1326    8     1270    1270  4.457615e-05   0.257467     0.062789      0.068512\n",
        "9  csnp366    6      300     300  4.887874e-05   0.256423     0.062867      0.159819\n"
       ]
      }
     ],
     "prompt_number": 11
    },
    {
     "cell_type": "code",
     "collapsed": false,
     "input": [
      "# qq plot for non-causal SNPs only\n",
      "nocsnps_df = leap_df[~(leap_df['SNP'].str.contains(\"csnp\"))]\n",
      "plotp.qqplot(nocsnps_df[\"PValue\"].values, xlim=[0,5], ylim=[0,5], title=\"LEAP, non-causal SNPs\")\n",
      "pylab.show()"
     ],
     "language": "python",
     "metadata": {},
     "outputs": [
      {
       "output_type": "stream",
       "stream": "stdout",
       "text": [
        "lambda=1.0126\n"
       ]
      },
      {
       "metadata": {},
       "output_type": "display_data",
       "png": "[encoded data removed]",
       "text": [
        "<matplotlib.figure.Figure at 0x1ede0908>"
       ]
      }
     ],
     "prompt_number": 12
    },
    {
     "cell_type": "code",
     "collapsed": false,
     "input": [
      "#Power plot for LEAP and for a standard LMM\n",
      "leapUtils.powerPlot(naiveLMM_df, causalSNPs, title='LMM')\n",
      "leapUtils.powerPlot(leap_df, causalSNPs)\n",
      "pylab.legend([\"LMM\", \"LEAP\"], loc='upper left')\n",
      "pylab.show()"
     ],
     "language": "python",
     "metadata": {},
     "outputs": [
      {
       "metadata": {},
       "output_type": "display_data",
       "png": "[encoded data removed]",
       "text": [
        "<matplotlib.figure.Figure at 0x1ede3e80>"
       ]
      }
     ],
     "prompt_number": 13
    },
    {
     "cell_type": "markdown",
     "metadata": {},
     "source": [
      "The results demonstrate that LEAP properly controls for type I error on the one hand, but is more powerful than a standard LMM on the other (for significance thresholds < 10^(-3.5)). The advantage here is relatively small due to the small data set size, but it substantially increases for larger data sets, as demonstrated in the paper."
     ]
    }
   ],
   "metadata": {}
  }
 ]
}